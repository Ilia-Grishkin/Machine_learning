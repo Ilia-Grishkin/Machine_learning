{
 "cells": [
  {
   "cell_type": "markdown",
   "id": "2cab73f2",
   "metadata": {},
   "source": [
    "# Housing Price Prediction Using Machine Learning Models"
   ]
  },
  {
   "cell_type": "markdown",
   "id": "06f208f1",
   "metadata": {},
   "source": [
    "## Content \n",
    "- [Introduction](#intro)\n",
    "- [Importance](#importance)\n",
    "- [Data sourse and methods](#sourse)\n",
    "- [Timeline](#timeline)\n",
    "- [References](#refs)"
   ]
  },
  {
   "cell_type": "markdown",
   "id": "f3d0fc54",
   "metadata": {},
   "source": [
    "# Introduction"
   ]
  },
  {
   "cell_type": "markdown",
   "id": "083d3537",
   "metadata": {},
   "source": [
    "The main problem which may be associated with Ireland’s economy is currently experiencing severe housing crisis. Housing prices is big part of a country's economy and it affects many others sectors. This issue has deep roots, as was mentioned by Nowlan (2016) and Scuffil (2022), this crisis is going back to 1900s.\n",
    "\n",
    "Lyons, R. (2018) point out that property market is a regular topic of national attention in Ireland. For majority house owners their house is most valuable assets.\n",
    "\n",
    "Ireland's economy has been suffering one of the most severe housing busts of the global financial crisis (Norris and Byrne M. (2017), however in recent years been represented as having recovered economically (Nowicki et al.,\n",
    "2019). Since 2013, Irish house prices have increased by 50%, while rent rates have grown by over 60% according to Byrne  M. (2020).\n",
    "\n",
    "The pricing of houses is being affected by many different factors, such as the location of the house, the features in the house and condition Phan, T. (2019).\n",
    "\n",
    "Many factors may affect the prices of hosing. These factors, as well as other parameters such as the materials used for building, number of bedrooms, living area, location, upcoming projects and proximity as was noted by Bourassa, Cantoni and Hoesli (2011).\n",
    "\n",
    "The prediction of housing sale price may be considered as an essential economic metric. The value of a house that grows with time requires the estimated value to be calculated as this value is required for sale, purchase or even mortgage. (Shinde and Gawande, 2018)."
   ]
  },
  {
   "cell_type": "markdown",
   "id": "b84432ee",
   "metadata": {},
   "source": [
    "## Literate review\n",
    "Before getting started, we should investigate recent researches, methods and results. It will helps us to undestand which methods we can use and which results we should expect.\n",
    "\n",
    "1. Aswin (2017) applied 6 different machine learning models to predict house prices in data set with 2000 records and 10 features. The author used 6 machine learning algorithms ,such as Random Forest, Neural Networks, Gradient Boosted, Bagging, Support Vector Machine and Multiple Regression. The best accuracy performed Random Forest with R-squared value of 90%.\n",
    "2. Hujia Yu and Jiafu Wu (2016), also were working on a price prediction model. They created a regression and classification models which are able to estimate the price of the house given the features. It was concluded that for classification models the best model is Support Vector Classifier with linear kernel. The model showed an accuracy of 0.6740 and after PCA was performed on the dataset it increased to 0.6913. For regression problem, the best model is  Support Vector Regression with gaussian kernel, with RMSE of 0.5271.\n",
    "3. Ng A. (2015) explored the use of machine learning methods for London house price prediction. Approach is used to create local models by comparing various regression methods. Gaussian method was found to be most efficient because its probabilistic approach to learning and model selection.\n"
   ]
  },
  {
   "cell_type": "markdown",
   "id": "854ffd08",
   "metadata": {},
   "source": [
    "## Research question\n",
    "\n",
    "Each dataset behaves differently.A machine learning model may work with high accuracy in one dataset, but perform poorly in another despite both of them were applied to similar data. Social and ecomonic data s very dinamic in contrast to phisical or chimical where approved theory can be reviewed only in unique circumstances.\n",
    "This implies that data related to economy or social sector should be reviewed preferably as soon as new data has come.\n",
    "\n",
    "This study is going to focus on applying different machine learning algorithms to Irish housing prices datasets, in order to understand which model gives the best accuracy.\n",
    "\n",
    "\n"
   ]
  },
  {
   "cell_type": "markdown",
   "id": "ce5e23f7",
   "metadata": {},
   "source": [
    "## Data sourse and methods"
   ]
  },
  {
   "cell_type": "markdown",
   "id": "b42f1d4f",
   "metadata": {},
   "source": [
    "### Data Source"
   ]
  },
  {
   "cell_type": "markdown",
   "id": "213f2588",
   "metadata": {},
   "source": [
    "### EDA\n",
    "Exploratory Data Analysis (EDA). \n",
    "It will help us to understand the structure of the dataset including the size, shape, properties and types of variables. Also identify patterns and relationships between variables. Additionally, EDA allows as to select appropriate techniques and models for our futher alalysis.\n",
    "For reaching those objectives we are going to use following approaches:\n",
    "#### 1. Summary statistics\n",
    "Mean, median, mode, standard deviation.\n",
    "#### 2. Data visualization\n",
    "Histograms, box plots, scatter plots.\n",
    "#### 3. Correlation analysis\n",
    "Pearson correlation coefficient.\n",
    "#### 4. Outlier detection: \n",
    "IQR (Interquartile Range)"
   ]
  },
  {
   "cell_type": "markdown",
   "id": "2e5e18c4",
   "metadata": {},
   "source": [
    "### Data preparation\n",
    "Data preparation process is a very stage in the data analysis, it includes several steps to ensure that the data is in a appreciate  format for analysis and modeling. Depending on the project stages of data preparation may vary. In this project we are going to perform following stages:\n",
    "\n",
    "1. Data Cleaning\n",
    "Removing duplicate records and handling missing values using techniques such as mean, median, mode or method K-nearest neighbors.Also fixing formatting issues.\n",
    "2. Data Transformation\n",
    "Converting categorical variables into numerical representations.\n",
    "3. Handling outliers:\n",
    "Detecting and dealing with outliers that may affect our analysis.\n",
    "4. Feature engineering:\n",
    "Creating new features using existing ones to capture additional information.\n",
    "5. Feature Selection:\n",
    "Identifying and selection only the most relevant features for the analysis."
   ]
  },
  {
   "cell_type": "markdown",
   "id": "3245f79b",
   "metadata": {},
   "source": [
    "### Machine Learning Models"
   ]
  },
  {
   "cell_type": "markdown",
   "id": "87f09ee0",
   "metadata": {},
   "source": [
    "# References \n",
    "\n",
    "1. Nowlan, B., (2015). Housing Supply in Ireland: Perennial Problems and Sustainable Solutions. Sunday Business Property Conference Paper 25.09.15\n",
    "2. Scuffil, C., (2022). Dublin’s Housing Crisis in Troubled Times. Dublin City Council Libraries Blog. Accessed on 03.09.22 at https://www.dublincity.ie/library/blog/dublins-housing-crisis-troubled-times\n",
    "3. Phan, T. D. (2019) ‘Housing price prediction using machine learning algorithms: The case of Melbourne city, Australia’, Proceedings - International Conference on Machine Learning and Data Engineering, iCMLDE 2018. IEEE, pp. 8–13. DOI: 10.1109/iCMLDE.2018.00017.\n",
    "4. Norris, M. & Byrne, M. (2017) A tale of two busts (and a boom): Irish social housing before and after the global financial crisis, Critical Housing Analysis, 4, pp. 19–28.\n",
    "5. Nowicki, M., Brickell, K. & Harris, E. (2019) The hotelisation of the housing crisis: Experiences of family homelessness in Dublin hotels, The Geographical Journal, 185, pp. 313–324.\n",
    "6. Byrne, M. (2020) Generation rent and the financialization of housing: A comparative exploration of the growth of the private rental sector in Ireland, the UK and Spain, Housing Studies, 35, pp. 743–765.\n",
    "7. Bourassa, S. C., Cantoni, E. and Hoesli, M. (2011) ‘Predicting House Prices with Spatial Dependence:Impacts of Alternative Submarket Definitions’, SSRN Electronic Journal. DOI: 10.2139/ssrn.1090147.\n",
    "8. Aswin S. R (2017), ‘Real Estate Price Prediction Using Machine Learning’ https://norma.ncirl.ie/3096/1/aswinsivamravikumar.pdf\n",
    "9. Hujia Yu and Jiafu Wu., (2016), ' Real Estate Price Prediction with Regression and Classification' https://cs229.stanford.edu/proj2016/report/WuYu_HousingPrice_report.pdf\n",
    "10. Ng, A. (2015). Machine Learning for a London Housing Price Prediction Mobile Application. Imperial College London. http://www.doc.ic.ac.uk/~mpd37/theses/2015_beng_aaron-ng.pdf\n"
   ]
  },
  {
   "cell_type": "code",
   "execution_count": 1,
   "id": "21f9761b",
   "metadata": {},
   "outputs": [
    {
     "name": "stdout",
     "output_type": "stream",
     "text": [
      "Total words: 1593\n"
     ]
    }
   ],
   "source": [
    "import nbformat as nbf\n",
    "\n",
    "doc_path = \"CA1 Machine learning.ipynb\"\n",
    "with open(doc_path, \"r\", encoding = \"utf-8\") as doc_file:\n",
    "    doc_content = nbf.read(doc_file, as_version=4)\n",
    "\n",
    "total_words = 0\n",
    "references = [\"References\"]\n",
    "for cell in doc_content['cells']:\n",
    "    if cell['cell_type'] == 'markdown':\n",
    "        exclude = any(reference in cell['source'] for reference in references)\n",
    "        \n",
    "        if not exclude:\n",
    "            words = len(cell['source'].split())\n",
    "            total_words += words\n",
    "print(\"Total words:\",total_words)"
   ]
  },
  {
   "cell_type": "code",
   "execution_count": null,
   "id": "dda44885",
   "metadata": {},
   "outputs": [],
   "source": []
  }
 ],
 "metadata": {
  "kernelspec": {
   "display_name": "Python 3 (ipykernel)",
   "language": "python",
   "name": "python3"
  },
  "language_info": {
   "codemirror_mode": {
    "name": "ipython",
    "version": 3
   },
   "file_extension": ".py",
   "mimetype": "text/x-python",
   "name": "python",
   "nbconvert_exporter": "python",
   "pygments_lexer": "ipython3",
   "version": "3.9.13"
  }
 },
 "nbformat": 4,
 "nbformat_minor": 5
}
