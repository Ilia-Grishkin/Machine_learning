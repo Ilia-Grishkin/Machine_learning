{
 "cells": [
  {
   "cell_type": "markdown",
   "id": "a262d064",
   "metadata": {},
   "source": [
    "## Assessment Cover Page"
   ]
  },
  {
   "cell_type": "markdown",
   "id": "b3324de0",
   "metadata": {},
   "source": [
    "***"
   ]
  },
  {
   "cell_type": "markdown",
   "id": "636e6bdd",
   "metadata": {},
   "source": [
    "### Student Full Name: Ilia Grishkin\n",
    "### Student Number: 2024139\n",
    "### Module Title: Machine Learning\n",
    "### Assessment Title: CA1 Project\n",
    "### Assessment Due Date: 21st April 2024\n",
    "### Date of Submission: 2nd April 2024"
   ]
  },
  {
   "cell_type": "markdown",
   "id": "e97f8ee1",
   "metadata": {},
   "source": [
    "***"
   ]
  },
  {
   "cell_type": "markdown",
   "id": "9fd9e941",
   "metadata": {},
   "source": [
    "<div style=\"border: 1px solid black; padding: 10px;\">\n",
    "\n",
    "**Declaration**\n",
    "\n",
    "By submitting this assessment, I confirm that I have read the CCT policy on academic misconduct and understand the implications of submitting work that is not my own or does not appropriately reference material taken from a third party or other source. \n",
    "I declare it to be my own work and that all material from third parties has been appropriately referenced.\n",
    " I further confirm that this work has not previously been submitted for assessment by myself or someone else in CCT College Dublin or any other higher education institution.\n",
    "</div>"
   ]
  },
  {
   "cell_type": "markdown",
   "id": "69a0c8d8",
   "metadata": {},
   "source": [
    "***"
   ]
  },
  {
   "cell_type": "markdown",
   "id": "393354a9",
   "metadata": {},
   "source": [
    "# Content \n",
    "- **[Introduction](#section1)**\n",
    "    - **[Literate review](#section2)**\n",
    "    - **[Research question](#section3)**\n",
    "    - **[Data sourse and methods](#section4)**\n",
    "- **[EDA](#section6)**\n",
    "    - **[Libraries and summary](#section7)**\n",
    "    - **[Boxplots](#section8)**\n",
    "    - **[Histograms](#section9)**\n",
    "    - **[Heatmap](#section10)**\n",
    "- **[Data preparation](#section11)**\n",
    "    - **[Drop missing values](#section12)**\n",
    "    - **[Outliers](#section13)**\n",
    "    - **[Encoding](#section14)**\n",
    "- **[Machine Learning Models](#section230)**\n",
    "    - **[Define a target and split data](#section231)**\n",
    "    - **[PCA](#section232)**\n",
    "        - **[Scale dataset](#section233)**\n",
    "        - **[Create pca object](#section234)**\n",
    "        - **[Plot varietion ratio](#section235)**\n",
    "        - **[Calculate number of features](#section236)**\n",
    "        - **[List features](#section237)**\n",
    "    - **[PCA Trasform](#section238)**\n",
    "    - **[Define models](#section239)**\n",
    "    - **[Hyperparameter Tuning](#section240)**\n",
    "        - **[Parameters](#section241)**\n",
    "        - **[GridSearch constructor)](#section242)**\n",
    "    - **[Evaluation Models PCA+GridSearch](#section243)**\n",
    "    - **[Evaluation Models GridSearch](#section244)**\n",
    "- **[Visualisation final accuracy scores](#section245)**"
   ]
  },
  {
   "cell_type": "markdown",
   "id": "cbafebbe",
   "metadata": {},
   "source": [
    "***"
   ]
  },
  {
   "cell_type": "markdown",
   "id": "2cab73f2",
   "metadata": {},
   "source": [
    "# Housing Price Prediction Using Machine Learning Models"
   ]
  },
  {
   "cell_type": "markdown",
   "id": "083d3537",
   "metadata": {},
   "source": [
    " \n",
    "<a id=\"section1\"></a>\n",
    "# Introduction\n",
    " \n",
    "The main problem which may be associated with Ireland’s economy is currently experiencing a severe housing crisis. Housing prices are a big part of a country's economy and affect many other sectors. This issue has deep roots, as was mentioned by Nowlan (2016) and Scuffil (2022), this crisis is going back to the 1900s.\n",
    "\n",
    "Lyons, R. (2018) point out that the property market is a regular topic of national attention in Ireland. For the majority of house owners, their house is the most valuable asset.\n",
    "\n",
    "Ireland's economy has been suffering from one of the most severe housing busts of the global financial crisis (Norris and Byrne M. (2017), however in recent years been represented as having recovered economically (Nowicki et al., 2019). Since 2013, Irish house prices have increased by 50%, while rent rates have grown by over 60% according to Byrne M. (2020).\n",
    "\n",
    "The pricing of houses is affected by many different factors, such as the location of the house, the features of the house and condition Phan, T. (2019).\n",
    "\n",
    "Many factors may affect the prices of housing. These factors, as well as other parameters such as the materials used for the building, number of bedrooms, living area, location, upcoming projects and proximity were noted by Bourassa, Cantoni and Hoesli (2011).\n",
    "\n",
    "The prediction of housing sale price may be considered an essential economic metric. The value of a house that grows with time requires the estimated value to be calculated as this value is required for sale, purchase or even mortgage. (Shinde and Gawande, 2018).\n",
    " \n",
    "***\n",
    " \n",
    "<a id=\"section2\"></a>\n",
    "## Literate review\n",
    "Before getting started, we should investigate recent research, methods and results. It will help us to understand which methods we can use and which results we should expect.\n",
    "\n",
    "1. Aswin (2017) applied 6 different machine learning models to predict house prices in a data set with 2000 records and 10 features. The author used 6 machine learning algorithms, such as Random Forest, Neural Networks, Gradient Boosted, Bagging, Support Vector Machine and Multiple Regression. The best accuracy was performed Random Forest with R-squared value of 90%.\n",
    "\n",
    "2. Hujia Yu and Jiafu Wu (2016), also were working on a price prediction model. They created regression and classification models which are able to estimate the price of the house given the features. It was concluded that for classification models the best model is the Support Vector Classifier with linear kernel. The model showed an accuracy of 0.6740 and after PCA was performed on the dataset it increased to 0.6913. For the regression problem, the best model is Support Vector Regression with a Gaussian kernel, with an RMSE of 0.5271.\n",
    "\n",
    "3. Ng A. (2015) explored the use of machine learning methods for London house price prediction. The approach is used to create local models by comparing various regression methods. The Gaussian method was found to be most efficient because of its probabilistic approach to learning and model selection.\n",
    " \n",
    "***\n",
    " \n",
    "<a id=\"section3\"></a>\n",
    "## Research question\n",
    " \n",
    "Each dataset behaves differently. A machine learning model may work with high accuracy in one dataset, but perform poorly in another despite both of them being applied to similar data. Social and economic data is very dynamic in contrast to physical or chemical where approved theory can be reviewed only in unique circumstances. This implies that data related to the economy or social sector should be reviewed preferably as soon as new data has come.\n",
    "This study is going to focus on applying different machine learning algorithms to Irish housing prices datasets, in order to understand which model gives the best accuracy.\n",
    " \n",
    "***\n",
    " \n",
    "<a id=\"section\"></a>\n",
    "## Data sourse and methods\n",
    " \n",
    "### Data Source\n",
    " \n",
    "As a data source, we will use an available for public use dataset \"daft.ie house price data\" published on Kaggle (https://www.kaggle.com/datasets/eavannan/daftie-house-price-data). The dataset contains 3869 records about Irish property which were published in 2021 and 2022. Additionally data set includes accounts 22 features which reflect all essential property parameters for creating a machine learning model.\n",
    " \n",
    "### EDA\n",
    " \n",
    "Exploratory Data Analysis (EDA). \n",
    "It will help us to understand the structure of the dataset including the size, shape, properties and types of variables. Also, identify patterns and relationships between variables. Additionally, EDA allows us to select appropriate techniques and models for our further analysis.\n",
    " \n",
    "### Data preparation\n",
    " \n",
    "After we get the dataset explored using EDA, we can clearly understand which data preparation techniques should be applied.\n",
    " \n",
    "1. Data Cleaning\n",
    "2. Data Transformation\n",
    "3. Handling outliers\n",
    "4. Feature engineering\n",
    "5. Feature Selection\n",
    " \n",
    "### Machine Learning Models\n",
    " \n",
    "We are going to apply multiple machine learning models to the dataset in order to understand which one gives the highest accuracy. Also, we will try to discover the advantages and disadvantages of an apply of each model to data the datasets related to the property market in Ireland.\n",
    "\n",
    "1. Linear Regression\n",
    "2. Ridge Regression\n",
    "3. Lasso Regression\n",
    "4. Elasticnet Regression\n",
    "5. Decision tree Regression\n",
    "6. Random Forest Regression \n",
    "7. Gradient Boosting Regression\n",
    "8. SVR\n",
    "9. KNN\n",
    "<p style=\"text-align: right;\">Words in Intoduction section: 530 </p>"
   ]
  },
  {
   "cell_type": "markdown",
   "id": "1f96a2ff",
   "metadata": {},
   "source": [
    "<a id=\"section6\"></a>\n",
    "## EDA"
   ]
  },
  {
   "cell_type": "markdown",
   "id": "8873c304",
   "metadata": {},
   "source": [
    "<a id=\"section7\"></a>\n",
    "### Libraries and summary"
   ]
  },
  {
   "cell_type": "code",
   "execution_count": 2,
   "id": "9101291f",
   "metadata": {},
   "outputs": [],
   "source": [
    "import warnings\n",
    "import numpy as np\n",
    "import pandas as pd\n",
    "import seaborn as sns\n",
    "from sklearn import tree\n",
    "from sklearn import metrics  \n",
    "from sklearn.svm import SVC\n",
    "import matplotlib.pyplot as plt\n",
    "from sklearn import preprocessing\n",
    "from sklearn.decomposition import PCA\n",
    "from sklearn.linear_model import Ridge\n",
    "from sklearn.linear_model import Lasso\n",
    "from sklearn.linear_model import ElasticNet\n",
    "from sklearn.tree import DecisionTreeRegressor\n",
    "from sklearn.preprocessing import MinMaxScaler \n",
    "from sklearn.preprocessing import LabelEncoder\n",
    "from sklearn.neural_network import MLPRegressor\n",
    "from sklearn.model_selection import GridSearchCV \n",
    "from sklearn.preprocessing import StandardScaler\n",
    "from sklearn.linear_model import LinearRegression\n",
    "from sklearn.neighbors import KNeighborsRegressor\n",
    "from sklearn.ensemble import RandomForestRegressor\n",
    "from sklearn.model_selection import cross_val_score\n",
    "from sklearn.model_selection import train_test_split\n",
    "from sklearn.ensemble import GradientBoostingRegressor\n",
    "from sklearn.tree import DecisionTreeClassifier, plot_tree \n",
    "from sklearn.metrics import confusion_matrix, classification_report\n",
    "from sklearn.metrics import mean_squared_error, mean_absolute_error, r2_score\n",
    "warnings.filterwarnings(\"ignore\")"
   ]
  },
  {
   "cell_type": "code",
   "execution_count": 3,
   "id": "f6fc69e9",
   "metadata": {},
   "outputs": [],
   "source": [
    "df = pd.read_csv(\"daft_ie_v1.csv\")"
   ]
  },
  {
   "cell_type": "code",
   "execution_count": 5,
   "id": "53661ca0",
   "metadata": {
    "collapsed": true
   },
   "outputs": [
    {
     "data": {
      "text/html": [
       "<div>\n",
       "<style scoped>\n",
       "    .dataframe tbody tr th:only-of-type {\n",
       "        vertical-align: middle;\n",
       "    }\n",
       "\n",
       "    .dataframe tbody tr th {\n",
       "        vertical-align: top;\n",
       "    }\n",
       "\n",
       "    .dataframe thead th {\n",
       "        text-align: right;\n",
       "    }\n",
       "</style>\n",
       "<table border=\"1\" class=\"dataframe\">\n",
       "  <thead>\n",
       "    <tr style=\"text-align: right;\">\n",
       "      <th></th>\n",
       "      <th>id</th>\n",
       "      <th>title</th>\n",
       "      <th>featuredLevel</th>\n",
       "      <th>publishDate</th>\n",
       "      <th>price</th>\n",
       "      <th>numBedrooms</th>\n",
       "      <th>numBathrooms</th>\n",
       "      <th>propertyType</th>\n",
       "      <th>propertySize</th>\n",
       "      <th>category</th>\n",
       "      <th>...</th>\n",
       "      <th>seller_name</th>\n",
       "      <th>seller_branch</th>\n",
       "      <th>sellerType</th>\n",
       "      <th>m_totalImages</th>\n",
       "      <th>m_hasVideo</th>\n",
       "      <th>m_hasVirtualTour</th>\n",
       "      <th>m_hasBrochure</th>\n",
       "      <th>ber_rating</th>\n",
       "      <th>longitude</th>\n",
       "      <th>latitude</th>\n",
       "    </tr>\n",
       "  </thead>\n",
       "  <tbody>\n",
       "    <tr>\n",
       "      <th>0</th>\n",
       "      <td>3626025</td>\n",
       "      <td>11 Chestnut Crescent, Bridgemount, Carrigaline...</td>\n",
       "      <td>featured</td>\n",
       "      <td>2022-01-28</td>\n",
       "      <td>290000</td>\n",
       "      <td>3</td>\n",
       "      <td>3</td>\n",
       "      <td>End of Terrace</td>\n",
       "      <td>96.0</td>\n",
       "      <td>Buy</td>\n",
       "      <td>...</td>\n",
       "      <td>Roy Dennehy</td>\n",
       "      <td>Dennehy Auctioneers</td>\n",
       "      <td>BRANDED_AGENT</td>\n",
       "      <td>16.0</td>\n",
       "      <td>False</td>\n",
       "      <td>False</td>\n",
       "      <td>False</td>\n",
       "      <td>C2</td>\n",
       "      <td>-8.382500</td>\n",
       "      <td>51.822940</td>\n",
       "    </tr>\n",
       "    <tr>\n",
       "      <th>1</th>\n",
       "      <td>3675175</td>\n",
       "      <td>58 The Glen, Kilnacourt Woods, Portarlington, ...</td>\n",
       "      <td>featured</td>\n",
       "      <td>2022-01-28</td>\n",
       "      <td>225000</td>\n",
       "      <td>3</td>\n",
       "      <td>2</td>\n",
       "      <td>Semi-D</td>\n",
       "      <td>93.0</td>\n",
       "      <td>Buy</td>\n",
       "      <td>...</td>\n",
       "      <td>Marie Kiernan</td>\n",
       "      <td>Tom McDonald &amp; Associates</td>\n",
       "      <td>BRANDED_AGENT</td>\n",
       "      <td>33.0</td>\n",
       "      <td>False</td>\n",
       "      <td>False</td>\n",
       "      <td>False</td>\n",
       "      <td>C1</td>\n",
       "      <td>-7.177098</td>\n",
       "      <td>53.157465</td>\n",
       "    </tr>\n",
       "  </tbody>\n",
       "</table>\n",
       "<p>2 rows × 22 columns</p>\n",
       "</div>"
      ],
      "text/plain": [
       "        id                                              title featuredLevel  \\\n",
       "0  3626025  11 Chestnut Crescent, Bridgemount, Carrigaline...      featured   \n",
       "1  3675175  58 The Glen, Kilnacourt Woods, Portarlington, ...      featured   \n",
       "\n",
       "  publishDate   price  numBedrooms  numBathrooms    propertyType  \\\n",
       "0  2022-01-28  290000            3             3  End of Terrace   \n",
       "1  2022-01-28  225000            3             2          Semi-D   \n",
       "\n",
       "   propertySize category  ...    seller_name              seller_branch  \\\n",
       "0          96.0      Buy  ...    Roy Dennehy        Dennehy Auctioneers   \n",
       "1          93.0      Buy  ...  Marie Kiernan  Tom McDonald & Associates   \n",
       "\n",
       "      sellerType m_totalImages m_hasVideo  m_hasVirtualTour  m_hasBrochure  \\\n",
       "0  BRANDED_AGENT          16.0      False             False          False   \n",
       "1  BRANDED_AGENT          33.0      False             False          False   \n",
       "\n",
       "   ber_rating  longitude   latitude  \n",
       "0          C2  -8.382500  51.822940  \n",
       "1          C1  -7.177098  53.157465  \n",
       "\n",
       "[2 rows x 22 columns]"
      ]
     },
     "execution_count": 5,
     "metadata": {},
     "output_type": "execute_result"
    }
   ],
   "source": [
    "df.head(2)"
   ]
  },
  {
   "cell_type": "code",
   "execution_count": 4,
   "id": "bafa2518",
   "metadata": {
    "collapsed": true
   },
   "outputs": [
    {
     "data": {
      "text/plain": [
       "(3967, 22)"
      ]
     },
     "execution_count": 4,
     "metadata": {},
     "output_type": "execute_result"
    }
   ],
   "source": [
    "df.shape"
   ]
  },
  {
   "cell_type": "code",
   "execution_count": 5,
   "id": "20256a94",
   "metadata": {
    "collapsed": true
   },
   "outputs": [
    {
     "data": {
      "text/html": [
       "<div>\n",
       "<style scoped>\n",
       "    .dataframe tbody tr th:only-of-type {\n",
       "        vertical-align: middle;\n",
       "    }\n",
       "\n",
       "    .dataframe tbody tr th {\n",
       "        vertical-align: top;\n",
       "    }\n",
       "\n",
       "    .dataframe thead th {\n",
       "        text-align: right;\n",
       "    }\n",
       "</style>\n",
       "<table border=\"1\" class=\"dataframe\">\n",
       "  <thead>\n",
       "    <tr style=\"text-align: right;\">\n",
       "      <th></th>\n",
       "      <th>id</th>\n",
       "      <th>title</th>\n",
       "      <th>featuredLevel</th>\n",
       "      <th>publishDate</th>\n",
       "      <th>price</th>\n",
       "      <th>numBedrooms</th>\n",
       "      <th>numBathrooms</th>\n",
       "      <th>propertyType</th>\n",
       "      <th>propertySize</th>\n",
       "      <th>category</th>\n",
       "      <th>...</th>\n",
       "      <th>seller_name</th>\n",
       "      <th>seller_branch</th>\n",
       "      <th>sellerType</th>\n",
       "      <th>m_totalImages</th>\n",
       "      <th>m_hasVideo</th>\n",
       "      <th>m_hasVirtualTour</th>\n",
       "      <th>m_hasBrochure</th>\n",
       "      <th>ber_rating</th>\n",
       "      <th>longitude</th>\n",
       "      <th>latitude</th>\n",
       "    </tr>\n",
       "  </thead>\n",
       "  <tbody>\n",
       "    <tr>\n",
       "      <th>count</th>\n",
       "      <td>3.967000e+03</td>\n",
       "      <td>3967</td>\n",
       "      <td>3967</td>\n",
       "      <td>3967</td>\n",
       "      <td>3.967000e+03</td>\n",
       "      <td>3967.000000</td>\n",
       "      <td>3967.000000</td>\n",
       "      <td>3967</td>\n",
       "      <td>3612.000000</td>\n",
       "      <td>3967</td>\n",
       "      <td>...</td>\n",
       "      <td>3967</td>\n",
       "      <td>3967</td>\n",
       "      <td>3967</td>\n",
       "      <td>3967.000000</td>\n",
       "      <td>3967</td>\n",
       "      <td>3967</td>\n",
       "      <td>3967</td>\n",
       "      <td>3967</td>\n",
       "      <td>3967.000000</td>\n",
       "      <td>3967.000000</td>\n",
       "    </tr>\n",
       "    <tr>\n",
       "      <th>unique</th>\n",
       "      <td>NaN</td>\n",
       "      <td>3869</td>\n",
       "      <td>3</td>\n",
       "      <td>53</td>\n",
       "      <td>NaN</td>\n",
       "      <td>NaN</td>\n",
       "      <td>NaN</td>\n",
       "      <td>11</td>\n",
       "      <td>NaN</td>\n",
       "      <td>2</td>\n",
       "      <td>...</td>\n",
       "      <td>1295</td>\n",
       "      <td>836</td>\n",
       "      <td>3</td>\n",
       "      <td>NaN</td>\n",
       "      <td>2</td>\n",
       "      <td>2</td>\n",
       "      <td>2</td>\n",
       "      <td>18</td>\n",
       "      <td>NaN</td>\n",
       "      <td>NaN</td>\n",
       "    </tr>\n",
       "    <tr>\n",
       "      <th>top</th>\n",
       "      <td>NaN</td>\n",
       "      <td>Glebe Manor Estate, Whitegate, Co. Cork</td>\n",
       "      <td>standard</td>\n",
       "      <td>2022-01-28</td>\n",
       "      <td>NaN</td>\n",
       "      <td>NaN</td>\n",
       "      <td>NaN</td>\n",
       "      <td>Detached</td>\n",
       "      <td>NaN</td>\n",
       "      <td>Buy</td>\n",
       "      <td>...</td>\n",
       "      <td>Isabelle Crean</td>\n",
       "      <td>BidX1</td>\n",
       "      <td>BRANDED_AGENT</td>\n",
       "      <td>NaN</td>\n",
       "      <td>False</td>\n",
       "      <td>False</td>\n",
       "      <td>False</td>\n",
       "      <td>C2</td>\n",
       "      <td>NaN</td>\n",
       "      <td>NaN</td>\n",
       "    </tr>\n",
       "    <tr>\n",
       "      <th>freq</th>\n",
       "      <td>NaN</td>\n",
       "      <td>6</td>\n",
       "      <td>3473</td>\n",
       "      <td>1220</td>\n",
       "      <td>NaN</td>\n",
       "      <td>NaN</td>\n",
       "      <td>NaN</td>\n",
       "      <td>1079</td>\n",
       "      <td>NaN</td>\n",
       "      <td>3869</td>\n",
       "      <td>...</td>\n",
       "      <td>44</td>\n",
       "      <td>107</td>\n",
       "      <td>2929</td>\n",
       "      <td>NaN</td>\n",
       "      <td>3236</td>\n",
       "      <td>3606</td>\n",
       "      <td>3835</td>\n",
       "      <td>475</td>\n",
       "      <td>NaN</td>\n",
       "      <td>NaN</td>\n",
       "    </tr>\n",
       "    <tr>\n",
       "      <th>mean</th>\n",
       "      <td>3.629047e+06</td>\n",
       "      <td>NaN</td>\n",
       "      <td>NaN</td>\n",
       "      <td>NaN</td>\n",
       "      <td>3.416734e+05</td>\n",
       "      <td>3.126292</td>\n",
       "      <td>2.077136</td>\n",
       "      <td>NaN</td>\n",
       "      <td>132.673865</td>\n",
       "      <td>NaN</td>\n",
       "      <td>...</td>\n",
       "      <td>NaN</td>\n",
       "      <td>NaN</td>\n",
       "      <td>NaN</td>\n",
       "      <td>18.448954</td>\n",
       "      <td>NaN</td>\n",
       "      <td>NaN</td>\n",
       "      <td>NaN</td>\n",
       "      <td>NaN</td>\n",
       "      <td>-7.389964</td>\n",
       "      <td>53.133816</td>\n",
       "    </tr>\n",
       "    <tr>\n",
       "      <th>std</th>\n",
       "      <td>2.502479e+05</td>\n",
       "      <td>NaN</td>\n",
       "      <td>NaN</td>\n",
       "      <td>NaN</td>\n",
       "      <td>2.703582e+05</td>\n",
       "      <td>1.230570</td>\n",
       "      <td>1.167772</td>\n",
       "      <td>NaN</td>\n",
       "      <td>295.246580</td>\n",
       "      <td>NaN</td>\n",
       "      <td>...</td>\n",
       "      <td>NaN</td>\n",
       "      <td>NaN</td>\n",
       "      <td>NaN</td>\n",
       "      <td>10.537226</td>\n",
       "      <td>NaN</td>\n",
       "      <td>NaN</td>\n",
       "      <td>NaN</td>\n",
       "      <td>NaN</td>\n",
       "      <td>1.865587</td>\n",
       "      <td>0.716435</td>\n",
       "    </tr>\n",
       "    <tr>\n",
       "      <th>min</th>\n",
       "      <td>1.092100e+04</td>\n",
       "      <td>NaN</td>\n",
       "      <td>NaN</td>\n",
       "      <td>NaN</td>\n",
       "      <td>2.000000e+04</td>\n",
       "      <td>1.000000</td>\n",
       "      <td>1.000000</td>\n",
       "      <td>NaN</td>\n",
       "      <td>1.000000</td>\n",
       "      <td>NaN</td>\n",
       "      <td>...</td>\n",
       "      <td>NaN</td>\n",
       "      <td>NaN</td>\n",
       "      <td>NaN</td>\n",
       "      <td>0.000000</td>\n",
       "      <td>NaN</td>\n",
       "      <td>NaN</td>\n",
       "      <td>NaN</td>\n",
       "      <td>NaN</td>\n",
       "      <td>-100.445882</td>\n",
       "      <td>39.783730</td>\n",
       "    </tr>\n",
       "    <tr>\n",
       "      <th>25%</th>\n",
       "      <td>3.654066e+06</td>\n",
       "      <td>NaN</td>\n",
       "      <td>NaN</td>\n",
       "      <td>NaN</td>\n",
       "      <td>1.950000e+05</td>\n",
       "      <td>2.000000</td>\n",
       "      <td>1.000000</td>\n",
       "      <td>NaN</td>\n",
       "      <td>78.000000</td>\n",
       "      <td>NaN</td>\n",
       "      <td>...</td>\n",
       "      <td>NaN</td>\n",
       "      <td>NaN</td>\n",
       "      <td>NaN</td>\n",
       "      <td>12.000000</td>\n",
       "      <td>NaN</td>\n",
       "      <td>NaN</td>\n",
       "      <td>NaN</td>\n",
       "      <td>NaN</td>\n",
       "      <td>-8.426627</td>\n",
       "      <td>52.666116</td>\n",
       "    </tr>\n",
       "    <tr>\n",
       "      <th>50%</th>\n",
       "      <td>3.673795e+06</td>\n",
       "      <td>NaN</td>\n",
       "      <td>NaN</td>\n",
       "      <td>NaN</td>\n",
       "      <td>2.750000e+05</td>\n",
       "      <td>3.000000</td>\n",
       "      <td>2.000000</td>\n",
       "      <td>NaN</td>\n",
       "      <td>103.000000</td>\n",
       "      <td>NaN</td>\n",
       "      <td>...</td>\n",
       "      <td>NaN</td>\n",
       "      <td>NaN</td>\n",
       "      <td>NaN</td>\n",
       "      <td>17.000000</td>\n",
       "      <td>NaN</td>\n",
       "      <td>NaN</td>\n",
       "      <td>NaN</td>\n",
       "      <td>NaN</td>\n",
       "      <td>-7.050391</td>\n",
       "      <td>53.303346</td>\n",
       "    </tr>\n",
       "    <tr>\n",
       "      <th>75%</th>\n",
       "      <td>3.685990e+06</td>\n",
       "      <td>NaN</td>\n",
       "      <td>NaN</td>\n",
       "      <td>NaN</td>\n",
       "      <td>3.950000e+05</td>\n",
       "      <td>4.000000</td>\n",
       "      <td>3.000000</td>\n",
       "      <td>NaN</td>\n",
       "      <td>137.000000</td>\n",
       "      <td>NaN</td>\n",
       "      <td>...</td>\n",
       "      <td>NaN</td>\n",
       "      <td>NaN</td>\n",
       "      <td>NaN</td>\n",
       "      <td>23.000000</td>\n",
       "      <td>NaN</td>\n",
       "      <td>NaN</td>\n",
       "      <td>NaN</td>\n",
       "      <td>NaN</td>\n",
       "      <td>-6.298945</td>\n",
       "      <td>53.438722</td>\n",
       "    </tr>\n",
       "    <tr>\n",
       "      <th>max</th>\n",
       "      <td>3.695402e+06</td>\n",
       "      <td>NaN</td>\n",
       "      <td>NaN</td>\n",
       "      <td>NaN</td>\n",
       "      <td>4.500000e+06</td>\n",
       "      <td>23.000000</td>\n",
       "      <td>23.000000</td>\n",
       "      <td>NaN</td>\n",
       "      <td>8600.000000</td>\n",
       "      <td>NaN</td>\n",
       "      <td>...</td>\n",
       "      <td>NaN</td>\n",
       "      <td>NaN</td>\n",
       "      <td>NaN</td>\n",
       "      <td>104.000000</td>\n",
       "      <td>NaN</td>\n",
       "      <td>NaN</td>\n",
       "      <td>NaN</td>\n",
       "      <td>NaN</td>\n",
       "      <td>-6.028016</td>\n",
       "      <td>55.299693</td>\n",
       "    </tr>\n",
       "  </tbody>\n",
       "</table>\n",
       "<p>11 rows × 22 columns</p>\n",
       "</div>"
      ],
      "text/plain": [
       "                  id                                    title featuredLevel  \\\n",
       "count   3.967000e+03                                     3967          3967   \n",
       "unique           NaN                                     3869             3   \n",
       "top              NaN  Glebe Manor Estate, Whitegate, Co. Cork      standard   \n",
       "freq             NaN                                        6          3473   \n",
       "mean    3.629047e+06                                      NaN           NaN   \n",
       "std     2.502479e+05                                      NaN           NaN   \n",
       "min     1.092100e+04                                      NaN           NaN   \n",
       "25%     3.654066e+06                                      NaN           NaN   \n",
       "50%     3.673795e+06                                      NaN           NaN   \n",
       "75%     3.685990e+06                                      NaN           NaN   \n",
       "max     3.695402e+06                                      NaN           NaN   \n",
       "\n",
       "       publishDate         price  numBedrooms  numBathrooms propertyType  \\\n",
       "count         3967  3.967000e+03  3967.000000   3967.000000         3967   \n",
       "unique          53           NaN          NaN           NaN           11   \n",
       "top     2022-01-28           NaN          NaN           NaN     Detached   \n",
       "freq          1220           NaN          NaN           NaN         1079   \n",
       "mean           NaN  3.416734e+05     3.126292      2.077136          NaN   \n",
       "std            NaN  2.703582e+05     1.230570      1.167772          NaN   \n",
       "min            NaN  2.000000e+04     1.000000      1.000000          NaN   \n",
       "25%            NaN  1.950000e+05     2.000000      1.000000          NaN   \n",
       "50%            NaN  2.750000e+05     3.000000      2.000000          NaN   \n",
       "75%            NaN  3.950000e+05     4.000000      3.000000          NaN   \n",
       "max            NaN  4.500000e+06    23.000000     23.000000          NaN   \n",
       "\n",
       "        propertySize category  ...     seller_name  seller_branch  \\\n",
       "count    3612.000000     3967  ...            3967           3967   \n",
       "unique           NaN        2  ...            1295            836   \n",
       "top              NaN      Buy  ...  Isabelle Crean          BidX1   \n",
       "freq             NaN     3869  ...              44            107   \n",
       "mean      132.673865      NaN  ...             NaN            NaN   \n",
       "std       295.246580      NaN  ...             NaN            NaN   \n",
       "min         1.000000      NaN  ...             NaN            NaN   \n",
       "25%        78.000000      NaN  ...             NaN            NaN   \n",
       "50%       103.000000      NaN  ...             NaN            NaN   \n",
       "75%       137.000000      NaN  ...             NaN            NaN   \n",
       "max      8600.000000      NaN  ...             NaN            NaN   \n",
       "\n",
       "           sellerType m_totalImages m_hasVideo  m_hasVirtualTour  \\\n",
       "count            3967   3967.000000       3967              3967   \n",
       "unique              3           NaN          2                 2   \n",
       "top     BRANDED_AGENT           NaN      False             False   \n",
       "freq             2929           NaN       3236              3606   \n",
       "mean              NaN     18.448954        NaN               NaN   \n",
       "std               NaN     10.537226        NaN               NaN   \n",
       "min               NaN      0.000000        NaN               NaN   \n",
       "25%               NaN     12.000000        NaN               NaN   \n",
       "50%               NaN     17.000000        NaN               NaN   \n",
       "75%               NaN     23.000000        NaN               NaN   \n",
       "max               NaN    104.000000        NaN               NaN   \n",
       "\n",
       "       m_hasBrochure ber_rating    longitude     latitude  \n",
       "count           3967       3967  3967.000000  3967.000000  \n",
       "unique             2         18          NaN          NaN  \n",
       "top            False         C2          NaN          NaN  \n",
       "freq            3835        475          NaN          NaN  \n",
       "mean             NaN        NaN    -7.389964    53.133816  \n",
       "std              NaN        NaN     1.865587     0.716435  \n",
       "min              NaN        NaN  -100.445882    39.783730  \n",
       "25%              NaN        NaN    -8.426627    52.666116  \n",
       "50%              NaN        NaN    -7.050391    53.303346  \n",
       "75%              NaN        NaN    -6.298945    53.438722  \n",
       "max              NaN        NaN    -6.028016    55.299693  \n",
       "\n",
       "[11 rows x 22 columns]"
      ]
     },
     "execution_count": 5,
     "metadata": {},
     "output_type": "execute_result"
    }
   ],
   "source": [
    "df.describe(include=\"all\")"
   ]
  },
  {
   "cell_type": "code",
   "execution_count": 6,
   "id": "c71a8734",
   "metadata": {
    "collapsed": true
   },
   "outputs": [
    {
     "data": {
      "text/plain": [
       "id                    int64\n",
       "title                object\n",
       "featuredLevel        object\n",
       "publishDate          object\n",
       "price                 int64\n",
       "numBedrooms           int64\n",
       "numBathrooms          int64\n",
       "propertyType         object\n",
       "propertySize        float64\n",
       "category             object\n",
       "AMV_price             int64\n",
       "sellerId            float64\n",
       "seller_name          object\n",
       "seller_branch        object\n",
       "sellerType           object\n",
       "m_totalImages       float64\n",
       "m_hasVideo             bool\n",
       "m_hasVirtualTour       bool\n",
       "m_hasBrochure          bool\n",
       "ber_rating           object\n",
       "longitude           float64\n",
       "latitude            float64\n",
       "dtype: object"
      ]
     },
     "execution_count": 6,
     "metadata": {},
     "output_type": "execute_result"
    }
   ],
   "source": [
    "df.dtypes"
   ]
  },
  {
   "cell_type": "code",
   "execution_count": 7,
   "id": "270d2222",
   "metadata": {
    "collapsed": true
   },
   "outputs": [
    {
     "data": {
      "text/plain": [
       "id                    0\n",
       "title                 0\n",
       "featuredLevel         0\n",
       "publishDate           0\n",
       "price                 0\n",
       "numBedrooms           0\n",
       "numBathrooms          0\n",
       "propertyType          0\n",
       "propertySize        355\n",
       "category              0\n",
       "AMV_price             0\n",
       "sellerId              0\n",
       "seller_name           0\n",
       "seller_branch         0\n",
       "sellerType            0\n",
       "m_totalImages         0\n",
       "m_hasVideo            0\n",
       "m_hasVirtualTour      0\n",
       "m_hasBrochure         0\n",
       "ber_rating            0\n",
       "longitude             0\n",
       "latitude              0\n",
       "dtype: int64"
      ]
     },
     "execution_count": 7,
     "metadata": {},
     "output_type": "execute_result"
    }
   ],
   "source": [
    "df.isnull().sum()"
   ]
  },
  {
   "cell_type": "code",
   "execution_count": 6,
   "id": "a55132be",
   "metadata": {},
   "outputs": [],
   "source": [
    "categorical_indices = [1, 2, 3, 5, 6, 7, 9, 10, 12, 14, 15, 16, 17]\n",
    "rooms_index = [5, 6]\n",
    "selected_columns2 = df.iloc[:, rooms_index]"
   ]
  },
  {
   "cell_type": "code",
   "execution_count": 7,
   "id": "c45d203e",
   "metadata": {
    "collapsed": true
   },
   "outputs": [
    {
     "name": "stdout",
     "output_type": "stream",
     "text": [
      "Column 'title' unique values\n",
      "['11 Chestnut Crescent, Bridgemount, Carrigaline, Co. Cork'\n",
      " '58 The Glen, Kilnacourt Woods, Portarlington, Co. Laois'\n",
      " '16 Dodderbrook Park, Ballycullen, Dublin 24' ...\n",
      " '69 McAuley Drive, Artane, Artane, Dublin 5'\n",
      " 'School Land, Ballinalee, Co. Longford'\n",
      " '14 Coolmagort Ave, Beaufort, Killarney, Co. Kerry']\n",
      "\n",
      "Column 'featuredLevel' unique values\n",
      "['featured' 'premium' 'standard']\n",
      "\n",
      "Column 'publishDate' unique values\n",
      "['2022-01-28' '2022-01-27' '2022-01-30' '2022-01-26' '2022-01-12'\n",
      " '2022-01-14' '2022-01-11' '2022-01-25' '2022-01-10' '2022-01-07'\n",
      " '2022-01-06' '2022-01-24' '2022-01-29' '2022-01-21' '2022-01-20'\n",
      " '2022-01-19' '2022-01-18' '2022-01-17' '2021-12-17' '2022-01-05'\n",
      " '2022-01-04' '2022-01-03' '2022-01-15' '2021-12-31' '2021-12-01'\n",
      " '2022-01-23' '2022-01-09' '2022-01-01' '2021-12-15' '2021-12-30'\n",
      " '2021-12-23' '2021-12-20' '2022-01-22' '2022-01-16' '2022-01-13'\n",
      " '2022-01-08' '2021-12-29' '2021-12-28' '2021-12-27' '2021-12-24'\n",
      " '2021-12-22' '2021-12-21' '2021-12-18' '2021-12-16' '2021-12-14'\n",
      " '2021-12-13' '2021-12-11' '2021-12-10' '2021-12-09' '2021-12-08'\n",
      " '2021-12-07' '2021-12-06' '2021-12-04']\n",
      "\n",
      "Column 'numBedrooms' unique values\n",
      "[ 3  4  6  2  5  7  1  9  8 13 10 16 14 12 23]\n",
      "\n",
      "Column 'numBathrooms' unique values\n",
      "[ 3  2  1  6  4  5  7 13  8 12 10  9 11 23]\n",
      "\n",
      "Column 'propertyType' unique values\n",
      "['End of Terrace' 'Semi-D' 'Terrace' 'Detached' 'Apartment' 'Bungalow'\n",
      " 'Townhouse' 'Duplex' 'Site' 'Studio' 'House']\n",
      "\n",
      "Column 'category' unique values\n",
      "['Buy' 'New Homes']\n",
      "\n",
      "Column 'AMV_price' unique values\n",
      "[0 1]\n",
      "\n",
      "Column 'seller_name' unique values\n",
      "['Roy Dennehy' 'Marie Kiernan' 'Moovingo' ... 'Rooney Auctioneers'\n",
      " \"Paul O'Shea\" 'Jackie Horan']\n",
      "\n",
      "Column 'sellerType' unique values\n",
      "['BRANDED_AGENT' 'UNBRANDED_AGENT' 'PRIVATE_USER']\n",
      "\n",
      "Column 'm_totalImages' unique values\n",
      "[ 16.  33.  38.  22.   5.  20.  37.  21.  24.  15.  28.  14.  43.  25.\n",
      "  29.  42.  26.   8.  18.  27.  17.  13.  32.  12.   9.  23.  48.  31.\n",
      "  30.  35.  19.  40.   7.  39.  11.  34.   2.  10.  36.   4.   6.   1.\n",
      "   3.  51.   0.  50.  60.  44.  56.  63.  52.  47.  55.  46.  53.  41.\n",
      "  68.  71.  45.  66.  57.  69.  54. 104.  67.  59.  49.  93.  81.  75.\n",
      "  88.  80.  65.  87.]\n",
      "\n",
      "Column 'm_hasVideo' unique values\n",
      "[False  True]\n",
      "\n",
      "Column 'm_hasVirtualTour' unique values\n",
      "[False  True]\n",
      "\n"
     ]
    }
   ],
   "source": [
    "def get_unique_values(df, categorical_indices):\n",
    "    unique_values_dict = {}\n",
    "    for col_index in categorical_indices:\n",
    "        column_name = df.columns[col_index]\n",
    "        unique_values = df.iloc[:, col_index].unique()\n",
    "        unique_values_dict[column_name] = unique_values\n",
    "    return unique_values_dict\n",
    "\n",
    "unique_values = get_unique_values(df, categorical_indices)\n",
    "\n",
    "for column_name, values in unique_values.items():\n",
    "    print(f\"Column '{column_name}' unique values\")\n",
    "    print(values)\n",
    "    print()"
   ]
  },
  {
   "cell_type": "markdown",
   "id": "2155c9e7",
   "metadata": {},
   "source": [
    "<a id=\"section8\"></a>\n",
    "### Boxplots"
   ]
  },
  {
   "cell_type": "markdown",
   "id": "e59a75d2",
   "metadata": {},
   "source": [
    "First of all, let's take make a boxplot for our targer varieble \"price\". However, the outliers may affect clear understanding, so I would recommend to update this and other charts after running preparation section. As we can see in updated boxplot:\n",
    "- the mean is between 200k and 300k approximately in the middle, that indicates a value of 250k.\n",
    "- the second and third quartiles which include the majority of data are placed between 200k and 375k more or less. It gives us a range of prices for most of the properties.\n",
    "- also we can see first and fourth quatiles which show us the whole range of prices except outliers left on the top of boxblot."
   ]
  },
  {
   "cell_type": "code",
   "execution_count": 8,
   "id": "9a0daaf9",
   "metadata": {
    "collapsed": true
   },
   "outputs": [
    {
     "data": {
      "image/png": "[encoded data removed]",
      "text/plain": [
       "<Figure size 1000x500 with 1 Axes>"
      ]
     },
     "metadata": {},
     "output_type": "display_data"
    }
   ],
   "source": [
    "prices_boxplot = df['price'] / 1000\n",
    "\n",
    "plt.figure(figsize=(10, 5))\n",
    "boxplot = plt.boxplot(prices_boxplot, vert=True, patch_artist=True)\n",
    "plt.ylabel('Price in thousands')\n",
    "plt.show()\n"
   ]
  },
  {
   "cell_type": "markdown",
   "id": "b860b6c6",
   "metadata": {},
   "source": [
    "We can see that two boxplots below show the distribution for properties with different number of badrooms and bathrooms. It is seen how price is changing according to the number of rooms."
   ]
  },
  {
   "cell_type": "code",
   "execution_count": 9,
   "id": "9f6849a8",
   "metadata": {
    "collapsed": true
   },
   "outputs": [
    {
     "data": {
      "text/plain": [
       "Text(0.5, 0, 'Number of Bedrooms')"
      ]
     },
     "execution_count": 9,
     "metadata": {},
     "output_type": "execute_result"
    },
    {
     "data": {
      "image/png": "[encoded data removed]",
      "text/plain": [
       "<Figure size 640x480 with 1 Axes>"
      ]
     },
     "metadata": {},
     "output_type": "display_data"
    }
   ],
   "source": [
    "sns.boxplot(df.numBedrooms, prices_boxplot) \n",
    "plt.title('Price vs Number of Bedrooms')\n",
    "plt.ylabel('Thousands euro')\n",
    "plt.xlabel('Number of Bedrooms')"
   ]
  },
  {
   "cell_type": "code",
   "execution_count": 10,
   "id": "72552b8e",
   "metadata": {
    "collapsed": true
   },
   "outputs": [
    {
     "data": {
      "text/plain": [
       "Text(0.5, 0, 'Number of Bedrooms')"
      ]
     },
     "execution_count": 10,
     "metadata": {},
     "output_type": "execute_result"
    },
    {
     "data": {
      "image/png": "[encoded data removed]",
      "text/plain": [
       "<Figure size 640x480 with 1 Axes>"
      ]
     },
     "metadata": {},
     "output_type": "display_data"
    }
   ],
   "source": [
    "sns.boxplot(df.numBathrooms, prices_boxplot) \n",
    "plt.title('Price vs Number of Bathrooms')\n",
    "plt.ylabel('Thousands euro')\n",
    "plt.xlabel('Number of Bedrooms')"
   ]
  },
  {
   "cell_type": "markdown",
   "id": "eaad8126",
   "metadata": {},
   "source": [
    "As we can see the avarage property size is 100. Additionally, the size for the most properties in range between 75 and 125.\n"
   ]
  },
  {
   "cell_type": "code",
   "execution_count": 14,
   "id": "1a36c831",
   "metadata": {
    "collapsed": true
   },
   "outputs": [
    {
     "data": {
      "image/png": "[encoded data removed]",
      "text/plain": [
       "<Figure size 1000x500 with 1 Axes>"
      ]
     },
     "metadata": {},
     "output_type": "display_data"
    }
   ],
   "source": [
    "prices_boxplot = df['propertySize']\n",
    "\n",
    "plt.figure(figsize=(10, 5))\n",
    "boxplot = plt.boxplot(prices_boxplot, vert=True, patch_artist=True)\n",
    "plt.ylabel('Property size')\n",
    "plt.show()"
   ]
  },
  {
   "cell_type": "markdown",
   "id": "696d102e",
   "metadata": {},
   "source": [
    "<a id=\"section9\"></a>\n",
    "### Histograms"
   ]
  },
  {
   "cell_type": "code",
   "execution_count": 15,
   "id": "b370b323",
   "metadata": {
    "collapsed": true
   },
   "outputs": [
    {
     "data": {
      "image/png": "[encoded data removed]",
      "text/plain": [
       "<Figure size 1000x1200 with 7 Axes>"
      ]
     },
     "metadata": {},
     "output_type": "display_data"
    }
   ],
   "source": [
    "numeric_index = [2, 4, 5, 6, 7, 8, 9]\n",
    "selected_columns = df.iloc[:, numeric_index]\n",
    "\n",
    "num_cols = 2  \n",
    "\n",
    "num_features = len(numeric_index)\n",
    "num_rows = (num_features - 1) // num_cols + 1\n",
    "\n",
    "fig, axes = plt.subplots(num_rows, num_cols, figsize=(10, 3 * num_rows))\n",
    "\n",
    "axes = axes.flatten()\n",
    "\n",
    "for i, col_index in enumerate(numeric_index):\n",
    "    ax = axes[i]\n",
    "    col_name = df.columns[col_index]\n",
    "    sns.histplot(df.iloc[:, col_index], ax=ax, kde=True)\n",
    "    ax.set_title(col_name)\n",
    "    ax.set_xlabel('Values')\n",
    "    ax.set_ylabel('Frequency')\n",
    "\n",
    "for i in range(num_features, num_rows * num_cols):\n",
    "    fig.delaxes(axes[i])\n",
    "    \n",
    "plt.tight_layout()\n",
    "plt.show()"
   ]
  },
  {
   "cell_type": "markdown",
   "id": "c92a97e1",
   "metadata": {},
   "source": [
    "<a id=\"section10\"></a>\n",
    "### Heatmap"
   ]
  },
  {
   "cell_type": "markdown",
   "id": "63e8e435",
   "metadata": {},
   "source": [
    "A heatmap shows correlation between all values in dataset. We can see that there are 4 feachers which have biggest impact on our target variable \"price\" such as number of bedrooms, number of bathrooms and property size.\n"
   ]
  },
  {
   "cell_type": "code",
   "execution_count": 20,
   "id": "8975a82e",
   "metadata": {
    "collapsed": true
   },
   "outputs": [
    {
     "data": {
      "image/png": "[encoded data removed]",
      "text/plain": [
       "<Figure size 640x480 with 2 Axes>"
      ]
     },
     "metadata": {},
     "output_type": "display_data"
    }
   ],
   "source": [
    "sns.heatmap(df.corr(), cmap='coolwarm')\n",
    "plt.title('Heatmap')\n",
    "plt.show()"
   ]
  },
  {
   "cell_type": "markdown",
   "id": "d0b478ea",
   "metadata": {},
   "source": [
    "<p style=\"text-align: right;\">Words in EDA section: 178 </p>"
   ]
  },
  {
   "cell_type": "markdown",
   "id": "7e46883a",
   "metadata": {},
   "source": [
    "<a id=\"section11\"></a>\n",
    "## Data preparation"
   ]
  },
  {
   "cell_type": "markdown",
   "id": "fde273c6",
   "metadata": {},
   "source": [
    "<a id=\"section12\"></a>\n",
    "#### Drop missing values"
   ]
  },
  {
   "cell_type": "code",
   "execution_count": 21,
   "id": "0e2b526a",
   "metadata": {},
   "outputs": [],
   "source": [
    "df = df.dropna()"
   ]
  },
  {
   "cell_type": "code",
   "execution_count": 22,
   "id": "6bed5eab",
   "metadata": {
    "collapsed": true
   },
   "outputs": [
    {
     "data": {
      "text/plain": [
       "id                  0\n",
       "title               0\n",
       "featuredLevel       0\n",
       "publishDate         0\n",
       "price               0\n",
       "numBedrooms         0\n",
       "numBathrooms        0\n",
       "propertyType        0\n",
       "propertySize        0\n",
       "category            0\n",
       "AMV_price           0\n",
       "sellerId            0\n",
       "seller_name         0\n",
       "seller_branch       0\n",
       "sellerType          0\n",
       "m_totalImages       0\n",
       "m_hasVideo          0\n",
       "m_hasVirtualTour    0\n",
       "m_hasBrochure       0\n",
       "ber_rating          0\n",
       "longitude           0\n",
       "latitude            0\n",
       "dtype: int64"
      ]
     },
     "execution_count": 22,
     "metadata": {},
     "output_type": "execute_result"
    }
   ],
   "source": [
    "df.isnull().sum()"
   ]
  },
  {
   "cell_type": "markdown",
   "id": "46e6889d",
   "metadata": {},
   "source": [
    "<a id=\"section13\"></a>\n",
    "#### Outliers"
   ]
  },
  {
   "cell_type": "markdown",
   "id": "c727ce57",
   "metadata": {},
   "source": [
    "##### Define percentage of dataset we want to keep which doesn't include outliers, in this case we keep 95% and cut just 5% whith outliers."
   ]
  },
  {
   "cell_type": "code",
   "execution_count": 12,
   "id": "929e1807",
   "metadata": {},
   "outputs": [],
   "source": [
    "outlier = df.price.quantile(0.95)\n",
    "df = df.loc[df.price < outlier, :]"
   ]
  },
  {
   "cell_type": "code",
   "execution_count": null,
   "id": "ebb53f09",
   "metadata": {},
   "outputs": [],
   "source": [
    "sns.distplot(df.price)"
   ]
  },
  {
   "cell_type": "code",
   "execution_count": null,
   "id": "b1fa41ea",
   "metadata": {},
   "outputs": [],
   "source": [
    "sns.distplot(df.propertySize)"
   ]
  },
  {
   "cell_type": "code",
   "execution_count": 13,
   "id": "e79c6fa0",
   "metadata": {},
   "outputs": [],
   "source": [
    "outlier = df.propertySize.quantile(0.95)\n",
    "df = df.loc[df.propertySize < outlier, :]\n"
   ]
  },
  {
   "cell_type": "markdown",
   "id": "599e67c9",
   "metadata": {},
   "source": [
    "<a id=\"section14\"></a>\n",
    "#### Encoding"
   ]
  },
  {
   "cell_type": "code",
   "execution_count": 16,
   "id": "8e207496",
   "metadata": {},
   "outputs": [],
   "source": [
    "label_encoder = LabelEncoder()\n",
    "df_encoded = df\n",
    "\n",
    "df_encoded['title'] = label_encoder.fit_transform(df['title'])\n",
    "df_encoded['featuredLevel'] = label_encoder.fit_transform(df['featuredLevel'])\n",
    "df_encoded['propertyType'] = label_encoder.fit_transform(df['propertyType'])\n",
    "df_encoded['publishDate'] = label_encoder.fit_transform(df['publishDate'])\n",
    "df_encoded['category'] = label_encoder.fit_transform(df['category'])\n",
    "df_encoded['seller_name'] = label_encoder.fit_transform(df['seller_name'])\n",
    "df_encoded['seller_branch'] = label_encoder.fit_transform(df['seller_branch'])\n",
    "df_encoded['sellerType'] = label_encoder.fit_transform(df['sellerType'])\n",
    "df_encoded['m_hasVideo'] = label_encoder.fit_transform(df['m_hasVideo'])\n",
    "df_encoded['m_hasVirtualTour'] = label_encoder.fit_transform(df['m_hasVirtualTour'])\n",
    "df_encoded['m_hasBrochure'] = label_encoder.fit_transform(df['m_hasBrochure'])\n",
    "df_encoded['ber_rating'] = label_encoder.fit_transform(df['ber_rating'])\n",
    "df_encoded['longitude'] = label_encoder.fit_transform(df['longitude'])\n",
    "df_encoded['latitude'] = label_encoder.fit_transform(df['latitude'])"
   ]
  },
  {
   "cell_type": "markdown",
   "id": "2a55f365",
   "metadata": {},
   "source": [
    "<a id=\"section230\"></a>\n",
    "## Machine Learning Models\n",
    "After we prepared our data and made sure it is ready for being analised, we are ready to set our models. However, before that we are going to make PCA."
   ]
  },
  {
   "cell_type": "markdown",
   "id": "b7cf46ce",
   "metadata": {},
   "source": [
    "<a id=\"section231\"></a>\n",
    "#### Define a target and split data"
   ]
  },
  {
   "cell_type": "code",
   "execution_count": 17,
   "id": "06f94800",
   "metadata": {},
   "outputs": [],
   "source": [
    "X=df_encoded.drop(columns=['price'],axis = 1)\n",
    "y=df_encoded['price']"
   ]
  },
  {
   "cell_type": "code",
   "execution_count": 18,
   "id": "677f6191",
   "metadata": {},
   "outputs": [],
   "source": [
    "X_train, X_test, y_train, y_test = train_test_split(X, y, test_size=0.25, random_state=42)"
   ]
  },
  {
   "cell_type": "markdown",
   "id": "7da4a41a",
   "metadata": {},
   "source": [
    "<a id=\"section232\"></a>\n",
    "### PCA"
   ]
  },
  {
   "cell_type": "markdown",
   "id": "f2740089",
   "metadata": {},
   "source": [
    "<a id=\"section233\"></a>\n",
    "#### Scale dataset"
   ]
  },
  {
   "cell_type": "code",
   "execution_count": 19,
   "id": "d2ea158c",
   "metadata": {},
   "outputs": [],
   "source": [
    "scaler = StandardScaler()\n",
    "X_train_scaled = scaler.fit_transform(X)"
   ]
  },
  {
   "cell_type": "markdown",
   "id": "dd8574b9",
   "metadata": {},
   "source": [
    "<a id=\"section234\"></a>\n",
    "#### Create pca object"
   ]
  },
  {
   "cell_type": "code",
   "execution_count": 20,
   "id": "2744b5b4",
   "metadata": {},
   "outputs": [],
   "source": [
    "pca = PCA()\n",
    "pca.fit(X_train_scaled)\n",
    "pca_data = pca.transform(X_train_scaled)"
   ]
  },
  {
   "cell_type": "markdown",
   "id": "938bcddd",
   "metadata": {},
   "source": [
    "<a id=\"section235\"></a>\n",
    "#### Plot varietion ratio for each component"
   ]
  },
  {
   "cell_type": "code",
   "execution_count": 21,
   "id": "c340b57a",
   "metadata": {
    "collapsed": true
   },
   "outputs": [
    {
     "data": {
      "image/png": "[encoded data removed]",
      "text/plain": [
       "<Figure size 800x600 with 1 Axes>"
      ]
     },
     "metadata": {},
     "output_type": "display_data"
    }
   ],
   "source": [
    "variations = np.round(pca.explained_variance_ratio_* 100, decimals=1)\n",
    "labels = [str(x) for x in range (1, len(variations)+1)]\n",
    "\n",
    "plt.figure(figsize=(8, 6))\n",
    "plt.plot(range(1, len(variations) + 1), \n",
    "         variations, marker='o', linestyle='--')\n",
    "plt.xlabel('Number of components')\n",
    "plt.ylabel('Variance ratio in %')\n",
    "plt.title('Explained variance ratio')\n",
    "plt.grid(True)\n",
    "plt.show()"
   ]
  },
  {
   "cell_type": "code",
   "execution_count": 22,
   "id": "c3081e75",
   "metadata": {
    "collapsed": true
   },
   "outputs": [
    {
     "data": {
      "image/png": "[encoded data removed]",
      "text/plain": [
       "<Figure size 640x480 with 1 Axes>"
      ]
     },
     "metadata": {},
     "output_type": "display_data"
    }
   ],
   "source": [
    "plt.plot(np.cumsum(variations)) \n",
    "plt.xlabel('number of components') \n",
    "plt.ylabel('cumulative explained variance');"
   ]
  },
  {
   "cell_type": "markdown",
   "id": "8046e879",
   "metadata": {},
   "source": [
    "<a id=\"section236\"></a>\n",
    "#### Calculate number of features which represent a sample with selected accuracy "
   ]
  },
  {
   "cell_type": "code",
   "execution_count": 23,
   "id": "ce71d3e0",
   "metadata": {
    "collapsed": true
   },
   "outputs": [
    {
     "name": "stdout",
     "output_type": "stream",
     "text": [
      "Percentage of variance: 99\n",
      "Number of components: 21\n"
     ]
    }
   ],
   "source": [
    "variance_ratio_percentage = 99\n",
    "variance_ratio = np.cumsum(variations)\n",
    "num_components = np.argmax(variance_ratio >= variance_ratio_percentage) + 1\n",
    "print(\"Percentage of variance:\", variance_ratio_percentage)\n",
    "print(\"Number of components:\", num_components)"
   ]
  },
  {
   "cell_type": "markdown",
   "id": "27547728",
   "metadata": {},
   "source": [
    "<a id=\"section237\"></a>\n",
    "#### List features and their ratio from calculated number"
   ]
  },
  {
   "cell_type": "code",
   "execution_count": 24,
   "id": "648f3195",
   "metadata": {
    "collapsed": true
   },
   "outputs": [
    {
     "name": "stdout",
     "output_type": "stream",
     "text": [
      "Index: 0, Feature: id, Variance Ratio: 10.2%\n",
      "Index: 1, Feature: title, Variance Ratio: 7.9%\n",
      "Index: 2, Feature: featuredLevel, Variance Ratio: 6.9%\n",
      "Index: 3, Feature: publishDate, Variance Ratio: 6.7%\n",
      "Index: 4, Feature: price, Variance Ratio: 6.2%\n",
      "Index: 5, Feature: numBedrooms, Variance Ratio: 5.8%\n",
      "Index: 6, Feature: numBathrooms, Variance Ratio: 5.5%\n",
      "Index: 7, Feature: propertyType, Variance Ratio: 5.0%\n",
      "Index: 8, Feature: propertySize, Variance Ratio: 4.8%\n",
      "Index: 9, Feature: category, Variance Ratio: 4.7%\n",
      "Index: 10, Feature: AMV_price, Variance Ratio: 4.6%\n",
      "Index: 11, Feature: sellerId, Variance Ratio: 4.4%\n",
      "Index: 12, Feature: seller_name, Variance Ratio: 4.1%\n",
      "Index: 13, Feature: seller_branch, Variance Ratio: 3.7%\n",
      "Index: 14, Feature: sellerType, Variance Ratio: 3.5%\n",
      "Index: 15, Feature: m_totalImages, Variance Ratio: 3.3%\n",
      "Index: 16, Feature: m_hasVideo, Variance Ratio: 3.2%\n",
      "Index: 17, Feature: m_hasVirtualTour, Variance Ratio: 3.1%\n",
      "Index: 18, Feature: m_hasBrochure, Variance Ratio: 2.5%\n",
      "Index: 19, Feature: ber_rating, Variance Ratio: 2.2%\n",
      "Index: 20, Feature: longitude, Variance Ratio: 1.7%\n"
     ]
    }
   ],
   "source": [
    "abs_loadings = np.abs(pca.components_)\n",
    "importance_scores = np.sum(abs_loadings, axis=0)\n",
    "variance_ratios = variations\n",
    "\n",
    "feature_variance = {}\n",
    "for i, (feature_name, variance_ratio) in enumerate(zip(df.columns, variance_ratios)):\n",
    "    feature_variance[i, feature_name] = variance_ratio\n",
    "\n",
    "sorted_feature_variance = dict(sorted(feature_variance.items(), key=lambda item: item[1], reverse=True))\n",
    "\n",
    "most_important_features = list(sorted_feature_variance.items())[:num_components]\n",
    "\n",
    "for (index, feature), variance_ratio in most_important_features:\n",
    "    print(f\"Index: {index}, Feature: {feature}, Variance Ratio: {variance_ratio:.1f}%\")\n"
   ]
  },
  {
   "cell_type": "markdown",
   "id": "99d6c988",
   "metadata": {},
   "source": [
    "***"
   ]
  },
  {
   "cell_type": "markdown",
   "id": "b09fec38",
   "metadata": {},
   "source": [
    "<a id=\"section238\"></a>\n",
    "### PCA Transform"
   ]
  },
  {
   "cell_type": "code",
   "execution_count": 25,
   "id": "fcbb2b0b",
   "metadata": {
    "collapsed": true
   },
   "outputs": [
    {
     "name": "stdout",
     "output_type": "stream",
     "text": [
      "original shape X_train: (2437, 21)\n",
      "original shape X_test: (813, 21)\n",
      "transformed shape X_train_pca: (2437, 21)\n",
      "transformed shape X_test_pca: (813, 21)\n"
     ]
    }
   ],
   "source": [
    "pca = PCA(n_components=20)\n",
    "X_train_pca = pca.fit_transform(X_train)\n",
    "X_test_pca = pca.transform(X_test)\n",
    "print(\"original shape X_train:\", X_train.shape)\n",
    "print(\"original shape X_test:\", X_test.shape)\n",
    "print(\"transformed shape X_train_pca:\", X_train_pca.shape)\n",
    "print(\"transformed shape X_test_pca:\", X_test_pca.shape)\n",
    "\n"
   ]
  },
  {
   "cell_type": "code",
   "execution_count": 26,
   "id": "051f1ba6",
   "metadata": {},
   "outputs": [],
   "source": [
    "scaler = StandardScaler()\n",
    "X_train_scaled = scaler.fit_transform(X_train_pca)\n",
    "X_test_scaled = scaler.transform(X_test_pca)"
   ]
  },
  {
   "cell_type": "markdown",
   "id": "1e753f1e",
   "metadata": {},
   "source": [
    "<a id=\"section239\"></a>\n",
    "### Defining models"
   ]
  },
  {
   "cell_type": "markdown",
   "id": "699389db",
   "metadata": {},
   "source": [
    "#### Linear Regression"
   ]
  },
  {
   "cell_type": "code",
   "execution_count": 28,
   "id": "00423a16",
   "metadata": {},
   "outputs": [],
   "source": [
    "lr_model = LinearRegression()"
   ]
  },
  {
   "cell_type": "markdown",
   "id": "5667c242",
   "metadata": {},
   "source": [
    "#### Ridge Regression"
   ]
  },
  {
   "cell_type": "code",
   "execution_count": 29,
   "id": "9db24ed0",
   "metadata": {},
   "outputs": [],
   "source": [
    "ridge_model = Ridge()"
   ]
  },
  {
   "cell_type": "markdown",
   "id": "564c06b1",
   "metadata": {},
   "source": [
    "#### Lasso Regression"
   ]
  },
  {
   "cell_type": "code",
   "execution_count": 30,
   "id": "1a977894",
   "metadata": {},
   "outputs": [],
   "source": [
    "lasso_model = Lasso()"
   ]
  },
  {
   "cell_type": "markdown",
   "id": "8c7c3adb",
   "metadata": {},
   "source": [
    "#### ElasticNet Regression"
   ]
  },
  {
   "cell_type": "code",
   "execution_count": 31,
   "id": "e7090fd1",
   "metadata": {},
   "outputs": [],
   "source": [
    "elasticnet_model = ElasticNet()"
   ]
  },
  {
   "cell_type": "markdown",
   "id": "c6ff0fc4",
   "metadata": {},
   "source": [
    "#### Decision Tree Regression"
   ]
  },
  {
   "cell_type": "code",
   "execution_count": 32,
   "id": "bdfe0d50",
   "metadata": {},
   "outputs": [],
   "source": [
    "dt_model = DecisionTreeRegressor()"
   ]
  },
  {
   "cell_type": "markdown",
   "id": "9fe80d2e",
   "metadata": {},
   "source": [
    "#### Random Forest Regression"
   ]
  },
  {
   "cell_type": "code",
   "execution_count": 33,
   "id": "c2bcc799",
   "metadata": {},
   "outputs": [],
   "source": [
    "rf_model = RandomForestRegressor()"
   ]
  },
  {
   "cell_type": "markdown",
   "id": "7ae5b502",
   "metadata": {},
   "source": [
    "#### Gradient Boosting Regression"
   ]
  },
  {
   "cell_type": "code",
   "execution_count": 34,
   "id": "ad439dfd",
   "metadata": {},
   "outputs": [],
   "source": [
    "gb_model = GradientBoostingRegressor()"
   ]
  },
  {
   "cell_type": "markdown",
   "id": "c99f41ee",
   "metadata": {},
   "source": [
    "#### Support Vector Regression"
   ]
  },
  {
   "cell_type": "code",
   "execution_count": 35,
   "id": "2cbe07d2",
   "metadata": {},
   "outputs": [],
   "source": [
    "svr_model = SVR(kernel='linear')"
   ]
  },
  {
   "cell_type": "markdown",
   "id": "b7f8abc0",
   "metadata": {},
   "source": [
    "#### K-Nearest Neighbors Regression"
   ]
  },
  {
   "cell_type": "code",
   "execution_count": 36,
   "id": "78bda9a6",
   "metadata": {},
   "outputs": [],
   "source": [
    "knn_model = KNeighborsRegressor()"
   ]
  },
  {
   "cell_type": "markdown",
   "id": "f25f47d1",
   "metadata": {},
   "source": [
    "<a id=\"section240\"></a>\n",
    "## Hyperparameter Tuning\n",
    "Each machine learning model has their own parameters by default. Hyperparameter tuning allows us to set multiple values of each parameter thereby creating new modified models. The more parameters the model has the more variation we can create and track the best parameters for our model. \n",
    "\n",
    "As a result, we should get some information about which combination of parameters gives us the best accuracy. So, after we will be able to change the default parameters for our model.\n",
    "\n",
    "At this stage we are going to define parametrs for each model which we want to test.\n",
    "Paramaters for each model may vary, so before set parametrs we will check documentantion for the library. Links are attached."
   ]
  },
  {
   "cell_type": "markdown",
   "id": "ca441ecc",
   "metadata": {},
   "source": [
    "<a id=\"section241\"></a>\n",
    "### Parameters "
   ]
  },
  {
   "cell_type": "markdown",
   "id": "e47052b5",
   "metadata": {},
   "source": [
    "#### Linear Regression\n",
    "**https://scikit-learn.org/stable/modules/generated/sklearn.linear_model.LinearRegression.html** Accessed on April 4, 2024."
   ]
  },
  {
   "cell_type": "code",
   "execution_count": 37,
   "id": "f04cad57",
   "metadata": {},
   "outputs": [],
   "source": [
    "hyp_params_linear_reg = {}"
   ]
  },
  {
   "cell_type": "markdown",
   "id": "cefe9a26",
   "metadata": {},
   "source": [
    "#### Ridge Regression\n",
    "**https://scikit-learn.org/stable/modules/generated/sklearn.linear_model.Ridge.html** Accessed on April 4, 2024."
   ]
  },
  {
   "cell_type": "code",
   "execution_count": 38,
   "id": "216d41ca",
   "metadata": {},
   "outputs": [],
   "source": [
    "hyp_params_ridge_reg = {\n",
    "    'alpha': [0.1, 1, 10]\n",
    "}"
   ]
  },
  {
   "cell_type": "markdown",
   "id": "099402e4",
   "metadata": {},
   "source": [
    "####  Lasso Regression\n",
    "https://scikit-learn.org/stable/modules/generated/sklearn.linear_model.Lasso.html Accessed on April 4, 2024."
   ]
  },
  {
   "cell_type": "code",
   "execution_count": 39,
   "id": "b79e2447",
   "metadata": {},
   "outputs": [],
   "source": [
    "hyp_params_lasso_reg = {\n",
    "    'alpha': [0.1, 1, 10]\n",
    "}"
   ]
  },
  {
   "cell_type": "markdown",
   "id": "6b806944",
   "metadata": {},
   "source": [
    "####  ElasticNet Regression\n",
    "https://scikit-learn.org/stable/modules/generated/sklearn.linear_model.ElasticNet.html Accessed on April 4, 2024."
   ]
  },
  {
   "cell_type": "code",
   "execution_count": 40,
   "id": "caa12224",
   "metadata": {},
   "outputs": [],
   "source": [
    "hyp_params_elasticnet_reg = {\n",
    "    'alpha': [0.1, 1, 10],\n",
    "    'l1_ratio': [0.1, 0.5, 0.9]\n",
    "}"
   ]
  },
  {
   "cell_type": "markdown",
   "id": "a5103ef9",
   "metadata": {},
   "source": [
    "#### Decision Tree Regression\n",
    "https://scikit-learn.org/stable/modules/generated/sklearn.tree.DecisionTreeRegressor.html Accessed on April 4, 2024."
   ]
  },
  {
   "cell_type": "code",
   "execution_count": 41,
   "id": "05ab2a85",
   "metadata": {},
   "outputs": [],
   "source": [
    "hyp_params_decision_tree_reg = {\n",
    "    'max_depth': [3, 4, 5],\n",
    "    'min_samples_split': [2, 5, 10]\n",
    "}"
   ]
  },
  {
   "cell_type": "markdown",
   "id": "533f7ab3",
   "metadata": {},
   "source": [
    "####  Random Forest Regression\n",
    "https://scikit-learn.org/stable/modules/generated/sklearn.ensemble.RandomForestRegressor.html Accessed on April 4, 2024."
   ]
  },
  {
   "cell_type": "code",
   "execution_count": 42,
   "id": "023528ea",
   "metadata": {},
   "outputs": [],
   "source": [
    "hyp_params_random_forest_reg = {\n",
    "    'n_estimators': [50, 100, 200],\n",
    "    'max_depth': [3, 5, 7]\n",
    "}"
   ]
  },
  {
   "cell_type": "markdown",
   "id": "322d6853",
   "metadata": {},
   "source": [
    "#### Gradient Boosting Regression\n",
    "https://scikit-learn.org/stable/modules/generated/sklearn.ensemble.GradientBoostingRegressor.html Accessed on April 4, 2024."
   ]
  },
  {
   "cell_type": "code",
   "execution_count": 59,
   "id": "eb809c58",
   "metadata": {},
   "outputs": [],
   "source": [
    "hyp_params_gradient_boosting_reg = {\n",
    "    'n_estimators': [100, 200],\n",
    "    'learning_rate': [0.1, 0.5],\n",
    "    'max_depth': [ 5, 7]\n",
    "}"
   ]
  },
  {
   "cell_type": "markdown",
   "id": "26440b80",
   "metadata": {},
   "source": [
    "####  Support Vector Regression\n",
    "https://scikit-learn.org/stable/modules/generated/sklearn.svm.SVR.html Accessed on April 4, 2024."
   ]
  },
  {
   "cell_type": "code",
   "execution_count": 45,
   "id": "7be19b69",
   "metadata": {},
   "outputs": [],
   "source": [
    "hyp_params_svr = {\n",
    "    'C': [0.1],\n",
    "    'epsilon': [0.01, 0.1]\n",
    "}"
   ]
  },
  {
   "cell_type": "markdown",
   "id": "f50e91bd",
   "metadata": {},
   "source": [
    "####  KNN Regression\n",
    "https://scikit-learn.org/stable/modules/generated/sklearn.neighbors.KNeighborsRegressor.html Accessed on April 4, 2024."
   ]
  },
  {
   "cell_type": "code",
   "execution_count": 46,
   "id": "d54336b2",
   "metadata": {},
   "outputs": [],
   "source": [
    "hyp_params_knn_reg = {\n",
    "    'n_neighbors': [3, 5, 7],\n",
    "    'weights': ['uniform', 'distance']\n",
    "}"
   ]
  },
  {
   "cell_type": "markdown",
   "id": "fc01395a",
   "metadata": {},
   "source": [
    "<a id=\"section242\"></a>\n",
    "### Set Grid Search\n",
    "After we defined our target, models and parametrs for search, we can set our GridSearch constructor:\n",
    "- **estimator** - as a estimator we are going to use models which we created before.\n",
    "- **param_grid** - it parametrs which we want to test, they were set in a previous section.\n",
    "- **scoring** - scoring metrics we are want to include in the report.\n",
    "- **refit** - metric we want to use for extracting the best score acroos all tests.\n",
    "- **cv** - defines the number of cross validation folds.\n",
    "- **verbose** - indicates verbosity of the output during the grid search process."
   ]
  },
  {
   "cell_type": "code",
   "execution_count": 60,
   "id": "04df3199",
   "metadata": {},
   "outputs": [],
   "source": [
    "# Linear Regression\n",
    "GS_lr_model = GridSearchCV(estimator = lr_model, \n",
    "                  param_grid = hyp_params_linear_reg,\n",
    "                  scoring = [\"r2\", 'neg_root_mean_squared_error'],\n",
    "                  refit = \"r2\",\n",
    "                  cv = 5,\n",
    "                  verbose = 4)\n",
    "# Ridge Regression\n",
    "GS_ridge_model = GridSearchCV(estimator = ridge_model, \n",
    "                  param_grid = hyp_params_ridge_reg,\n",
    "                  scoring = [\"r2\", 'neg_root_mean_squared_error'],\n",
    "                  refit = \"r2\",\n",
    "                  cv = 5,\n",
    "                  verbose = 4)\n",
    "#  Lasso Regression\n",
    "GS_lasso_model = GridSearchCV(estimator = lasso_model, \n",
    "                  param_grid = hyp_params_lasso_reg,\n",
    "                  scoring = [\"r2\", 'neg_root_mean_squared_error'],\n",
    "                  refit = \"r2\",\n",
    "                  cv = 5,\n",
    "                  verbose = 4)\n",
    "#  ElasticNet Regression\n",
    "GS_elasticnet_model = GridSearchCV(estimator = elasticnet_model, \n",
    "                  param_grid = hyp_params_elasticnet_reg,\n",
    "                  scoring = [\"r2\", 'neg_root_mean_squared_error'],\n",
    "                  refit = \"r2\",\n",
    "                  cv = 5,\n",
    "                  verbose = 4)\n",
    "#  Decision Tree Regression\n",
    "GS_dt_model = GridSearchCV(estimator = dt_model, \n",
    "                  param_grid = hyp_params_decision_tree_reg,\n",
    "                  scoring = [\"r2\", 'neg_root_mean_squared_error'],\n",
    "                  refit = \"r2\",\n",
    "                  cv = 5,\n",
    "                  verbose = 4)\n",
    "#  Random Forest Regression\n",
    "GS_rf_model = GridSearchCV(estimator = rf_model, \n",
    "                  param_grid = hyp_params_random_forest_reg,\n",
    "                  scoring = [\"r2\", 'neg_root_mean_squared_error'],\n",
    "                  refit = \"r2\",\n",
    "                  cv = 5,\n",
    "                  verbose = 4)\n",
    "# Gradient Boosting Regression\n",
    "GS_gb_model = GridSearchCV(estimator = gb_model, \n",
    "                  param_grid = hyp_params_gradient_boosting_reg,\n",
    "                  scoring = [\"r2\", 'neg_root_mean_squared_error'],\n",
    "                  refit = \"r2\",\n",
    "                  cv = 3,\n",
    "                  verbose = 4)\n",
    "#  SVR\n",
    "GS_svr_model = GridSearchCV(estimator = svr_model, \n",
    "                  param_grid = hyp_params_svr,\n",
    "                  scoring = [\"r2\", 'neg_root_mean_squared_error'],\n",
    "                  refit = \"r2\",\n",
    "                  cv = 3,\n",
    "                  verbose = 4)\n",
    "#  KNN Regression\n",
    "GS_knn_model = GridSearchCV(estimator = knn_model, \n",
    "                  param_grid = hyp_params_knn_reg,\n",
    "                  scoring = [\"r2\", 'neg_root_mean_squared_error'],\n",
    "                  refit = \"r2\",\n",
    "                  cv = 5,\n",
    "                  verbose = 4)\n"
   ]
  },
  {
   "cell_type": "markdown",
   "id": "36300cd5",
   "metadata": {},
   "source": [
    "<a id=\"section243\"></a>\n",
    "## Evaluation Models with PCA and Grid Search"
   ]
  },
  {
   "cell_type": "markdown",
   "id": "54c16b98",
   "metadata": {},
   "source": [
    "Now we are ready to evaluate our model. To record results we are going to create an empty data frame, so we can add result in it after each evaluation. Additionally, we will define variables to store metrics which we want to analise."
   ]
  },
  {
   "cell_type": "code",
   "execution_count": 49,
   "id": "e660c9b8",
   "metadata": {},
   "outputs": [],
   "source": [
    "final_accuracy_PCA_GRID = pd.DataFrame(columns=['Model', 'Accuracy(R2)', 'Mean Squared Error', 'Mean Absolute Error', 'Best estimator', 'Best parametrs'])"
   ]
  },
  {
   "cell_type": "code",
   "execution_count": 50,
   "id": "513a2527",
   "metadata": {},
   "outputs": [],
   "source": [
    "final_accuracy_GRID = pd.DataFrame(columns=['Model', 'Accuracy(R2)', 'Mean Squared Error', 'Mean Absolute Error', 'Best estimator', 'Best parametrs'])"
   ]
  },
  {
   "cell_type": "markdown",
   "id": "5db8db21",
   "metadata": {},
   "source": [
    "#### Grid Search (Linear Regression)"
   ]
  },
  {
   "cell_type": "code",
   "execution_count": 53,
   "id": "388150a9",
   "metadata": {
    "collapsed": true
   },
   "outputs": [
    {
     "name": "stdout",
     "output_type": "stream",
     "text": [
      "Fitting 5 folds for each of 1 candidates, totalling 5 fits\n",
      "[CV 1/5] END  neg_root_mean_squared_error: (test=-128061.824) r2: (test=0.217) total time=   0.0s\n",
      "[CV 2/5] END  neg_root_mean_squared_error: (test=-127857.977) r2: (test=0.190) total time=   0.0s\n",
      "[CV 3/5] END  neg_root_mean_squared_error: (test=-122256.146) r2: (test=0.182) total time=   0.0s\n",
      "[CV 4/5] END  neg_root_mean_squared_error: (test=-126491.510) r2: (test=0.104) total time=   0.0s\n",
      "[CV 5/5] END  neg_root_mean_squared_error: (test=-135614.084) r2: (test=0.131) total time=   0.0s\n"
     ]
    }
   ],
   "source": [
    "GS_lr_model.fit(X_train_scaled, y_train)\n",
    "y_pred = GS_lr_model.predict(X_test_scaled)\n",
    "\n",
    "best_accuracy_score = GS_lr_model.best_score_\n",
    "best_estimator = GS_lr_model.best_estimator_\n",
    "best_parametrs = GS_lr_model.best_params_\n",
    "mse = mean_squared_error(y_test, y_pred)\n",
    "mae = mean_absolute_error(y_test, y_pred)\n",
    "final_accuracy_PCA_GRID = final_accuracy_PCA_GRID.append({'Model': 'Linear Regression', 'Accuracy(R2)': best_accuracy_score, 'Mean Squared Error': mse, 'Mean Absolute Error': mae, 'Best estimator': best_estimator, 'Best parametrs': best_parametrs }, ignore_index=True)"
   ]
  },
  {
   "cell_type": "markdown",
   "id": "5ba25819",
   "metadata": {},
   "source": [
    "#### Grid Search (Ridge Regression)"
   ]
  },
  {
   "cell_type": "code",
   "execution_count": 54,
   "id": "762ad2a0",
   "metadata": {
    "collapsed": true
   },
   "outputs": [
    {
     "name": "stdout",
     "output_type": "stream",
     "text": [
      "Fitting 5 folds for each of 3 candidates, totalling 15 fits\n",
      "[CV 1/5] END alpha=0.1; neg_root_mean_squared_error: (test=-128062.062) r2: (test=0.217) total time=   0.0s\n",
      "[CV 2/5] END alpha=0.1; neg_root_mean_squared_error: (test=-127858.071) r2: (test=0.190) total time=   0.0s\n",
      "[CV 3/5] END alpha=0.1; neg_root_mean_squared_error: (test=-122256.103) r2: (test=0.182) total time=   0.0s\n",
      "[CV 4/5] END alpha=0.1; neg_root_mean_squared_error: (test=-126490.991) r2: (test=0.104) total time=   0.0s\n",
      "[CV 5/5] END alpha=0.1; neg_root_mean_squared_error: (test=-135613.878) r2: (test=0.131) total time=   0.0s\n",
      "[CV 1/5] END alpha=1; neg_root_mean_squared_error: (test=-128064.209) r2: (test=0.217) total time=   0.0s\n",
      "[CV 2/5] END alpha=1; neg_root_mean_squared_error: (test=-127858.923) r2: (test=0.190) total time=   0.0s\n",
      "[CV 3/5] END alpha=1; neg_root_mean_squared_error: (test=-122255.716) r2: (test=0.182) total time=   0.0s\n",
      "[CV 4/5] END alpha=1; neg_root_mean_squared_error: (test=-126486.334) r2: (test=0.104) total time=   0.0s\n",
      "[CV 5/5] END alpha=1; neg_root_mean_squared_error: (test=-135612.022) r2: (test=0.131) total time=   0.0s\n",
      "[CV 1/5] END alpha=10; neg_root_mean_squared_error: (test=-128085.888) r2: (test=0.217) total time=   0.0s\n",
      "[CV 2/5] END alpha=10; neg_root_mean_squared_error: (test=-127867.703) r2: (test=0.190) total time=   0.0s\n",
      "[CV 3/5] END alpha=10; neg_root_mean_squared_error: (test=-122252.204) r2: (test=0.182) total time=   0.0s\n",
      "[CV 4/5] END alpha=10; neg_root_mean_squared_error: (test=-126440.422) r2: (test=0.104) total time=   0.0s\n",
      "[CV 5/5] END alpha=10; neg_root_mean_squared_error: (test=-135593.902) r2: (test=0.131) total time=   0.0s\n"
     ]
    }
   ],
   "source": [
    "GS_ridge_model.fit(X_train_scaled, y_train)\n",
    "y_pred = GS_ridge_model.predict(X_test_scaled)\n",
    "\n",
    "best_accuracy_score = GS_ridge_model.best_score_\n",
    "best_estimator = GS_ridge_model.best_estimator_\n",
    "best_parametrs = GS_ridge_model.best_params_\n",
    "mse = mean_squared_error(y_test, y_pred)\n",
    "mae = mean_absolute_error(y_test, y_pred)\n",
    "final_accuracy_PCA_GRID = final_accuracy_PCA_GRID.append({'Model': 'Ridge Regression', 'Accuracy(R2)': best_accuracy_score, 'Mean Squared Error': mse, 'Mean Absolute Error': mae, 'Best estimator': best_estimator, 'Best parametrs': best_parametrs }, ignore_index=True)"
   ]
  },
  {
   "cell_type": "markdown",
   "id": "9ec8c18a",
   "metadata": {},
   "source": [
    "#### Grid Search (Lasso Regression)"
   ]
  },
  {
   "cell_type": "code",
   "execution_count": 55,
   "id": "e7d33a67",
   "metadata": {
    "collapsed": true
   },
   "outputs": [
    {
     "name": "stdout",
     "output_type": "stream",
     "text": [
      "Fitting 5 folds for each of 3 candidates, totalling 15 fits\n",
      "[CV 1/5] END alpha=0.1; neg_root_mean_squared_error: (test=-128061.839) r2: (test=0.217) total time=   0.0s\n",
      "[CV 2/5] END alpha=0.1; neg_root_mean_squared_error: (test=-127857.975) r2: (test=0.190) total time=   0.0s\n",
      "[CV 3/5] END alpha=0.1; neg_root_mean_squared_error: (test=-122256.120) r2: (test=0.182) total time=   0.0s\n",
      "[CV 4/5] END alpha=0.1; neg_root_mean_squared_error: (test=-126491.451) r2: (test=0.104) total time=   0.0s\n",
      "[CV 5/5] END alpha=0.1; neg_root_mean_squared_error: (test=-135614.075) r2: (test=0.131) total time=   0.0s\n",
      "[CV 1/5] END alpha=1; neg_root_mean_squared_error: (test=-128061.972) r2: (test=0.217) total time=   0.0s\n",
      "[CV 2/5] END alpha=1; neg_root_mean_squared_error: (test=-127857.956) r2: (test=0.190) total time=   0.0s\n",
      "[CV 3/5] END alpha=1; neg_root_mean_squared_error: (test=-122255.884) r2: (test=0.182) total time=   0.0s\n",
      "[CV 4/5] END alpha=1; neg_root_mean_squared_error: (test=-126490.922) r2: (test=0.104) total time=   0.0s\n",
      "[CV 5/5] END alpha=1; neg_root_mean_squared_error: (test=-135613.992) r2: (test=0.131) total time=   0.0s\n",
      "[CV 1/5] END alpha=10; neg_root_mean_squared_error: (test=-128063.313) r2: (test=0.217) total time=   0.0s\n",
      "[CV 2/5] END alpha=10; neg_root_mean_squared_error: (test=-127857.776) r2: (test=0.190) total time=   0.0s\n",
      "[CV 3/5] END alpha=10; neg_root_mean_squared_error: (test=-122253.535) r2: (test=0.182) total time=   0.0s\n",
      "[CV 4/5] END alpha=10; neg_root_mean_squared_error: (test=-126485.654) r2: (test=0.104) total time=   0.0s\n",
      "[CV 5/5] END alpha=10; neg_root_mean_squared_error: (test=-135613.168) r2: (test=0.131) total time=   0.0s\n"
     ]
    }
   ],
   "source": [
    "GS_lasso_model.fit(X_train_scaled, y_train)\n",
    "y_pred = GS_lasso_model.predict(X_test_scaled)\n",
    "\n",
    "best_accuracy_score = GS_lasso_model.best_score_\n",
    "best_estimator = GS_lasso_model.best_estimator_\n",
    "best_parametrs = GS_lasso_model.best_params_\n",
    "mse = mean_squared_error(y_test, y_pred)\n",
    "mae = mean_absolute_error(y_test, y_pred)\n",
    "final_accuracy_PCA_GRID = final_accuracy_PCA_GRID.append({'Model': 'Lasso Regression', 'Accuracy(R2)': best_accuracy_score, 'Mean Squared Error': mse, 'Mean Absolute Error': mae, 'Best estimator': best_estimator, 'Best parametrs': best_parametrs }, ignore_index=True)"
   ]
  },
  {
   "cell_type": "markdown",
   "id": "3f1eeaf5",
   "metadata": {},
   "source": [
    "#### Grid Search (Elasticnet Regression)"
   ]
  },
  {
   "cell_type": "code",
   "execution_count": 56,
   "id": "6876c5f4",
   "metadata": {
    "collapsed": true
   },
   "outputs": [
    {
     "name": "stdout",
     "output_type": "stream",
     "text": [
      "Fitting 5 folds for each of 9 candidates, totalling 45 fits\n",
      "[CV 1/5] END alpha=0.1, l1_ratio=0.1; neg_root_mean_squared_error: (test=-128537.950) r2: (test=0.211) total time=   0.0s\n",
      "[CV 2/5] END alpha=0.1, l1_ratio=0.1; neg_root_mean_squared_error: (test=-128099.476) r2: (test=0.187) total time=   0.0s\n",
      "[CV 3/5] END alpha=0.1, l1_ratio=0.1; neg_root_mean_squared_error: (test=-122284.783) r2: (test=0.182) total time=   0.0s\n",
      "[CV 4/5] END alpha=0.1, l1_ratio=0.1; neg_root_mean_squared_error: (test=-125781.281) r2: (test=0.114) total time=   0.0s\n",
      "[CV 5/5] END alpha=0.1, l1_ratio=0.1; neg_root_mean_squared_error: (test=-135383.147) r2: (test=0.134) total time=   0.0s\n",
      "[CV 1/5] END alpha=0.1, l1_ratio=0.5; neg_root_mean_squared_error: (test=-128313.898) r2: (test=0.214) total time=   0.0s\n",
      "[CV 2/5] END alpha=0.1, l1_ratio=0.5; neg_root_mean_squared_error: (test=-127975.376) r2: (test=0.189) total time=   0.0s\n",
      "[CV 3/5] END alpha=0.1, l1_ratio=0.5; neg_root_mean_squared_error: (test=-122248.605) r2: (test=0.182) total time=   0.0s\n",
      "[CV 4/5] END alpha=0.1, l1_ratio=0.5; neg_root_mean_squared_error: (test=-126051.567) r2: (test=0.110) total time=   0.0s\n",
      "[CV 5/5] END alpha=0.1, l1_ratio=0.5; neg_root_mean_squared_error: (test=-135456.050) r2: (test=0.133) total time=   0.0s\n",
      "[CV 1/5] END alpha=0.1, l1_ratio=0.9; neg_root_mean_squared_error: (test=-128109.162) r2: (test=0.217) total time=   0.0s\n",
      "[CV 2/5] END alpha=0.1, l1_ratio=0.9; neg_root_mean_squared_error: (test=-127877.466) r2: (test=0.190) total time=   0.0s\n",
      "[CV 3/5] END alpha=0.1, l1_ratio=0.9; neg_root_mean_squared_error: (test=-122249.161) r2: (test=0.182) total time=   0.0s\n",
      "[CV 4/5] END alpha=0.1, l1_ratio=0.9; neg_root_mean_squared_error: (test=-126393.184) r2: (test=0.105) total time=   0.0s\n",
      "[CV 5/5] END alpha=0.1, l1_ratio=0.9; neg_root_mean_squared_error: (test=-135575.625) r2: (test=0.131) total time=   0.0s\n",
      "[CV 1/5] END alpha=1, l1_ratio=0.1; neg_root_mean_squared_error: (test=-133195.516) r2: (test=0.153) total time=   0.0s\n",
      "[CV 2/5] END alpha=1, l1_ratio=0.1; neg_root_mean_squared_error: (test=-131631.107) r2: (test=0.141) total time=   0.0s\n",
      "[CV 3/5] END alpha=1, l1_ratio=0.1; neg_root_mean_squared_error: (test=-125066.510) r2: (test=0.144) total time=   0.0s\n",
      "[CV 4/5] END alpha=1, l1_ratio=0.1; neg_root_mean_squared_error: (test=-125744.856) r2: (test=0.114) total time=   0.0s\n",
      "[CV 5/5] END alpha=1, l1_ratio=0.1; neg_root_mean_squared_error: (test=-136981.804) r2: (test=0.113) total time=   0.0s\n",
      "[CV 1/5] END alpha=1, l1_ratio=0.5; neg_root_mean_squared_error: (test=-131084.977) r2: (test=0.180) total time=   0.0s\n",
      "[CV 2/5] END alpha=1, l1_ratio=0.5; neg_root_mean_squared_error: (test=-129919.174) r2: (test=0.164) total time=   0.0s\n",
      "[CV 3/5] END alpha=1, l1_ratio=0.5; neg_root_mean_squared_error: (test=-123572.829) r2: (test=0.165) total time=   0.0s\n",
      "[CV 4/5] END alpha=1, l1_ratio=0.5; neg_root_mean_squared_error: (test=-125136.163) r2: (test=0.123) total time=   0.0s\n",
      "[CV 5/5] END alpha=1, l1_ratio=0.5; neg_root_mean_squared_error: (test=-135909.413) r2: (test=0.127) total time=   0.0s\n",
      "[CV 1/5] END alpha=1, l1_ratio=0.9; neg_root_mean_squared_error: (test=-128596.479) r2: (test=0.211) total time=   0.0s\n",
      "[CV 2/5] END alpha=1, l1_ratio=0.9; neg_root_mean_squared_error: (test=-128133.903) r2: (test=0.186) total time=   0.0s\n",
      "[CV 3/5] END alpha=1, l1_ratio=0.9; neg_root_mean_squared_error: (test=-122298.520) r2: (test=0.182) total time=   0.0s\n",
      "[CV 4/5] END alpha=1, l1_ratio=0.9; neg_root_mean_squared_error: (test=-125722.996) r2: (test=0.115) total time=   0.0s\n",
      "[CV 5/5] END alpha=1, l1_ratio=0.9; neg_root_mean_squared_error: (test=-135371.155) r2: (test=0.134) total time=   0.0s\n",
      "[CV 1/5] END alpha=10, l1_ratio=0.1; neg_root_mean_squared_error: (test=-142287.760) r2: (test=0.034) total time=   0.0s\n",
      "[CV 2/5] END alpha=10, l1_ratio=0.1; neg_root_mean_squared_error: (test=-139661.010) r2: (test=0.034) total time=   0.0s\n",
      "[CV 3/5] END alpha=10, l1_ratio=0.1; neg_root_mean_squared_error: (test=-132769.304) r2: (test=0.036) total time=   0.0s\n",
      "[CV 4/5] END alpha=10, l1_ratio=0.1; neg_root_mean_squared_error: (test=-131521.742) r2: (test=0.031) total time=   0.0s\n",
      "[CV 5/5] END alpha=10, l1_ratio=0.1; neg_root_mean_squared_error: (test=-143374.057) r2: (test=0.029) total time=   0.0s\n",
      "[CV 1/5] END alpha=10, l1_ratio=0.5; neg_root_mean_squared_error: (test=-140622.223) r2: (test=0.056) total time=   0.0s\n",
      "[CV 2/5] END alpha=10, l1_ratio=0.5; neg_root_mean_squared_error: (test=-138141.468) r2: (test=0.054) total time=   0.0s\n",
      "[CV 3/5] END alpha=10, l1_ratio=0.5; neg_root_mean_squared_error: (test=-131270.039) r2: (test=0.057) total time=   0.0s\n",
      "[CV 4/5] END alpha=10, l1_ratio=0.5; neg_root_mean_squared_error: (test=-130256.082) r2: (test=0.050) total time=   0.0s\n",
      "[CV 5/5] END alpha=10, l1_ratio=0.5; neg_root_mean_squared_error: (test=-142084.408) r2: (test=0.046) total time=   0.0s\n",
      "[CV 1/5] END alpha=10, l1_ratio=0.9; neg_root_mean_squared_error: (test=-133646.365) r2: (test=0.148) total time=   0.0s\n",
      "[CV 2/5] END alpha=10, l1_ratio=0.9; neg_root_mean_squared_error: (test=-132008.447) r2: (test=0.137) total time=   0.0s\n",
      "[CV 3/5] END alpha=10, l1_ratio=0.9; neg_root_mean_squared_error: (test=-125408.511) r2: (test=0.140) total time=   0.0s\n",
      "[CV 4/5] END alpha=10, l1_ratio=0.9; neg_root_mean_squared_error: (test=-125934.273) r2: (test=0.112) total time=   0.0s\n",
      "[CV 5/5] END alpha=10, l1_ratio=0.9; neg_root_mean_squared_error: (test=-137244.772) r2: (test=0.110) total time=   0.0s\n"
     ]
    }
   ],
   "source": [
    "GS_elasticnet_model.fit(X_train_scaled, y_train)\n",
    "y_pred = GS_elasticnet_model.predict(X_test_scaled)\n",
    "\n",
    "best_accuracy_score = GS_elasticnet_model.best_score_\n",
    "best_estimator = GS_elasticnet_model.best_estimator_\n",
    "best_parametrs = GS_elasticnet_model.best_params_\n",
    "mse = mean_squared_error(y_test, y_pred)\n",
    "mae = mean_absolute_error(y_test, y_pred)\n",
    "final_accuracy_PCA_GRID = final_accuracy_PCA_GRID.append({'Model': 'Elasticnet Regression', 'Accuracy(R2)': best_accuracy_score, 'Mean Squared Error': mse, 'Mean Absolute Error': mae, 'Best estimator': best_estimator, 'Best parametrs': best_parametrs }, ignore_index=True)"
   ]
  },
  {
   "cell_type": "markdown",
   "id": "5a028e4b",
   "metadata": {},
   "source": [
    "#### Grid Search (Decision tree Regression)"
   ]
  },
  {
   "cell_type": "code",
   "execution_count": 57,
   "id": "c1e4506a",
   "metadata": {
    "collapsed": true
   },
   "outputs": [
    {
     "name": "stdout",
     "output_type": "stream",
     "text": [
      "Fitting 5 folds for each of 9 candidates, totalling 45 fits\n",
      "[CV 1/5] END max_depth=3, min_samples_split=2; neg_root_mean_squared_error: (test=-137813.507) r2: (test=0.094) total time=   0.0s\n",
      "[CV 2/5] END max_depth=3, min_samples_split=2; neg_root_mean_squared_error: (test=-131831.745) r2: (test=0.139) total time=   0.0s\n",
      "[CV 3/5] END max_depth=3, min_samples_split=2; neg_root_mean_squared_error: (test=-126529.006) r2: (test=0.124) total time=   0.0s\n",
      "[CV 4/5] END max_depth=3, min_samples_split=2; neg_root_mean_squared_error: (test=-127932.346) r2: (test=0.083) total time=   0.0s\n",
      "[CV 5/5] END max_depth=3, min_samples_split=2; neg_root_mean_squared_error: (test=-139346.902) r2: (test=0.082) total time=   0.0s\n",
      "[CV 1/5] END max_depth=3, min_samples_split=5; neg_root_mean_squared_error: (test=-137813.507) r2: (test=0.094) total time=   0.0s\n",
      "[CV 2/5] END max_depth=3, min_samples_split=5; neg_root_mean_squared_error: (test=-131831.745) r2: (test=0.139) total time=   0.0s\n",
      "[CV 3/5] END max_depth=3, min_samples_split=5; neg_root_mean_squared_error: (test=-126529.006) r2: (test=0.124) total time=   0.0s\n",
      "[CV 4/5] END max_depth=3, min_samples_split=5; neg_root_mean_squared_error: (test=-127932.346) r2: (test=0.083) total time=   0.0s\n",
      "[CV 5/5] END max_depth=3, min_samples_split=5; neg_root_mean_squared_error: (test=-139346.902) r2: (test=0.082) total time=   0.0s\n",
      "[CV 1/5] END max_depth=3, min_samples_split=10; neg_root_mean_squared_error: (test=-137813.507) r2: (test=0.094) total time=   0.0s\n",
      "[CV 2/5] END max_depth=3, min_samples_split=10; neg_root_mean_squared_error: (test=-131831.745) r2: (test=0.139) total time=   0.0s\n",
      "[CV 3/5] END max_depth=3, min_samples_split=10; neg_root_mean_squared_error: (test=-126529.006) r2: (test=0.124) total time=   0.0s\n",
      "[CV 4/5] END max_depth=3, min_samples_split=10; neg_root_mean_squared_error: (test=-127932.346) r2: (test=0.083) total time=   0.0s\n",
      "[CV 5/5] END max_depth=3, min_samples_split=10; neg_root_mean_squared_error: (test=-139346.902) r2: (test=0.082) total time=   0.0s\n",
      "[CV 1/5] END max_depth=4, min_samples_split=2; neg_root_mean_squared_error: (test=-137896.473) r2: (test=0.092) total time=   0.0s\n",
      "[CV 2/5] END max_depth=4, min_samples_split=2; neg_root_mean_squared_error: (test=-130723.263) r2: (test=0.153) total time=   0.0s\n",
      "[CV 3/5] END max_depth=4, min_samples_split=2; neg_root_mean_squared_error: (test=-126319.415) r2: (test=0.127) total time=   0.0s\n",
      "[CV 4/5] END max_depth=4, min_samples_split=2; neg_root_mean_squared_error: (test=-128874.269) r2: (test=0.070) total time=   0.0s\n",
      "[CV 5/5] END max_depth=4, min_samples_split=2; neg_root_mean_squared_error: (test=-137832.695) r2: (test=0.102) total time=   0.0s\n",
      "[CV 1/5] END max_depth=4, min_samples_split=5; neg_root_mean_squared_error: (test=-137896.473) r2: (test=0.092) total time=   0.0s\n",
      "[CV 2/5] END max_depth=4, min_samples_split=5; neg_root_mean_squared_error: (test=-130723.263) r2: (test=0.153) total time=   0.0s\n",
      "[CV 3/5] END max_depth=4, min_samples_split=5; neg_root_mean_squared_error: (test=-126319.415) r2: (test=0.127) total time=   0.0s\n",
      "[CV 4/5] END max_depth=4, min_samples_split=5; neg_root_mean_squared_error: (test=-128874.269) r2: (test=0.070) total time=   0.0s\n",
      "[CV 5/5] END max_depth=4, min_samples_split=5; neg_root_mean_squared_error: (test=-137832.695) r2: (test=0.102) total time=   0.0s\n",
      "[CV 1/5] END max_depth=4, min_samples_split=10; neg_root_mean_squared_error: (test=-137896.473) r2: (test=0.092) total time=   0.0s\n",
      "[CV 2/5] END max_depth=4, min_samples_split=10; neg_root_mean_squared_error: (test=-130723.263) r2: (test=0.153) total time=   0.0s\n",
      "[CV 3/5] END max_depth=4, min_samples_split=10; neg_root_mean_squared_error: (test=-126319.415) r2: (test=0.127) total time=   0.0s\n",
      "[CV 4/5] END max_depth=4, min_samples_split=10; neg_root_mean_squared_error: (test=-128874.269) r2: (test=0.070) total time=   0.0s\n",
      "[CV 5/5] END max_depth=4, min_samples_split=10; neg_root_mean_squared_error: (test=-137832.695) r2: (test=0.102) total time=   0.0s\n",
      "[CV 1/5] END max_depth=5, min_samples_split=2; neg_root_mean_squared_error: (test=-136628.741) r2: (test=0.109) total time=   0.0s\n",
      "[CV 2/5] END max_depth=5, min_samples_split=2; neg_root_mean_squared_error: (test=-133394.774) r2: (test=0.118) total time=   0.0s\n",
      "[CV 3/5] END max_depth=5, min_samples_split=2; neg_root_mean_squared_error: (test=-130829.236) r2: (test=0.064) total time=   0.0s\n",
      "[CV 4/5] END max_depth=5, min_samples_split=2; neg_root_mean_squared_error: (test=-133398.740) r2: (test=0.003) total time=   0.0s\n",
      "[CV 5/5] END max_depth=5, min_samples_split=2; neg_root_mean_squared_error: (test=-137893.449) r2: (test=0.101) total time=   0.0s\n",
      "[CV 1/5] END max_depth=5, min_samples_split=5; neg_root_mean_squared_error: (test=-136440.771) r2: (test=0.111) total time=   0.0s\n",
      "[CV 2/5] END max_depth=5, min_samples_split=5; neg_root_mean_squared_error: (test=-133523.979) r2: (test=0.117) total time=   0.0s\n",
      "[CV 3/5] END max_depth=5, min_samples_split=5; neg_root_mean_squared_error: (test=-128884.739) r2: (test=0.091) total time=   0.0s\n",
      "[CV 4/5] END max_depth=5, min_samples_split=5; neg_root_mean_squared_error: (test=-133486.371) r2: (test=0.002) total time=   0.0s\n",
      "[CV 5/5] END max_depth=5, min_samples_split=5; neg_root_mean_squared_error: (test=-137893.449) r2: (test=0.101) total time=   0.0s\n",
      "[CV 1/5] END max_depth=5, min_samples_split=10; neg_root_mean_squared_error: (test=-136759.249) r2: (test=0.107) total time=   0.0s\n",
      "[CV 2/5] END max_depth=5, min_samples_split=10; neg_root_mean_squared_error: (test=-133455.595) r2: (test=0.118) total time=   0.0s\n",
      "[CV 3/5] END max_depth=5, min_samples_split=10; neg_root_mean_squared_error: (test=-128928.562) r2: (test=0.091) total time=   0.0s\n",
      "[CV 4/5] END max_depth=5, min_samples_split=10; neg_root_mean_squared_error: (test=-133430.617) r2: (test=0.003) total time=   0.0s\n",
      "[CV 5/5] END max_depth=5, min_samples_split=10; neg_root_mean_squared_error: (test=-137771.324) r2: (test=0.103) total time=   0.0s\n"
     ]
    }
   ],
   "source": [
    "GS_dt_model.fit(X_train_scaled, y_train)\n",
    "y_pred = GS_dt_model.predict(X_test_scaled)\n",
    "\n",
    "best_accuracy_score = GS_dt_model.best_score_\n",
    "best_estimator = GS_dt_model.best_estimator_\n",
    "best_parametrs = GS_dt_model.best_params_\n",
    "mse = mean_squared_error(y_test, y_pred)\n",
    "mae = mean_absolute_error(y_test, y_pred)\n",
    "final_accuracy_PCA_GRID = final_accuracy_PCA_GRID.append({'Model': 'Decision tree Regression', 'Accuracy(R2)': best_accuracy_score, 'Mean Squared Error': mse, 'Mean Absolute Error': mae, 'Best estimator': best_estimator, 'Best parametrs': best_parametrs }, ignore_index=True)"
   ]
  },
  {
   "cell_type": "markdown",
   "id": "915d45d0",
   "metadata": {},
   "source": [
    "#### Grid Search (Random Forest Regression)"
   ]
  },
  {
   "cell_type": "code",
   "execution_count": 58,
   "id": "c79a685b",
   "metadata": {
    "collapsed": true
   },
   "outputs": [
    {
     "name": "stdout",
     "output_type": "stream",
     "text": [
      "Fitting 5 folds for each of 9 candidates, totalling 45 fits\n",
      "[CV 1/5] END max_depth=3, n_estimators=50; neg_root_mean_squared_error: (test=-134633.184) r2: (test=0.135) total time=   0.3s\n",
      "[CV 2/5] END max_depth=3, n_estimators=50; neg_root_mean_squared_error: (test=-129451.978) r2: (test=0.170) total time=   0.3s\n",
      "[CV 3/5] END max_depth=3, n_estimators=50; neg_root_mean_squared_error: (test=-123724.242) r2: (test=0.162) total time=   0.3s\n",
      "[CV 4/5] END max_depth=3, n_estimators=50; neg_root_mean_squared_error: (test=-123853.939) r2: (test=0.141) total time=   0.3s\n",
      "[CV 5/5] END max_depth=3, n_estimators=50; neg_root_mean_squared_error: (test=-136688.876) r2: (test=0.117) total time=   0.3s\n",
      "[CV 1/5] END max_depth=3, n_estimators=100; neg_root_mean_squared_error: (test=-134358.783) r2: (test=0.138) total time=   0.5s\n",
      "[CV 2/5] END max_depth=3, n_estimators=100; neg_root_mean_squared_error: (test=-129255.429) r2: (test=0.172) total time=   0.5s\n",
      "[CV 3/5] END max_depth=3, n_estimators=100; neg_root_mean_squared_error: (test=-123830.475) r2: (test=0.161) total time=   0.5s\n",
      "[CV 4/5] END max_depth=3, n_estimators=100; neg_root_mean_squared_error: (test=-123981.059) r2: (test=0.139) total time=   0.5s\n",
      "[CV 5/5] END max_depth=3, n_estimators=100; neg_root_mean_squared_error: (test=-136928.272) r2: (test=0.114) total time=   0.5s\n",
      "[CV 1/5] END max_depth=3, n_estimators=200; neg_root_mean_squared_error: (test=-134252.197) r2: (test=0.140) total time=   1.0s\n",
      "[CV 2/5] END max_depth=3, n_estimators=200; neg_root_mean_squared_error: (test=-129254.164) r2: (test=0.172) total time=   1.0s\n",
      "[CV 3/5] END max_depth=3, n_estimators=200; neg_root_mean_squared_error: (test=-124038.303) r2: (test=0.158) total time=   1.0s\n",
      "[CV 4/5] END max_depth=3, n_estimators=200; neg_root_mean_squared_error: (test=-123863.750) r2: (test=0.141) total time=   1.1s\n",
      "[CV 5/5] END max_depth=3, n_estimators=200; neg_root_mean_squared_error: (test=-136517.219) r2: (test=0.119) total time=   1.3s\n",
      "[CV 1/5] END max_depth=5, n_estimators=50; neg_root_mean_squared_error: (test=-131203.230) r2: (test=0.178) total time=   0.4s\n",
      "[CV 2/5] END max_depth=5, n_estimators=50; neg_root_mean_squared_error: (test=-127217.642) r2: (test=0.198) total time=   0.4s\n",
      "[CV 3/5] END max_depth=5, n_estimators=50; neg_root_mean_squared_error: (test=-122840.550) r2: (test=0.174) total time=   0.4s\n",
      "[CV 4/5] END max_depth=5, n_estimators=50; neg_root_mean_squared_error: (test=-123168.162) r2: (test=0.150) total time=   0.4s\n",
      "[CV 5/5] END max_depth=5, n_estimators=50; neg_root_mean_squared_error: (test=-135522.621) r2: (test=0.132) total time=   0.4s\n",
      "[CV 1/5] END max_depth=5, n_estimators=100; neg_root_mean_squared_error: (test=-131711.952) r2: (test=0.172) total time=   0.8s\n",
      "[CV 2/5] END max_depth=5, n_estimators=100; neg_root_mean_squared_error: (test=-126446.313) r2: (test=0.208) total time=   0.9s\n",
      "[CV 3/5] END max_depth=5, n_estimators=100; neg_root_mean_squared_error: (test=-123030.085) r2: (test=0.172) total time=   0.8s\n",
      "[CV 4/5] END max_depth=5, n_estimators=100; neg_root_mean_squared_error: (test=-123744.533) r2: (test=0.142) total time=   0.8s\n",
      "[CV 5/5] END max_depth=5, n_estimators=100; neg_root_mean_squared_error: (test=-135197.543) r2: (test=0.136) total time=   0.8s\n",
      "[CV 1/5] END max_depth=5, n_estimators=200; neg_root_mean_squared_error: (test=-131947.780) r2: (test=0.169) total time=   1.6s\n",
      "[CV 2/5] END max_depth=5, n_estimators=200; neg_root_mean_squared_error: (test=-127464.304) r2: (test=0.195) total time=   1.6s\n",
      "[CV 3/5] END max_depth=5, n_estimators=200; neg_root_mean_squared_error: (test=-123137.208) r2: (test=0.170) total time=   1.6s\n",
      "[CV 4/5] END max_depth=5, n_estimators=200; neg_root_mean_squared_error: (test=-123511.507) r2: (test=0.145) total time=   1.6s\n",
      "[CV 5/5] END max_depth=5, n_estimators=200; neg_root_mean_squared_error: (test=-135068.083) r2: (test=0.138) total time=   1.6s\n",
      "[CV 1/5] END max_depth=7, n_estimators=50; neg_root_mean_squared_error: (test=-131348.600) r2: (test=0.177) total time=   0.5s\n",
      "[CV 2/5] END max_depth=7, n_estimators=50; neg_root_mean_squared_error: (test=-127130.742) r2: (test=0.199) total time=   0.5s\n",
      "[CV 3/5] END max_depth=7, n_estimators=50; neg_root_mean_squared_error: (test=-123646.611) r2: (test=0.164) total time=   0.5s\n",
      "[CV 4/5] END max_depth=7, n_estimators=50; neg_root_mean_squared_error: (test=-124155.527) r2: (test=0.137) total time=   0.5s\n",
      "[CV 5/5] END max_depth=7, n_estimators=50; neg_root_mean_squared_error: (test=-135945.741) r2: (test=0.127) total time=   0.5s\n",
      "[CV 1/5] END max_depth=7, n_estimators=100; neg_root_mean_squared_error: (test=-130850.794) r2: (test=0.183) total time=   1.1s\n",
      "[CV 2/5] END max_depth=7, n_estimators=100; neg_root_mean_squared_error: (test=-126664.825) r2: (test=0.205) total time=   1.2s\n",
      "[CV 3/5] END max_depth=7, n_estimators=100; neg_root_mean_squared_error: (test=-123580.857) r2: (test=0.164) total time=   1.2s\n",
      "[CV 4/5] END max_depth=7, n_estimators=100; neg_root_mean_squared_error: (test=-124668.724) r2: (test=0.129) total time=   1.1s\n",
      "[CV 5/5] END max_depth=7, n_estimators=100; neg_root_mean_squared_error: (test=-135158.001) r2: (test=0.137) total time=   1.2s\n",
      "[CV 1/5] END max_depth=7, n_estimators=200; neg_root_mean_squared_error: (test=-130489.348) r2: (test=0.187) total time=   2.1s\n",
      "[CV 2/5] END max_depth=7, n_estimators=200; neg_root_mean_squared_error: (test=-126276.926) r2: (test=0.210) total time=   2.3s\n",
      "[CV 3/5] END max_depth=7, n_estimators=200; neg_root_mean_squared_error: (test=-122733.554) r2: (test=0.176) total time=   2.6s\n",
      "[CV 4/5] END max_depth=7, n_estimators=200; neg_root_mean_squared_error: (test=-123825.416) r2: (test=0.141) total time=   2.5s\n",
      "[CV 5/5] END max_depth=7, n_estimators=200; neg_root_mean_squared_error: (test=-134827.590) r2: (test=0.141) total time=   2.4s\n"
     ]
    }
   ],
   "source": [
    "GS_rf_model.fit(X_train_scaled, y_train)\n",
    "y_pred = GS_rf_model.predict(X_test_scaled)\n",
    "\n",
    "best_accuracy_score = GS_rf_model.best_score_\n",
    "best_estimator = GS_rf_model.best_estimator_\n",
    "best_parametrs = GS_rf_model.best_params_\n",
    "mse = mean_squared_error(y_test, y_pred)\n",
    "mae = mean_absolute_error(y_test, y_pred)\n",
    "final_accuracy_PCA_GRID = final_accuracy_PCA_GRID.append({'Model': 'Random Forest Regression', 'Accuracy(R2)': best_accuracy_score, 'Mean Squared Error': mse, 'Mean Absolute Error': mae, 'Best estimator': best_estimator, 'Best parametrs': best_parametrs }, ignore_index=True)"
   ]
  },
  {
   "cell_type": "markdown",
   "id": "4124229a",
   "metadata": {},
   "source": [
    "#### Grid Search (Gradient Boosting Regression)"
   ]
  },
  {
   "cell_type": "code",
   "execution_count": 61,
   "id": "9ff9ac93",
   "metadata": {
    "collapsed": true
   },
   "outputs": [
    {
     "name": "stdout",
     "output_type": "stream",
     "text": [
      "Fitting 3 folds for each of 8 candidates, totalling 24 fits\n",
      "[CV 1/3] END learning_rate=0.1, max_depth=5, n_estimators=100; neg_root_mean_squared_error: (test=-133827.593) r2: (test=0.157) total time=   1.1s\n",
      "[CV 2/3] END learning_rate=0.1, max_depth=5, n_estimators=100; neg_root_mean_squared_error: (test=-125219.917) r2: (test=0.136) total time=   1.1s\n",
      "[CV 3/3] END learning_rate=0.1, max_depth=5, n_estimators=100; neg_root_mean_squared_error: (test=-133893.702) r2: (test=0.088) total time=   1.1s\n",
      "[CV 1/3] END learning_rate=0.1, max_depth=5, n_estimators=200; neg_root_mean_squared_error: (test=-136335.241) r2: (test=0.125) total time=   2.2s\n",
      "[CV 2/3] END learning_rate=0.1, max_depth=5, n_estimators=200; neg_root_mean_squared_error: (test=-126894.806) r2: (test=0.113) total time=   2.2s\n",
      "[CV 3/3] END learning_rate=0.1, max_depth=5, n_estimators=200; neg_root_mean_squared_error: (test=-136555.364) r2: (test=0.052) total time=   2.2s\n",
      "[CV 1/3] END learning_rate=0.1, max_depth=7, n_estimators=100; neg_root_mean_squared_error: (test=-133085.375) r2: (test=0.166) total time=   1.5s\n",
      "[CV 2/3] END learning_rate=0.1, max_depth=7, n_estimators=100; neg_root_mean_squared_error: (test=-130049.977) r2: (test=0.069) total time=   1.5s\n",
      "[CV 3/3] END learning_rate=0.1, max_depth=7, n_estimators=100; neg_root_mean_squared_error: (test=-134054.279) r2: (test=0.086) total time=   1.5s\n",
      "[CV 1/3] END learning_rate=0.1, max_depth=7, n_estimators=200; neg_root_mean_squared_error: (test=-133385.441) r2: (test=0.162) total time=   3.0s\n",
      "[CV 2/3] END learning_rate=0.1, max_depth=7, n_estimators=200; neg_root_mean_squared_error: (test=-131805.699) r2: (test=0.043) total time=   3.0s\n",
      "[CV 3/3] END learning_rate=0.1, max_depth=7, n_estimators=200; neg_root_mean_squared_error: (test=-134810.242) r2: (test=0.076) total time=   2.9s\n",
      "[CV 1/3] END learning_rate=0.5, max_depth=5, n_estimators=100; neg_root_mean_squared_error: (test=-148047.069) r2: (test=-0.032) total time=   1.1s\n",
      "[CV 2/3] END learning_rate=0.5, max_depth=5, n_estimators=100; neg_root_mean_squared_error: (test=-145730.404) r2: (test=-0.170) total time=   1.1s\n",
      "[CV 3/3] END learning_rate=0.5, max_depth=5, n_estimators=100; neg_root_mean_squared_error: (test=-148558.331) r2: (test=-0.122) total time=   1.1s\n",
      "[CV 1/3] END learning_rate=0.5, max_depth=5, n_estimators=200; neg_root_mean_squared_error: (test=-148879.306) r2: (test=-0.043) total time=   2.2s\n",
      "[CV 2/3] END learning_rate=0.5, max_depth=5, n_estimators=200; neg_root_mean_squared_error: (test=-148078.005) r2: (test=-0.208) total time=   2.3s\n",
      "[CV 3/3] END learning_rate=0.5, max_depth=5, n_estimators=200; neg_root_mean_squared_error: (test=-148814.222) r2: (test=-0.126) total time=   2.3s\n",
      "[CV 1/3] END learning_rate=0.5, max_depth=7, n_estimators=100; neg_root_mean_squared_error: (test=-144802.896) r2: (test=0.013) total time=   1.5s\n",
      "[CV 2/3] END learning_rate=0.5, max_depth=7, n_estimators=100; neg_root_mean_squared_error: (test=-147377.121) r2: (test=-0.196) total time=   1.5s\n",
      "[CV 3/3] END learning_rate=0.5, max_depth=7, n_estimators=100; neg_root_mean_squared_error: (test=-149309.313) r2: (test=-0.134) total time=   1.5s\n",
      "[CV 1/3] END learning_rate=0.5, max_depth=7, n_estimators=200; neg_root_mean_squared_error: (test=-143953.704) r2: (test=0.024) total time=   2.9s\n",
      "[CV 2/3] END learning_rate=0.5, max_depth=7, n_estimators=200; neg_root_mean_squared_error: (test=-144892.197) r2: (test=-0.156) total time=   2.9s\n",
      "[CV 3/3] END learning_rate=0.5, max_depth=7, n_estimators=200; neg_root_mean_squared_error: (test=-152714.413) r2: (test=-0.186) total time=   3.0s\n"
     ]
    }
   ],
   "source": [
    "# my apology to your CPU\n",
    "GS_gb_model.fit(X_train_scaled, y_train)\n",
    "y_pred = GS_gb_model.predict(X_test_scaled)\n",
    "\n",
    "best_accuracy_score = GS_gb_model.best_score_\n",
    "best_estimator = GS_gb_model.best_estimator_\n",
    "best_parametrs = GS_gb_model.best_params_\n",
    "mse = mean_squared_error(y_test, y_pred)\n",
    "mae = mean_absolute_error(y_test, y_pred)\n",
    "final_accuracy_PCA_GRID = final_accuracy_PCA_GRID.append({'Model': 'Gradient Boosting Regression', 'Accuracy(R2)': best_accuracy_score, 'Mean Squared Error': mse, 'Mean Absolute Error': mae, 'Best estimator': best_estimator, 'Best parametrs': best_parametrs }, ignore_index=True)"
   ]
  },
  {
   "cell_type": "markdown",
   "id": "5f354e7c",
   "metadata": {},
   "source": [
    "#### Grid Search (SVR)"
   ]
  },
  {
   "cell_type": "code",
   "execution_count": 62,
   "id": "4c78330f",
   "metadata": {
    "collapsed": true
   },
   "outputs": [
    {
     "name": "stdout",
     "output_type": "stream",
     "text": [
      "Fitting 3 folds for each of 2 candidates, totalling 6 fits\n",
      "[CV 1/3] END C=0.1, epsilon=0.01; neg_root_mean_squared_error: (test=-148852.257) r2: (test=-0.043) total time=   0.2s\n",
      "[CV 2/3] END C=0.1, epsilon=0.01; neg_root_mean_squared_error: (test=-136064.806) r2: (test=-0.020) total time=   0.2s\n",
      "[CV 3/3] END C=0.1, epsilon=0.01; neg_root_mean_squared_error: (test=-141409.384) r2: (test=-0.017) total time=   0.2s\n",
      "[CV 1/3] END C=0.1, epsilon=0.1; neg_root_mean_squared_error: (test=-148852.257) r2: (test=-0.043) total time=   0.2s\n",
      "[CV 2/3] END C=0.1, epsilon=0.1; neg_root_mean_squared_error: (test=-136064.806) r2: (test=-0.020) total time=   0.1s\n",
      "[CV 3/3] END C=0.1, epsilon=0.1; neg_root_mean_squared_error: (test=-141409.384) r2: (test=-0.017) total time=   0.1s\n"
     ]
    }
   ],
   "source": [
    "GS_svr_model.fit(X_train_scaled, y_train)\n",
    "y_pred = GS_svr_model.predict(X_test_scaled)\n",
    "\n",
    "best_accuracy_score = GS_svr_model.best_score_\n",
    "best_estimator = GS_svr_model.best_estimator_\n",
    "best_parametrs = GS_svr_model.best_params_\n",
    "mse = mean_squared_error(y_test, y_pred)\n",
    "mae = mean_absolute_error(y_test, y_pred)\n",
    "final_accuracy_PCA_GRID = final_accuracy_PCA_GRID.append({'Model': 'SVR', 'Accuracy(R2)': best_accuracy_score, 'Mean Squared Error': mse, 'Mean Absolute Error': mae, 'Best estimator': best_estimator, 'Best parametrs': best_parametrs }, ignore_index=True)"
   ]
  },
  {
   "cell_type": "markdown",
   "id": "c9156692",
   "metadata": {},
   "source": [
    "#### Grid Search (KNN)"
   ]
  },
  {
   "cell_type": "code",
   "execution_count": 63,
   "id": "788bbb09",
   "metadata": {
    "collapsed": true
   },
   "outputs": [
    {
     "name": "stdout",
     "output_type": "stream",
     "text": [
      "Fitting 5 folds for each of 6 candidates, totalling 30 fits\n",
      "[CV 1/5] END n_neighbors=3, weights=uniform; neg_root_mean_squared_error: (test=-146806.681) r2: (test=-0.029) total time=   0.0s\n",
      "[CV 2/5] END n_neighbors=3, weights=uniform; neg_root_mean_squared_error: (test=-147108.609) r2: (test=-0.072) total time=   0.0s\n",
      "[CV 3/5] END n_neighbors=3, weights=uniform; neg_root_mean_squared_error: (test=-142299.298) r2: (test=-0.108) total time=   0.0s\n",
      "[CV 4/5] END n_neighbors=3, weights=uniform; neg_root_mean_squared_error: (test=-144721.953) r2: (test=-0.173) total time=   0.0s\n",
      "[CV 5/5] END n_neighbors=3, weights=uniform; neg_root_mean_squared_error: (test=-152264.959) r2: (test=-0.096) total time=   0.0s\n",
      "[CV 1/5] END n_neighbors=3, weights=distance; neg_root_mean_squared_error: (test=-146579.682) r2: (test=-0.025) total time=   0.0s\n",
      "[CV 2/5] END n_neighbors=3, weights=distance; neg_root_mean_squared_error: (test=-147394.287) r2: (test=-0.076) total time=   0.0s\n",
      "[CV 3/5] END n_neighbors=3, weights=distance; neg_root_mean_squared_error: (test=-142632.560) r2: (test=-0.113) total time=   0.0s\n",
      "[CV 4/5] END n_neighbors=3, weights=distance; neg_root_mean_squared_error: (test=-144872.288) r2: (test=-0.176) total time=   0.0s\n",
      "[CV 5/5] END n_neighbors=3, weights=distance; neg_root_mean_squared_error: (test=-152159.184) r2: (test=-0.094) total time=   0.0s\n",
      "[CV 1/5] END n_neighbors=5, weights=uniform; neg_root_mean_squared_error: (test=-139202.561) r2: (test=0.075) total time=   0.0s\n",
      "[CV 2/5] END n_neighbors=5, weights=uniform; neg_root_mean_squared_error: (test=-141884.075) r2: (test=0.003) total time=   0.0s\n",
      "[CV 3/5] END n_neighbors=5, weights=uniform; neg_root_mean_squared_error: (test=-134702.888) r2: (test=0.007) total time=   0.0s\n",
      "[CV 4/5] END n_neighbors=5, weights=uniform; neg_root_mean_squared_error: (test=-137638.700) r2: (test=-0.061) total time=   0.0s\n",
      "[CV 5/5] END n_neighbors=5, weights=uniform; neg_root_mean_squared_error: (test=-142747.349) r2: (test=0.037) total time=   0.0s\n",
      "[CV 1/5] END n_neighbors=5, weights=distance; neg_root_mean_squared_error: (test=-138804.486) r2: (test=0.080) total time=   0.0s\n",
      "[CV 2/5] END n_neighbors=5, weights=distance; neg_root_mean_squared_error: (test=-142009.511) r2: (test=0.001) total time=   0.0s\n",
      "[CV 3/5] END n_neighbors=5, weights=distance; neg_root_mean_squared_error: (test=-134707.923) r2: (test=0.007) total time=   0.0s\n",
      "[CV 4/5] END n_neighbors=5, weights=distance; neg_root_mean_squared_error: (test=-137857.278) r2: (test=-0.065) total time=   0.0s\n",
      "[CV 5/5] END n_neighbors=5, weights=distance; neg_root_mean_squared_error: (test=-142766.761) r2: (test=0.037) total time=   0.0s\n",
      "[CV 1/5] END n_neighbors=7, weights=uniform; neg_root_mean_squared_error: (test=-138049.104) r2: (test=0.090) total time=   0.0s\n",
      "[CV 2/5] END n_neighbors=7, weights=uniform; neg_root_mean_squared_error: (test=-138495.010) r2: (test=0.050) total time=   0.0s\n",
      "[CV 3/5] END n_neighbors=7, weights=uniform; neg_root_mean_squared_error: (test=-131092.536) r2: (test=0.060) total time=   0.0s\n",
      "[CV 4/5] END n_neighbors=7, weights=uniform; neg_root_mean_squared_error: (test=-134463.907) r2: (test=-0.013) total time=   0.0s\n",
      "[CV 5/5] END n_neighbors=7, weights=uniform; neg_root_mean_squared_error: (test=-140612.154) r2: (test=0.066) total time=   0.0s\n",
      "[CV 1/5] END n_neighbors=7, weights=distance; neg_root_mean_squared_error: (test=-137464.567) r2: (test=0.098) total time=   0.0s\n",
      "[CV 2/5] END n_neighbors=7, weights=distance; neg_root_mean_squared_error: (test=-138582.047) r2: (test=0.048) total time=   0.0s\n",
      "[CV 3/5] END n_neighbors=7, weights=distance; neg_root_mean_squared_error: (test=-131197.068) r2: (test=0.058) total time=   0.0s\n",
      "[CV 4/5] END n_neighbors=7, weights=distance; neg_root_mean_squared_error: (test=-134607.316) r2: (test=-0.015) total time=   0.0s\n",
      "[CV 5/5] END n_neighbors=7, weights=distance; neg_root_mean_squared_error: (test=-140536.598) r2: (test=0.067) total time=   0.0s\n"
     ]
    }
   ],
   "source": [
    "GS_knn_model.fit(X_train_scaled, y_train)\n",
    "y_pred = GS_knn_model.predict(X_test_scaled) \n",
    "\n",
    "best_accuracy_score = GS_knn_model.best_score_\n",
    "best_estimator = GS_knn_model.best_estimator_\n",
    "best_parametrs = GS_knn_model.best_params_\n",
    "mse = mean_squared_error(y_test, y_pred)\n",
    "mae = mean_absolute_error(y_test, y_pred)\n",
    "final_accuracy_PCA_GRID = final_accuracy_PCA_GRID.append({'Model': 'KNN', 'Accuracy(R2)': best_accuracy_score, 'Mean Squared Error': mse, 'Mean Absolute Error': mae, 'Best estimator': best_estimator, 'Best parametrs': best_parametrs }, ignore_index=True)"
   ]
  },
  {
   "cell_type": "markdown",
   "id": "1f07d83e",
   "metadata": {},
   "source": [
    "<a id=\"section244\"></a>\n",
    "## Evaluation Models GridSearch only"
   ]
  },
  {
   "cell_type": "markdown",
   "id": "10d9d2c8",
   "metadata": {},
   "source": [
    "#### Grid Search (Linear Regression)"
   ]
  },
  {
   "cell_type": "code",
   "execution_count": 65,
   "id": "0c6e8a81",
   "metadata": {
    "collapsed": true
   },
   "outputs": [
    {
     "name": "stdout",
     "output_type": "stream",
     "text": [
      "Fitting 5 folds for each of 1 candidates, totalling 5 fits\n",
      "[CV 1/5] END  neg_root_mean_squared_error: (test=-128061.824) r2: (test=0.217) total time=   0.0s\n",
      "[CV 2/5] END  neg_root_mean_squared_error: (test=-127857.977) r2: (test=0.190) total time=   0.0s\n",
      "[CV 3/5] END  neg_root_mean_squared_error: (test=-122256.146) r2: (test=0.182) total time=   0.0s\n",
      "[CV 4/5] END  neg_root_mean_squared_error: (test=-126491.510) r2: (test=0.104) total time=   0.0s\n",
      "[CV 5/5] END  neg_root_mean_squared_error: (test=-135614.084) r2: (test=0.131) total time=   0.0s\n"
     ]
    }
   ],
   "source": [
    "GS_lr_model.fit(X_train, y_train)\n",
    "y_pred = GS_lr_model.predict(X_test)\n",
    "\n",
    "best_accuracy_score = GS_lr_model.best_score_\n",
    "best_estimator = GS_lr_model.best_estimator_\n",
    "best_parametrs = GS_lr_model.best_params_\n",
    "mse = mean_squared_error(y_test, y_pred)\n",
    "mae = mean_absolute_error(y_test, y_pred)\n",
    "final_accuracy_GRID = final_accuracy_GRID.append({'Model': 'Linear Regression', 'Accuracy(R2)': best_accuracy_score, 'Mean Squared Error': mse, 'Mean Absolute Error': mae, 'Best estimator': best_estimator, 'Best parametrs': best_parametrs }, ignore_index=True)"
   ]
  },
  {
   "cell_type": "markdown",
   "id": "3250582a",
   "metadata": {},
   "source": [
    "#### Grid Search (Ridge Regression)"
   ]
  },
  {
   "cell_type": "code",
   "execution_count": 66,
   "id": "931729ec",
   "metadata": {
    "collapsed": true
   },
   "outputs": [
    {
     "name": "stdout",
     "output_type": "stream",
     "text": [
      "Fitting 5 folds for each of 3 candidates, totalling 15 fits\n",
      "[CV 1/5] END alpha=0.1; neg_root_mean_squared_error: (test=-128064.801) r2: (test=0.217) total time=   0.0s\n",
      "[CV 2/5] END alpha=0.1; neg_root_mean_squared_error: (test=-127856.178) r2: (test=0.190) total time=   0.0s\n",
      "[CV 3/5] END alpha=0.1; neg_root_mean_squared_error: (test=-122255.139) r2: (test=0.182) total time=   0.0s\n",
      "[CV 4/5] END alpha=0.1; neg_root_mean_squared_error: (test=-126491.671) r2: (test=0.104) total time=   0.0s\n",
      "[CV 5/5] END alpha=0.1; neg_root_mean_squared_error: (test=-135611.328) r2: (test=0.131) total time=   0.0s\n",
      "[CV 1/5] END alpha=1; neg_root_mean_squared_error: (test=-128091.571) r2: (test=0.217) total time=   0.0s\n",
      "[CV 2/5] END alpha=1; neg_root_mean_squared_error: (test=-127841.281) r2: (test=0.190) total time=   0.0s\n",
      "[CV 3/5] END alpha=1; neg_root_mean_squared_error: (test=-122247.187) r2: (test=0.182) total time=   0.0s\n",
      "[CV 4/5] END alpha=1; neg_root_mean_squared_error: (test=-126493.307) r2: (test=0.104) total time=   0.0s\n",
      "[CV 5/5] END alpha=1; neg_root_mean_squared_error: (test=-135587.805) r2: (test=0.131) total time=   0.0s\n",
      "[CV 1/5] END alpha=10; neg_root_mean_squared_error: (test=-128348.787) r2: (test=0.214) total time=   0.0s\n",
      "[CV 2/5] END alpha=10; neg_root_mean_squared_error: (test=-127776.715) r2: (test=0.191) total time=   0.0s\n",
      "[CV 3/5] END alpha=10; neg_root_mean_squared_error: (test=-122237.864) r2: (test=0.182) total time=   0.0s\n",
      "[CV 4/5] END alpha=10; neg_root_mean_squared_error: (test=-126521.849) r2: (test=0.103) total time=   0.0s\n",
      "[CV 5/5] END alpha=10; neg_root_mean_squared_error: (test=-135444.107) r2: (test=0.133) total time=   0.0s\n"
     ]
    }
   ],
   "source": [
    "GS_ridge_model.fit(X_train, y_train)\n",
    "y_pred = GS_ridge_model.predict(X_test)\n",
    "\n",
    "best_accuracy_score = GS_ridge_model.best_score_\n",
    "best_estimator = GS_ridge_model.best_estimator_\n",
    "best_parametrs = GS_ridge_model.best_params_\n",
    "mse = mean_squared_error(y_test, y_pred)\n",
    "mae = mean_absolute_error(y_test, y_pred)\n",
    "final_accuracy_GRID = final_accuracy_GRID.append({'Model': 'Ridge Regression', 'Accuracy(R2)': best_accuracy_score, 'Mean Squared Error': mse, 'Mean Absolute Error': mae, 'Best estimator': best_estimator, 'Best parametrs': best_parametrs }, ignore_index=True)"
   ]
  },
  {
   "cell_type": "markdown",
   "id": "7db80e0b",
   "metadata": {},
   "source": [
    "#### Grid Search (Lasso Regression)"
   ]
  },
  {
   "cell_type": "code",
   "execution_count": 67,
   "id": "413a7f4b",
   "metadata": {
    "collapsed": true
   },
   "outputs": [
    {
     "name": "stdout",
     "output_type": "stream",
     "text": [
      "Fitting 5 folds for each of 3 candidates, totalling 15 fits\n",
      "[CV 1/5] END alpha=0.1; neg_root_mean_squared_error: (test=-128061.882) r2: (test=0.217) total time=   0.0s\n",
      "[CV 2/5] END alpha=0.1; neg_root_mean_squared_error: (test=-127857.919) r2: (test=0.190) total time=   0.0s\n",
      "[CV 3/5] END alpha=0.1; neg_root_mean_squared_error: (test=-122256.119) r2: (test=0.182) total time=   0.0s\n",
      "[CV 4/5] END alpha=0.1; neg_root_mean_squared_error: (test=-126491.459) r2: (test=0.104) total time=   0.0s\n",
      "[CV 5/5] END alpha=0.1; neg_root_mean_squared_error: (test=-135613.970) r2: (test=0.131) total time=   0.0s\n",
      "[CV 1/5] END alpha=1; neg_root_mean_squared_error: (test=-128062.402) r2: (test=0.217) total time=   0.0s\n",
      "[CV 2/5] END alpha=1; neg_root_mean_squared_error: (test=-127857.402) r2: (test=0.190) total time=   0.0s\n",
      "[CV 3/5] END alpha=1; neg_root_mean_squared_error: (test=-122255.879) r2: (test=0.182) total time=   0.0s\n",
      "[CV 4/5] END alpha=1; neg_root_mean_squared_error: (test=-126491.003) r2: (test=0.104) total time=   0.0s\n",
      "[CV 5/5] END alpha=1; neg_root_mean_squared_error: (test=-135612.946) r2: (test=0.131) total time=   0.0s\n",
      "[CV 1/5] END alpha=10; neg_root_mean_squared_error: (test=-128067.658) r2: (test=0.217) total time=   0.0s\n",
      "[CV 2/5] END alpha=10; neg_root_mean_squared_error: (test=-127852.282) r2: (test=0.190) total time=   0.0s\n",
      "[CV 3/5] END alpha=10; neg_root_mean_squared_error: (test=-122253.536) r2: (test=0.182) total time=   0.0s\n",
      "[CV 4/5] END alpha=10; neg_root_mean_squared_error: (test=-126486.504) r2: (test=0.104) total time=   0.0s\n",
      "[CV 5/5] END alpha=10; neg_root_mean_squared_error: (test=-135602.754) r2: (test=0.131) total time=   0.0s\n"
     ]
    }
   ],
   "source": [
    "GS_lasso_model.fit(X_train, y_train)\n",
    "y_pred = GS_lasso_model.predict(X_test)\n",
    "\n",
    "best_accuracy_score = GS_lasso_model.best_score_\n",
    "best_estimator = GS_lasso_model.best_estimator_\n",
    "best_parametrs = GS_lasso_model.best_params_\n",
    "mse = mean_squared_error(y_test, y_pred)\n",
    "mae = mean_absolute_error(y_test, y_pred)\n",
    "final_accuracy_GRID = final_accuracy_GRID.append({'Model': 'Lasso Regression', 'Accuracy(R2)': best_accuracy_score, 'Mean Squared Error': mse, 'Mean Absolute Error': mae, 'Best estimator': best_estimator, 'Best parametrs': best_parametrs }, ignore_index=True)"
   ]
  },
  {
   "cell_type": "markdown",
   "id": "14275b9d",
   "metadata": {},
   "source": [
    "#### Grid Search (Elasticnet Regression)"
   ]
  },
  {
   "cell_type": "code",
   "execution_count": 68,
   "id": "8bf3fa04",
   "metadata": {
    "collapsed": true
   },
   "outputs": [
    {
     "name": "stdout",
     "output_type": "stream",
     "text": [
      "Fitting 5 folds for each of 9 candidates, totalling 45 fits\n",
      "[CV 1/5] END alpha=0.1, l1_ratio=0.1; neg_root_mean_squared_error: (test=-130387.087) r2: (test=0.189) total time=   0.0s\n",
      "[CV 2/5] END alpha=0.1, l1_ratio=0.1; neg_root_mean_squared_error: (test=-128788.317) r2: (test=0.178) total time=   0.0s\n",
      "[CV 3/5] END alpha=0.1, l1_ratio=0.1; neg_root_mean_squared_error: (test=-123511.561) r2: (test=0.165) total time=   0.0s\n",
      "[CV 4/5] END alpha=0.1, l1_ratio=0.1; neg_root_mean_squared_error: (test=-127092.746) r2: (test=0.095) total time=   0.0s\n",
      "[CV 5/5] END alpha=0.1, l1_ratio=0.1; neg_root_mean_squared_error: (test=-135979.820) r2: (test=0.126) total time=   0.0s\n",
      "[CV 1/5] END alpha=0.1, l1_ratio=0.5; neg_root_mean_squared_error: (test=-129794.220) r2: (test=0.196) total time=   0.0s\n",
      "[CV 2/5] END alpha=0.1, l1_ratio=0.5; neg_root_mean_squared_error: (test=-128325.645) r2: (test=0.184) total time=   0.0s\n",
      "[CV 3/5] END alpha=0.1, l1_ratio=0.5; neg_root_mean_squared_error: (test=-122991.373) r2: (test=0.172) total time=   0.0s\n",
      "[CV 4/5] END alpha=0.1, l1_ratio=0.5; neg_root_mean_squared_error: (test=-126908.797) r2: (test=0.098) total time=   0.0s\n",
      "[CV 5/5] END alpha=0.1, l1_ratio=0.5; neg_root_mean_squared_error: (test=-135696.862) r2: (test=0.130) total time=   0.0s\n",
      "[CV 1/5] END alpha=0.1, l1_ratio=0.9; neg_root_mean_squared_error: (test=-128590.190) r2: (test=0.211) total time=   0.0s\n",
      "[CV 2/5] END alpha=0.1, l1_ratio=0.9; neg_root_mean_squared_error: (test=-127790.545) r2: (test=0.191) total time=   0.0s\n",
      "[CV 3/5] END alpha=0.1, l1_ratio=0.9; neg_root_mean_squared_error: (test=-122293.034) r2: (test=0.182) total time=   0.0s\n",
      "[CV 4/5] END alpha=0.1, l1_ratio=0.9; neg_root_mean_squared_error: (test=-126565.000) r2: (test=0.103) total time=   0.0s\n",
      "[CV 5/5] END alpha=0.1, l1_ratio=0.9; neg_root_mean_squared_error: (test=-135395.738) r2: (test=0.134) total time=   0.0s\n",
      "[CV 1/5] END alpha=1, l1_ratio=0.1; neg_root_mean_squared_error: (test=-132521.994) r2: (test=0.162) total time=   0.0s\n",
      "[CV 2/5] END alpha=1, l1_ratio=0.1; neg_root_mean_squared_error: (test=-131820.924) r2: (test=0.139) total time=   0.0s\n",
      "[CV 3/5] END alpha=1, l1_ratio=0.1; neg_root_mean_squared_error: (test=-126363.556) r2: (test=0.126) total time=   0.0s\n",
      "[CV 4/5] END alpha=1, l1_ratio=0.1; neg_root_mean_squared_error: (test=-127794.208) r2: (test=0.085) total time=   0.0s\n",
      "[CV 5/5] END alpha=1, l1_ratio=0.1; neg_root_mean_squared_error: (test=-137504.928) r2: (test=0.107) total time=   0.0s\n",
      "[CV 1/5] END alpha=1, l1_ratio=0.5; neg_root_mean_squared_error: (test=-131987.093) r2: (test=0.169) total time=   0.0s\n",
      "[CV 2/5] END alpha=1, l1_ratio=0.5; neg_root_mean_squared_error: (test=-130881.616) r2: (test=0.151) total time=   0.0s\n",
      "[CV 3/5] END alpha=1, l1_ratio=0.5; neg_root_mean_squared_error: (test=-125516.289) r2: (test=0.138) total time=   0.0s\n",
      "[CV 4/5] END alpha=1, l1_ratio=0.5; neg_root_mean_squared_error: (test=-127560.802) r2: (test=0.089) total time=   0.0s\n",
      "[CV 5/5] END alpha=1, l1_ratio=0.5; neg_root_mean_squared_error: (test=-136996.090) r2: (test=0.113) total time=   0.0s\n",
      "[CV 1/5] END alpha=1, l1_ratio=0.9; neg_root_mean_squared_error: (test=-130494.019) r2: (test=0.187) total time=   0.0s\n",
      "[CV 2/5] END alpha=1, l1_ratio=0.9; neg_root_mean_squared_error: (test=-128886.393) r2: (test=0.177) total time=   0.0s\n",
      "[CV 3/5] END alpha=1, l1_ratio=0.9; neg_root_mean_squared_error: (test=-123616.690) r2: (test=0.164) total time=   0.0s\n",
      "[CV 4/5] END alpha=1, l1_ratio=0.9; neg_root_mean_squared_error: (test=-127124.137) r2: (test=0.095) total time=   0.0s\n",
      "[CV 5/5] END alpha=1, l1_ratio=0.9; neg_root_mean_squared_error: (test=-136034.499) r2: (test=0.126) total time=   0.0s\n",
      "[CV 1/5] END alpha=10, l1_ratio=0.1; neg_root_mean_squared_error: (test=-134405.009) r2: (test=0.138) total time=   0.0s\n",
      "[CV 2/5] END alpha=10, l1_ratio=0.1; neg_root_mean_squared_error: (test=-134858.171) r2: (test=0.099) total time=   0.0s\n",
      "[CV 3/5] END alpha=10, l1_ratio=0.1; neg_root_mean_squared_error: (test=-129152.901) r2: (test=0.087) total time=   0.0s\n",
      "[CV 4/5] END alpha=10, l1_ratio=0.1; neg_root_mean_squared_error: (test=-128992.566) r2: (test=0.068) total time=   0.0s\n",
      "[CV 5/5] END alpha=10, l1_ratio=0.1; neg_root_mean_squared_error: (test=-139642.385) r2: (test=0.079) total time=   0.0s\n",
      "[CV 1/5] END alpha=10, l1_ratio=0.5; neg_root_mean_squared_error: (test=-134049.239) r2: (test=0.142) total time=   0.0s\n",
      "[CV 2/5] END alpha=10, l1_ratio=0.5; neg_root_mean_squared_error: (test=-134341.748) r2: (test=0.106) total time=   0.0s\n",
      "[CV 3/5] END alpha=10, l1_ratio=0.5; neg_root_mean_squared_error: (test=-128688.238) r2: (test=0.094) total time=   0.0s\n",
      "[CV 4/5] END alpha=10, l1_ratio=0.5; neg_root_mean_squared_error: (test=-128758.793) r2: (test=0.071) total time=   0.0s\n",
      "[CV 5/5] END alpha=10, l1_ratio=0.5; neg_root_mean_squared_error: (test=-139225.845) r2: (test=0.084) total time=   0.0s\n",
      "[CV 1/5] END alpha=10, l1_ratio=0.9; neg_root_mean_squared_error: (test=-132622.701) r2: (test=0.161) total time=   0.0s\n",
      "[CV 2/5] END alpha=10, l1_ratio=0.9; neg_root_mean_squared_error: (test=-131998.045) r2: (test=0.137) total time=   0.0s\n",
      "[CV 3/5] END alpha=10, l1_ratio=0.9; neg_root_mean_squared_error: (test=-126524.491) r2: (test=0.124) total time=   0.0s\n",
      "[CV 4/5] END alpha=10, l1_ratio=0.9; neg_root_mean_squared_error: (test=-127846.285) r2: (test=0.084) total time=   0.0s\n",
      "[CV 5/5] END alpha=10, l1_ratio=0.9; neg_root_mean_squared_error: (test=-137609.838) r2: (test=0.105) total time=   0.0s\n"
     ]
    }
   ],
   "source": [
    "GS_elasticnet_model.fit(X_train, y_train)\n",
    "y_pred = GS_elasticnet_model.predict(X_test)\n",
    "\n",
    "best_accuracy_score = GS_elasticnet_model.best_score_\n",
    "best_estimator = GS_elasticnet_model.best_estimator_\n",
    "best_parametrs = GS_elasticnet_model.best_params_\n",
    "mse = mean_squared_error(y_test, y_pred)\n",
    "mae = mean_absolute_error(y_test, y_pred)\n",
    "final_accuracy_GRID = final_accuracy_GRID.append({'Model': 'Elasticnet Regression', 'Accuracy(R2)': best_accuracy_score, 'Mean Squared Error': mse, 'Mean Absolute Error': mae, 'Best estimator': best_estimator, 'Best parametrs': best_parametrs }, ignore_index=True)"
   ]
  },
  {
   "cell_type": "markdown",
   "id": "5d5a8ba7",
   "metadata": {},
   "source": [
    "#### Grid Search (Decision tree Regression)"
   ]
  },
  {
   "cell_type": "code",
   "execution_count": 69,
   "id": "da74cf74",
   "metadata": {
    "collapsed": true
   },
   "outputs": [
    {
     "name": "stdout",
     "output_type": "stream",
     "text": [
      "Fitting 5 folds for each of 9 candidates, totalling 45 fits\n",
      "[CV 1/5] END max_depth=3, min_samples_split=2; neg_root_mean_squared_error: (test=-136791.481) r2: (test=0.107) total time=   0.0s\n",
      "[CV 2/5] END max_depth=3, min_samples_split=2; neg_root_mean_squared_error: (test=-133257.499) r2: (test=0.120) total time=   0.0s\n",
      "[CV 3/5] END max_depth=3, min_samples_split=2; neg_root_mean_squared_error: (test=-127049.613) r2: (test=0.117) total time=   0.0s\n",
      "[CV 4/5] END max_depth=3, min_samples_split=2; neg_root_mean_squared_error: (test=-128110.806) r2: (test=0.081) total time=   0.0s\n",
      "[CV 5/5] END max_depth=3, min_samples_split=2; neg_root_mean_squared_error: (test=-140849.888) r2: (test=0.063) total time=   0.0s\n",
      "[CV 1/5] END max_depth=3, min_samples_split=5; neg_root_mean_squared_error: (test=-136791.481) r2: (test=0.107) total time=   0.0s\n",
      "[CV 2/5] END max_depth=3, min_samples_split=5; neg_root_mean_squared_error: (test=-133257.499) r2: (test=0.120) total time=   0.0s\n",
      "[CV 3/5] END max_depth=3, min_samples_split=5; neg_root_mean_squared_error: (test=-127049.613) r2: (test=0.117) total time=   0.0s\n",
      "[CV 4/5] END max_depth=3, min_samples_split=5; neg_root_mean_squared_error: (test=-128110.806) r2: (test=0.081) total time=   0.0s\n",
      "[CV 5/5] END max_depth=3, min_samples_split=5; neg_root_mean_squared_error: (test=-140849.888) r2: (test=0.063) total time=   0.0s\n",
      "[CV 1/5] END max_depth=3, min_samples_split=10; neg_root_mean_squared_error: (test=-136791.481) r2: (test=0.107) total time=   0.0s\n",
      "[CV 2/5] END max_depth=3, min_samples_split=10; neg_root_mean_squared_error: (test=-133257.499) r2: (test=0.120) total time=   0.0s\n",
      "[CV 3/5] END max_depth=3, min_samples_split=10; neg_root_mean_squared_error: (test=-127049.613) r2: (test=0.117) total time=   0.0s\n",
      "[CV 4/5] END max_depth=3, min_samples_split=10; neg_root_mean_squared_error: (test=-128110.806) r2: (test=0.081) total time=   0.0s\n",
      "[CV 5/5] END max_depth=3, min_samples_split=10; neg_root_mean_squared_error: (test=-140849.888) r2: (test=0.063) total time=   0.0s\n",
      "[CV 1/5] END max_depth=4, min_samples_split=2; neg_root_mean_squared_error: (test=-135674.173) r2: (test=0.121) total time=   0.0s\n",
      "[CV 2/5] END max_depth=4, min_samples_split=2; neg_root_mean_squared_error: (test=-133193.411) r2: (test=0.121) total time=   0.0s\n",
      "[CV 3/5] END max_depth=4, min_samples_split=2; neg_root_mean_squared_error: (test=-126576.008) r2: (test=0.123) total time=   0.0s\n",
      "[CV 4/5] END max_depth=4, min_samples_split=2; neg_root_mean_squared_error: (test=-130110.624) r2: (test=0.052) total time=   0.0s\n",
      "[CV 5/5] END max_depth=4, min_samples_split=2; neg_root_mean_squared_error: (test=-140867.973) r2: (test=0.062) total time=   0.0s\n",
      "[CV 1/5] END max_depth=4, min_samples_split=5; neg_root_mean_squared_error: (test=-135674.173) r2: (test=0.121) total time=   0.0s\n",
      "[CV 2/5] END max_depth=4, min_samples_split=5; neg_root_mean_squared_error: (test=-133193.411) r2: (test=0.121) total time=   0.0s\n",
      "[CV 3/5] END max_depth=4, min_samples_split=5; neg_root_mean_squared_error: (test=-126576.008) r2: (test=0.123) total time=   0.0s\n",
      "[CV 4/5] END max_depth=4, min_samples_split=5; neg_root_mean_squared_error: (test=-130110.624) r2: (test=0.052) total time=   0.0s\n",
      "[CV 5/5] END max_depth=4, min_samples_split=5; neg_root_mean_squared_error: (test=-140867.973) r2: (test=0.062) total time=   0.0s\n",
      "[CV 1/5] END max_depth=4, min_samples_split=10; neg_root_mean_squared_error: (test=-135674.173) r2: (test=0.121) total time=   0.0s\n",
      "[CV 2/5] END max_depth=4, min_samples_split=10; neg_root_mean_squared_error: (test=-133193.411) r2: (test=0.121) total time=   0.0s\n",
      "[CV 3/5] END max_depth=4, min_samples_split=10; neg_root_mean_squared_error: (test=-126576.008) r2: (test=0.123) total time=   0.0s\n",
      "[CV 4/5] END max_depth=4, min_samples_split=10; neg_root_mean_squared_error: (test=-130110.624) r2: (test=0.052) total time=   0.0s\n",
      "[CV 5/5] END max_depth=4, min_samples_split=10; neg_root_mean_squared_error: (test=-140803.014) r2: (test=0.063) total time=   0.0s\n",
      "[CV 1/5] END max_depth=5, min_samples_split=2; neg_root_mean_squared_error: (test=-136150.053) r2: (test=0.115) total time=   0.0s\n",
      "[CV 2/5] END max_depth=5, min_samples_split=2; neg_root_mean_squared_error: (test=-137841.534) r2: (test=0.059) total time=   0.0s\n",
      "[CV 3/5] END max_depth=5, min_samples_split=2; neg_root_mean_squared_error: (test=-130239.100) r2: (test=0.072) total time=   0.0s\n",
      "[CV 4/5] END max_depth=5, min_samples_split=2; neg_root_mean_squared_error: (test=-127740.305) r2: (test=0.086) total time=   0.0s\n",
      "[CV 5/5] END max_depth=5, min_samples_split=2; neg_root_mean_squared_error: (test=-141753.149) r2: (test=0.050) total time=   0.0s\n",
      "[CV 1/5] END max_depth=5, min_samples_split=5; neg_root_mean_squared_error: (test=-135457.212) r2: (test=0.124) total time=   0.0s\n",
      "[CV 2/5] END max_depth=5, min_samples_split=5; neg_root_mean_squared_error: (test=-137751.722) r2: (test=0.060) total time=   0.0s\n",
      "[CV 3/5] END max_depth=5, min_samples_split=5; neg_root_mean_squared_error: (test=-130085.363) r2: (test=0.074) total time=   0.0s\n",
      "[CV 4/5] END max_depth=5, min_samples_split=5; neg_root_mean_squared_error: (test=-127740.305) r2: (test=0.086) total time=   0.0s\n",
      "[CV 5/5] END max_depth=5, min_samples_split=5; neg_root_mean_squared_error: (test=-141714.264) r2: (test=0.051) total time=   0.0s\n",
      "[CV 1/5] END max_depth=5, min_samples_split=10; neg_root_mean_squared_error: (test=-135838.998) r2: (test=0.119) total time=   0.0s\n",
      "[CV 2/5] END max_depth=5, min_samples_split=10; neg_root_mean_squared_error: (test=-137841.534) r2: (test=0.059) total time=   0.0s\n",
      "[CV 3/5] END max_depth=5, min_samples_split=10; neg_root_mean_squared_error: (test=-129957.808) r2: (test=0.076) total time=   0.0s\n",
      "[CV 4/5] END max_depth=5, min_samples_split=10; neg_root_mean_squared_error: (test=-127690.418) r2: (test=0.087) total time=   0.0s\n",
      "[CV 5/5] END max_depth=5, min_samples_split=10; neg_root_mean_squared_error: (test=-140853.104) r2: (test=0.062) total time=   0.0s\n"
     ]
    }
   ],
   "source": [
    "GS_dt_model.fit(X_train, y_train)\n",
    "y_pred = GS_dt_model.predict(X_test)\n",
    "\n",
    "best_accuracy_score = GS_dt_model.best_score_\n",
    "best_estimator = GS_dt_model.best_estimator_\n",
    "best_parametrs = GS_dt_model.best_params_\n",
    "mse = mean_squared_error(y_test, y_pred)\n",
    "mae = mean_absolute_error(y_test, y_pred)\n",
    "final_accuracy_GRID = final_accuracy_GRID.append({'Model': 'Decision tree Regression', 'Accuracy(R2)': best_accuracy_score, 'Mean Squared Error': mse, 'Mean Absolute Error': mae, 'Best estimator': best_estimator, 'Best parametrs': best_parametrs }, ignore_index=True)"
   ]
  },
  {
   "cell_type": "markdown",
   "id": "68a0916f",
   "metadata": {},
   "source": [
    "#### Grid Search (Random Forest Regression)"
   ]
  },
  {
   "cell_type": "code",
   "execution_count": 70,
   "id": "935e66c7",
   "metadata": {
    "collapsed": true
   },
   "outputs": [
    {
     "name": "stdout",
     "output_type": "stream",
     "text": [
      "Fitting 5 folds for each of 9 candidates, totalling 45 fits\n",
      "[CV 1/5] END max_depth=3, n_estimators=50; neg_root_mean_squared_error: (test=-132407.167) r2: (test=0.163) total time=   0.2s\n",
      "[CV 2/5] END max_depth=3, n_estimators=50; neg_root_mean_squared_error: (test=-129518.998) r2: (test=0.169) total time=   0.2s\n",
      "[CV 3/5] END max_depth=3, n_estimators=50; neg_root_mean_squared_error: (test=-123655.726) r2: (test=0.163) total time=   0.1s\n",
      "[CV 4/5] END max_depth=3, n_estimators=50; neg_root_mean_squared_error: (test=-124408.215) r2: (test=0.133) total time=   0.1s\n",
      "[CV 5/5] END max_depth=3, n_estimators=50; neg_root_mean_squared_error: (test=-137006.260) r2: (test=0.113) total time=   0.2s\n",
      "[CV 1/5] END max_depth=3, n_estimators=100; neg_root_mean_squared_error: (test=-132345.402) r2: (test=0.164) total time=   0.3s\n",
      "[CV 2/5] END max_depth=3, n_estimators=100; neg_root_mean_squared_error: (test=-129834.197) r2: (test=0.165) total time=   0.3s\n",
      "[CV 3/5] END max_depth=3, n_estimators=100; neg_root_mean_squared_error: (test=-123149.422) r2: (test=0.170) total time=   0.3s\n",
      "[CV 4/5] END max_depth=3, n_estimators=100; neg_root_mean_squared_error: (test=-123850.505) r2: (test=0.141) total time=   0.3s\n",
      "[CV 5/5] END max_depth=3, n_estimators=100; neg_root_mean_squared_error: (test=-136828.232) r2: (test=0.115) total time=   0.3s\n",
      "[CV 1/5] END max_depth=3, n_estimators=200; neg_root_mean_squared_error: (test=-132513.701) r2: (test=0.162) total time=   0.5s\n",
      "[CV 2/5] END max_depth=3, n_estimators=200; neg_root_mean_squared_error: (test=-129886.424) r2: (test=0.164) total time=   0.5s\n",
      "[CV 3/5] END max_depth=3, n_estimators=200; neg_root_mean_squared_error: (test=-122935.997) r2: (test=0.173) total time=   0.5s\n",
      "[CV 4/5] END max_depth=3, n_estimators=200; neg_root_mean_squared_error: (test=-123574.564) r2: (test=0.145) total time=   0.5s\n",
      "[CV 5/5] END max_depth=3, n_estimators=200; neg_root_mean_squared_error: (test=-136895.945) r2: (test=0.114) total time=   0.5s\n",
      "[CV 1/5] END max_depth=5, n_estimators=50; neg_root_mean_squared_error: (test=-130526.143) r2: (test=0.187) total time=   0.2s\n",
      "[CV 2/5] END max_depth=5, n_estimators=50; neg_root_mean_squared_error: (test=-127116.988) r2: (test=0.199) total time=   0.2s\n",
      "[CV 3/5] END max_depth=5, n_estimators=50; neg_root_mean_squared_error: (test=-122379.023) r2: (test=0.181) total time=   0.2s\n",
      "[CV 4/5] END max_depth=5, n_estimators=50; neg_root_mean_squared_error: (test=-123154.352) r2: (test=0.150) total time=   0.2s\n",
      "[CV 5/5] END max_depth=5, n_estimators=50; neg_root_mean_squared_error: (test=-136085.705) r2: (test=0.125) total time=   0.2s\n",
      "[CV 1/5] END max_depth=5, n_estimators=100; neg_root_mean_squared_error: (test=-130300.229) r2: (test=0.190) total time=   0.4s\n",
      "[CV 2/5] END max_depth=5, n_estimators=100; neg_root_mean_squared_error: (test=-126848.032) r2: (test=0.203) total time=   0.4s\n",
      "[CV 3/5] END max_depth=5, n_estimators=100; neg_root_mean_squared_error: (test=-121761.615) r2: (test=0.189) total time=   0.4s\n",
      "[CV 4/5] END max_depth=5, n_estimators=100; neg_root_mean_squared_error: (test=-123221.722) r2: (test=0.150) total time=   0.4s\n",
      "[CV 5/5] END max_depth=5, n_estimators=100; neg_root_mean_squared_error: (test=-134966.409) r2: (test=0.139) total time=   0.4s\n",
      "[CV 1/5] END max_depth=5, n_estimators=200; neg_root_mean_squared_error: (test=-129806.886) r2: (test=0.196) total time=   0.8s\n",
      "[CV 2/5] END max_depth=5, n_estimators=200; neg_root_mean_squared_error: (test=-126551.058) r2: (test=0.206) total time=   0.9s\n",
      "[CV 3/5] END max_depth=5, n_estimators=200; neg_root_mean_squared_error: (test=-121921.783) r2: (test=0.187) total time=   0.9s\n",
      "[CV 4/5] END max_depth=5, n_estimators=200; neg_root_mean_squared_error: (test=-122860.041) r2: (test=0.154) total time=   0.9s\n",
      "[CV 5/5] END max_depth=5, n_estimators=200; neg_root_mean_squared_error: (test=-135300.068) r2: (test=0.135) total time=   0.8s\n",
      "[CV 1/5] END max_depth=7, n_estimators=50; neg_root_mean_squared_error: (test=-129797.282) r2: (test=0.196) total time=   0.3s\n",
      "[CV 2/5] END max_depth=7, n_estimators=50; neg_root_mean_squared_error: (test=-126126.213) r2: (test=0.212) total time=   0.3s\n",
      "[CV 3/5] END max_depth=7, n_estimators=50; neg_root_mean_squared_error: (test=-122085.286) r2: (test=0.185) total time=   0.3s\n",
      "[CV 4/5] END max_depth=7, n_estimators=50; neg_root_mean_squared_error: (test=-124413.101) r2: (test=0.133) total time=   0.3s\n",
      "[CV 5/5] END max_depth=7, n_estimators=50; neg_root_mean_squared_error: (test=-135356.873) r2: (test=0.134) total time=   0.3s\n",
      "[CV 1/5] END max_depth=7, n_estimators=100; neg_root_mean_squared_error: (test=-128398.337) r2: (test=0.213) total time=   0.5s\n",
      "[CV 2/5] END max_depth=7, n_estimators=100; neg_root_mean_squared_error: (test=-125809.191) r2: (test=0.216) total time=   0.5s\n",
      "[CV 3/5] END max_depth=7, n_estimators=100; neg_root_mean_squared_error: (test=-121836.978) r2: (test=0.188) total time=   0.5s\n",
      "[CV 4/5] END max_depth=7, n_estimators=100; neg_root_mean_squared_error: (test=-123092.957) r2: (test=0.151) total time=   0.5s\n",
      "[CV 5/5] END max_depth=7, n_estimators=100; neg_root_mean_squared_error: (test=-134214.681) r2: (test=0.149) total time=   0.5s\n",
      "[CV 1/5] END max_depth=7, n_estimators=200; neg_root_mean_squared_error: (test=-128554.495) r2: (test=0.211) total time=   1.0s\n",
      "[CV 2/5] END max_depth=7, n_estimators=200; neg_root_mean_squared_error: (test=-125206.921) r2: (test=0.223) total time=   1.2s\n",
      "[CV 3/5] END max_depth=7, n_estimators=200; neg_root_mean_squared_error: (test=-121888.977) r2: (test=0.187) total time=   1.1s\n",
      "[CV 4/5] END max_depth=7, n_estimators=200; neg_root_mean_squared_error: (test=-122689.577) r2: (test=0.157) total time=   1.2s\n",
      "[CV 5/5] END max_depth=7, n_estimators=200; neg_root_mean_squared_error: (test=-134616.274) r2: (test=0.144) total time=   1.2s\n"
     ]
    }
   ],
   "source": [
    "GS_rf_model.fit(X_train, y_train)\n",
    "y_pred = GS_rf_model.predict(X_test)\n",
    "\n",
    "best_accuracy_score = GS_rf_model.best_score_\n",
    "best_estimator = GS_rf_model.best_estimator_\n",
    "best_parametrs = GS_rf_model.best_params_\n",
    "mse = mean_squared_error(y_test, y_pred)\n",
    "mae = mean_absolute_error(y_test, y_pred)\n",
    "final_accuracy_GRID = final_accuracy_GRID.append({'Model': 'Random Forest Regression', 'Accuracy(R2)': best_accuracy_score, 'Mean Squared Error': mse, 'Mean Absolute Error': mae, 'Best estimator': best_estimator, 'Best parametrs': best_parametrs }, ignore_index=True)"
   ]
  },
  {
   "cell_type": "markdown",
   "id": "69ff113d",
   "metadata": {},
   "source": [
    "#### Grid Search (Gradient Boosting Regression)"
   ]
  },
  {
   "cell_type": "code",
   "execution_count": 71,
   "id": "f38c1a98",
   "metadata": {
    "collapsed": true
   },
   "outputs": [
    {
     "name": "stdout",
     "output_type": "stream",
     "text": [
      "Fitting 3 folds for each of 8 candidates, totalling 24 fits\n",
      "[CV 1/3] END learning_rate=0.1, max_depth=5, n_estimators=100; neg_root_mean_squared_error: (test=-131242.435) r2: (test=0.189) total time=   0.5s\n",
      "[CV 2/3] END learning_rate=0.1, max_depth=5, n_estimators=100; neg_root_mean_squared_error: (test=-123622.453) r2: (test=0.158) total time=   0.5s\n",
      "[CV 3/3] END learning_rate=0.1, max_depth=5, n_estimators=100; neg_root_mean_squared_error: (test=-132008.352) r2: (test=0.114) total time=   0.5s\n",
      "[CV 1/3] END learning_rate=0.1, max_depth=5, n_estimators=200; neg_root_mean_squared_error: (test=-133430.886) r2: (test=0.162) total time=   1.0s\n",
      "[CV 2/3] END learning_rate=0.1, max_depth=5, n_estimators=200; neg_root_mean_squared_error: (test=-126935.715) r2: (test=0.113) total time=   1.0s\n",
      "[CV 3/3] END learning_rate=0.1, max_depth=5, n_estimators=200; neg_root_mean_squared_error: (test=-133731.014) r2: (test=0.090) total time=   1.0s\n",
      "[CV 1/3] END learning_rate=0.1, max_depth=7, n_estimators=100; neg_root_mean_squared_error: (test=-133811.615) r2: (test=0.157) total time=   0.7s\n",
      "[CV 2/3] END learning_rate=0.1, max_depth=7, n_estimators=100; neg_root_mean_squared_error: (test=-128222.730) r2: (test=0.095) total time=   0.7s\n",
      "[CV 3/3] END learning_rate=0.1, max_depth=7, n_estimators=100; neg_root_mean_squared_error: (test=-135392.228) r2: (test=0.068) total time=   0.7s\n",
      "[CV 1/3] END learning_rate=0.1, max_depth=7, n_estimators=200; neg_root_mean_squared_error: (test=-136072.276) r2: (test=0.128) total time=   1.3s\n",
      "[CV 2/3] END learning_rate=0.1, max_depth=7, n_estimators=200; neg_root_mean_squared_error: (test=-129522.899) r2: (test=0.076) total time=   1.3s\n",
      "[CV 3/3] END learning_rate=0.1, max_depth=7, n_estimators=200; neg_root_mean_squared_error: (test=-135655.658) r2: (test=0.064) total time=   1.4s\n",
      "[CV 1/3] END learning_rate=0.5, max_depth=5, n_estimators=100; neg_root_mean_squared_error: (test=-147072.464) r2: (test=-0.018) total time=   0.5s\n",
      "[CV 2/3] END learning_rate=0.5, max_depth=5, n_estimators=100; neg_root_mean_squared_error: (test=-143734.320) r2: (test=-0.138) total time=   0.5s\n",
      "[CV 3/3] END learning_rate=0.5, max_depth=5, n_estimators=100; neg_root_mean_squared_error: (test=-151427.148) r2: (test=-0.166) total time=   0.5s\n",
      "[CV 1/3] END learning_rate=0.5, max_depth=5, n_estimators=200; neg_root_mean_squared_error: (test=-149283.918) r2: (test=-0.049) total time=   1.0s\n",
      "[CV 2/3] END learning_rate=0.5, max_depth=5, n_estimators=200; neg_root_mean_squared_error: (test=-145035.084) r2: (test=-0.158) total time=   1.0s\n",
      "[CV 3/3] END learning_rate=0.5, max_depth=5, n_estimators=200; neg_root_mean_squared_error: (test=-151435.904) r2: (test=-0.166) total time=   1.0s\n",
      "[CV 1/3] END learning_rate=0.5, max_depth=7, n_estimators=100; neg_root_mean_squared_error: (test=-149493.349) r2: (test=-0.052) total time=   0.7s\n",
      "[CV 2/3] END learning_rate=0.5, max_depth=7, n_estimators=100; neg_root_mean_squared_error: (test=-145715.278) r2: (test=-0.169) total time=   0.7s\n",
      "[CV 3/3] END learning_rate=0.5, max_depth=7, n_estimators=100; neg_root_mean_squared_error: (test=-155494.686) r2: (test=-0.230) total time=   0.7s\n",
      "[CV 1/3] END learning_rate=0.5, max_depth=7, n_estimators=200; neg_root_mean_squared_error: (test=-148941.555) r2: (test=-0.044) total time=   1.3s\n",
      "[CV 2/3] END learning_rate=0.5, max_depth=7, n_estimators=200; neg_root_mean_squared_error: (test=-144201.895) r2: (test=-0.145) total time=   1.5s\n",
      "[CV 3/3] END learning_rate=0.5, max_depth=7, n_estimators=200; neg_root_mean_squared_error: (test=-155238.919) r2: (test=-0.226) total time=   1.3s\n"
     ]
    }
   ],
   "source": [
    "GS_gb_model.fit(X_train, y_train)\n",
    "y_pred = GS_gb_model.predict(X_test)\n",
    "\n",
    "best_accuracy_score = GS_gb_model.best_score_\n",
    "best_estimator = GS_gb_model.best_estimator_\n",
    "best_parametrs = GS_gb_model.best_params_\n",
    "mse = mean_squared_error(y_test, y_pred)\n",
    "mae = mean_absolute_error(y_test, y_pred)\n",
    "final_accuracy_GRID = final_accuracy_GRID.append({'Model': 'Gradient Boosting Regression', 'Accuracy(R2)': best_accuracy_score, 'Mean Squared Error': mse, 'Mean Absolute Error': mae, 'Best estimator': best_estimator, 'Best parametrs': best_parametrs }, ignore_index=True)"
   ]
  },
  {
   "cell_type": "markdown",
   "id": "7d272152",
   "metadata": {},
   "source": [
    "#### Grid Search (SVR)"
   ]
  },
  {
   "cell_type": "code",
   "execution_count": 72,
   "id": "740121ea",
   "metadata": {
    "collapsed": true
   },
   "outputs": [
    {
     "name": "stdout",
     "output_type": "stream",
     "text": [
      "Fitting 3 folds for each of 2 candidates, totalling 6 fits\n",
      "[CV 1/3] END C=0.1, epsilon=0.01; neg_root_mean_squared_error: (test=-210259.587) r2: (test=-1.081) total time=   4.3s\n",
      "[CV 2/3] END C=0.1, epsilon=0.01; neg_root_mean_squared_error: (test=-153288.076) r2: (test=-0.294) total time=   1.2s\n",
      "[CV 3/3] END C=0.1, epsilon=0.01; neg_root_mean_squared_error: (test=-181559.954) r2: (test=-0.677) total time=   6.1s\n",
      "[CV 1/3] END C=0.1, epsilon=0.1; neg_root_mean_squared_error: (test=-279774.421) r2: (test=-2.685) total time=   6.8s\n",
      "[CV 2/3] END C=0.1, epsilon=0.1; neg_root_mean_squared_error: (test=-187406.451) r2: (test=-0.934) total time=   2.5s\n",
      "[CV 3/3] END C=0.1, epsilon=0.1; neg_root_mean_squared_error: (test=-152180.909) r2: (test=-0.178) total time=   5.1s\n"
     ]
    }
   ],
   "source": [
    "GS_svr_model.fit(X_train, y_train)\n",
    "y_pred = GS_svr_model.predict(X_test)\n",
    "\n",
    "best_accuracy_score = GS_svr_model.best_score_\n",
    "best_estimator = GS_svr_model.best_estimator_\n",
    "best_parametrs = GS_svr_model.best_params_\n",
    "mse = mean_squared_error(y_test, y_pred)\n",
    "mae = mean_absolute_error(y_test, y_pred)\n",
    "final_accuracy_GRID = final_accuracy_GRID.append({'Model': 'SVR', 'Accuracy(R2)': best_accuracy_score, 'Mean Squared Error': mse, 'Mean Absolute Error': mae, 'Best estimator': best_estimator, 'Best parametrs': best_parametrs }, ignore_index=True)"
   ]
  },
  {
   "cell_type": "markdown",
   "id": "0def8187",
   "metadata": {},
   "source": [
    "#### Grid Search (KNN)"
   ]
  },
  {
   "cell_type": "code",
   "execution_count": 73,
   "id": "f5eef314",
   "metadata": {
    "collapsed": true
   },
   "outputs": [
    {
     "name": "stdout",
     "output_type": "stream",
     "text": [
      "Fitting 5 folds for each of 6 candidates, totalling 30 fits\n",
      "[CV 1/5] END n_neighbors=3, weights=uniform; neg_root_mean_squared_error: (test=-160360.546) r2: (test=-0.227) total time=   0.0s\n",
      "[CV 2/5] END n_neighbors=3, weights=uniform; neg_root_mean_squared_error: (test=-160037.999) r2: (test=-0.269) total time=   0.0s\n",
      "[CV 3/5] END n_neighbors=3, weights=uniform; neg_root_mean_squared_error: (test=-161896.029) r2: (test=-0.434) total time=   0.0s\n",
      "[CV 4/5] END n_neighbors=3, weights=uniform; neg_root_mean_squared_error: (test=-150367.756) r2: (test=-0.267) total time=   0.0s\n",
      "[CV 5/5] END n_neighbors=3, weights=uniform; neg_root_mean_squared_error: (test=-153065.226) r2: (test=-0.107) total time=   0.0s\n",
      "[CV 1/5] END n_neighbors=3, weights=distance; neg_root_mean_squared_error: (test=-160209.235) r2: (test=-0.225) total time=   0.0s\n",
      "[CV 2/5] END n_neighbors=3, weights=distance; neg_root_mean_squared_error: (test=-159560.128) r2: (test=-0.261) total time=   0.0s\n",
      "[CV 3/5] END n_neighbors=3, weights=distance; neg_root_mean_squared_error: (test=-161492.634) r2: (test=-0.427) total time=   0.0s\n",
      "[CV 4/5] END n_neighbors=3, weights=distance; neg_root_mean_squared_error: (test=-151164.934) r2: (test=-0.280) total time=   0.0s\n",
      "[CV 5/5] END n_neighbors=3, weights=distance; neg_root_mean_squared_error: (test=-153860.150) r2: (test=-0.119) total time=   0.0s\n",
      "[CV 1/5] END n_neighbors=5, weights=uniform; neg_root_mean_squared_error: (test=-153632.444) r2: (test=-0.127) total time=   0.0s\n",
      "[CV 2/5] END n_neighbors=5, weights=uniform; neg_root_mean_squared_error: (test=-151374.096) r2: (test=-0.135) total time=   0.0s\n",
      "[CV 3/5] END n_neighbors=5, weights=uniform; neg_root_mean_squared_error: (test=-151358.929) r2: (test=-0.253) total time=   0.0s\n",
      "[CV 4/5] END n_neighbors=5, weights=uniform; neg_root_mean_squared_error: (test=-145543.175) r2: (test=-0.187) total time=   0.0s\n",
      "[CV 5/5] END n_neighbors=5, weights=uniform; neg_root_mean_squared_error: (test=-147621.003) r2: (test=-0.030) total time=   0.0s\n",
      "[CV 1/5] END n_neighbors=5, weights=distance; neg_root_mean_squared_error: (test=-153226.078) r2: (test=-0.121) total time=   0.0s\n",
      "[CV 2/5] END n_neighbors=5, weights=distance; neg_root_mean_squared_error: (test=-151063.485) r2: (test=-0.131) total time=   0.0s\n",
      "[CV 3/5] END n_neighbors=5, weights=distance; neg_root_mean_squared_error: (test=-151973.000) r2: (test=-0.264) total time=   0.0s\n",
      "[CV 4/5] END n_neighbors=5, weights=distance; neg_root_mean_squared_error: (test=-146272.055) r2: (test=-0.198) total time=   0.0s\n",
      "[CV 5/5] END n_neighbors=5, weights=distance; neg_root_mean_squared_error: (test=-149028.055) r2: (test=-0.049) total time=   0.0s\n",
      "[CV 1/5] END n_neighbors=7, weights=uniform; neg_root_mean_squared_error: (test=-150846.169) r2: (test=-0.086) total time=   0.0s\n",
      "[CV 2/5] END n_neighbors=7, weights=uniform; neg_root_mean_squared_error: (test=-148656.074) r2: (test=-0.095) total time=   0.0s\n",
      "[CV 3/5] END n_neighbors=7, weights=uniform; neg_root_mean_squared_error: (test=-147592.437) r2: (test=-0.192) total time=   0.0s\n",
      "[CV 4/5] END n_neighbors=7, weights=uniform; neg_root_mean_squared_error: (test=-143036.090) r2: (test=-0.146) total time=   0.0s\n",
      "[CV 5/5] END n_neighbors=7, weights=uniform; neg_root_mean_squared_error: (test=-149929.796) r2: (test=-0.062) total time=   0.0s\n",
      "[CV 1/5] END n_neighbors=7, weights=distance; neg_root_mean_squared_error: (test=-150178.264) r2: (test=-0.076) total time=   0.0s\n",
      "[CV 2/5] END n_neighbors=7, weights=distance; neg_root_mean_squared_error: (test=-148032.333) r2: (test=-0.086) total time=   0.0s\n",
      "[CV 3/5] END n_neighbors=7, weights=distance; neg_root_mean_squared_error: (test=-148851.130) r2: (test=-0.212) total time=   0.0s\n",
      "[CV 4/5] END n_neighbors=7, weights=distance; neg_root_mean_squared_error: (test=-143130.492) r2: (test=-0.148) total time=   0.0s\n",
      "[CV 5/5] END n_neighbors=7, weights=distance; neg_root_mean_squared_error: (test=-150431.385) r2: (test=-0.069) total time=   0.0s\n"
     ]
    }
   ],
   "source": [
    "GS_knn_model.fit(X_train, y_train)\n",
    "y_pred = GS_knn_model.predict(X_test) \n",
    "\n",
    "best_accuracy_score = GS_knn_model.best_score_\n",
    "best_estimator = GS_knn_model.best_estimator_\n",
    "best_parametrs = GS_knn_model.best_params_\n",
    "mse = mean_squared_error(y_test, y_pred)\n",
    "mae = mean_absolute_error(y_test, y_pred)\n",
    "final_accuracy_GRID = final_accuracy_GRID.append({'Model': 'KNN', 'Accuracy(R2)': best_accuracy_score, 'Mean Squared Error': mse, 'Mean Absolute Error': mae, 'Best estimator': best_estimator, 'Best parametrs': best_parametrs }, ignore_index=True)"
   ]
  },
  {
   "cell_type": "markdown",
   "id": "b6dff908",
   "metadata": {},
   "source": [
    "***"
   ]
  },
  {
   "cell_type": "markdown",
   "id": "32bfb014",
   "metadata": {},
   "source": [
    "<a id=\"section245\"></a>\n",
    "## Visualisation final accuracy scores\n",
    "At this stage we are ready to analise the results of our models:\n",
    "Below are displayed:\n",
    "1. **final_accuracy__PCA_GRID** - the data frame which we were using to store data about models' accuracy using data after PCA and Scaling.\n",
    "2. **final_accuracy_GRID** - the data frame that was used for storing the same data but without PCA and Scaling.\n",
    "Both tables include:\n",
    "    - Model's name\n",
    "    - Accuracy score\n",
    "    - Mean Squared Error\n",
    "    - Mean Absolute Error\n",
    "    - Best estimator\n",
    "    - Best parametrs\n",
    "3. Diagram which shows how each model behaves in each condition.\n",
    "\n",
    "<p style=\"text-align: right;\">Words in ML models section: 453 </p>\n",
    "<p style=\"text-align: right;\">Words in Visualisation final accuracy scores section: 83 </p>\n",
    "<p style=\"text-align: right;\">Total words in the report: 1244 </p>"
   ]
  },
  {
   "cell_type": "code",
   "execution_count": 85,
   "id": "8fb3a7c5",
   "metadata": {},
   "outputs": [
    {
     "data": {
      "text/html": [
       "<div>\n",
       "<style scoped>\n",
       "    .dataframe tbody tr th:only-of-type {\n",
       "        vertical-align: middle;\n",
       "    }\n",
       "\n",
       "    .dataframe tbody tr th {\n",
       "        vertical-align: top;\n",
       "    }\n",
       "\n",
       "    .dataframe thead th {\n",
       "        text-align: right;\n",
       "    }\n",
       "</style>\n",
       "<table border=\"1\" class=\"dataframe\">\n",
       "  <thead>\n",
       "    <tr style=\"text-align: right;\">\n",
       "      <th></th>\n",
       "      <th>Model</th>\n",
       "      <th>Accuracy(R2)</th>\n",
       "      <th>Mean Squared Error</th>\n",
       "      <th>Mean Absolute Error</th>\n",
       "      <th>Best estimator</th>\n",
       "      <th>Best parametrs</th>\n",
       "    </tr>\n",
       "  </thead>\n",
       "  <tbody>\n",
       "    <tr>\n",
       "      <th>0</th>\n",
       "      <td>Linear Regression</td>\n",
       "      <td>0.164840</td>\n",
       "      <td>1.706682e+10</td>\n",
       "      <td>101427.373443</td>\n",
       "      <td>LinearRegression()</td>\n",
       "      <td>{}</td>\n",
       "    </tr>\n",
       "    <tr>\n",
       "      <th>1</th>\n",
       "      <td>Ridge Regression</td>\n",
       "      <td>0.164964</td>\n",
       "      <td>1.706425e+10</td>\n",
       "      <td>101422.652841</td>\n",
       "      <td>Ridge(alpha=10)</td>\n",
       "      <td>{'alpha': 10}</td>\n",
       "    </tr>\n",
       "    <tr>\n",
       "      <th>2</th>\n",
       "      <td>Lasso Regression</td>\n",
       "      <td>0.164863</td>\n",
       "      <td>1.706601e+10</td>\n",
       "      <td>101424.611482</td>\n",
       "      <td>Lasso(alpha=10)</td>\n",
       "      <td>{'alpha': 10}</td>\n",
       "    </tr>\n",
       "    <tr>\n",
       "      <th>3</th>\n",
       "      <td>Elasticnet Regression</td>\n",
       "      <td>0.165595</td>\n",
       "      <td>1.704552e+10</td>\n",
       "      <td>101408.710235</td>\n",
       "      <td>ElasticNet(alpha=0.1)</td>\n",
       "      <td>{'alpha': 0.1, 'l1_ratio': 0.5}</td>\n",
       "    </tr>\n",
       "    <tr>\n",
       "      <th>4</th>\n",
       "      <td>Decision tree Regression</td>\n",
       "      <td>0.108928</td>\n",
       "      <td>1.836247e+10</td>\n",
       "      <td>104208.562579</td>\n",
       "      <td>DecisionTreeRegressor(max_depth=4)</td>\n",
       "      <td>{'max_depth': 4, 'min_samples_split': 2}</td>\n",
       "    </tr>\n",
       "    <tr>\n",
       "      <th>5</th>\n",
       "      <td>Random Forest Regression</td>\n",
       "      <td>0.171037</td>\n",
       "      <td>1.686074e+10</td>\n",
       "      <td>99843.049697</td>\n",
       "      <td>(DecisionTreeRegressor(max_depth=7, max_featur...</td>\n",
       "      <td>{'max_depth': 7, 'n_estimators': 200}</td>\n",
       "    </tr>\n",
       "    <tr>\n",
       "      <th>6</th>\n",
       "      <td>Gradient Boosting Regression</td>\n",
       "      <td>0.127201</td>\n",
       "      <td>1.743018e+10</td>\n",
       "      <td>101652.207899</td>\n",
       "      <td>([DecisionTreeRegressor(criterion='friedman_ms...</td>\n",
       "      <td>{'learning_rate': 0.1, 'max_depth': 5, 'n_esti...</td>\n",
       "    </tr>\n",
       "    <tr>\n",
       "      <th>7</th>\n",
       "      <td>SVR</td>\n",
       "      <td>-0.026538</td>\n",
       "      <td>2.098145e+10</td>\n",
       "      <td>109878.343648</td>\n",
       "      <td>SVR(C=0.1, epsilon=0.01, kernel='linear')</td>\n",
       "      <td>{'C': 0.1, 'epsilon': 0.01}</td>\n",
       "    </tr>\n",
       "    <tr>\n",
       "      <th>8</th>\n",
       "      <td>KNN</td>\n",
       "      <td>0.051309</td>\n",
       "      <td>1.947006e+10</td>\n",
       "      <td>107808.619689</td>\n",
       "      <td>KNeighborsRegressor(n_neighbors=7, weights='di...</td>\n",
       "      <td>{'n_neighbors': 7, 'weights': 'distance'}</td>\n",
       "    </tr>\n",
       "  </tbody>\n",
       "</table>\n",
       "</div>"
      ],
      "text/plain": [
       "                          Model  Accuracy(R2)  Mean Squared Error  \\\n",
       "0             Linear Regression      0.164840        1.706682e+10   \n",
       "1              Ridge Regression      0.164964        1.706425e+10   \n",
       "2              Lasso Regression      0.164863        1.706601e+10   \n",
       "3         Elasticnet Regression      0.165595        1.704552e+10   \n",
       "4      Decision tree Regression      0.108928        1.836247e+10   \n",
       "5      Random Forest Regression      0.171037        1.686074e+10   \n",
       "6  Gradient Boosting Regression      0.127201        1.743018e+10   \n",
       "7                           SVR     -0.026538        2.098145e+10   \n",
       "8                           KNN      0.051309        1.947006e+10   \n",
       "\n",
       "   Mean Absolute Error                                     Best estimator  \\\n",
       "0        101427.373443                                 LinearRegression()   \n",
       "1        101422.652841                                    Ridge(alpha=10)   \n",
       "2        101424.611482                                    Lasso(alpha=10)   \n",
       "3        101408.710235                              ElasticNet(alpha=0.1)   \n",
       "4        104208.562579                 DecisionTreeRegressor(max_depth=4)   \n",
       "5         99843.049697  (DecisionTreeRegressor(max_depth=7, max_featur...   \n",
       "6        101652.207899  ([DecisionTreeRegressor(criterion='friedman_ms...   \n",
       "7        109878.343648          SVR(C=0.1, epsilon=0.01, kernel='linear')   \n",
       "8        107808.619689  KNeighborsRegressor(n_neighbors=7, weights='di...   \n",
       "\n",
       "                                      Best parametrs  \n",
       "0                                                 {}  \n",
       "1                                      {'alpha': 10}  \n",
       "2                                      {'alpha': 10}  \n",
       "3                    {'alpha': 0.1, 'l1_ratio': 0.5}  \n",
       "4           {'max_depth': 4, 'min_samples_split': 2}  \n",
       "5              {'max_depth': 7, 'n_estimators': 200}  \n",
       "6  {'learning_rate': 0.1, 'max_depth': 5, 'n_esti...  \n",
       "7                        {'C': 0.1, 'epsilon': 0.01}  \n",
       "8          {'n_neighbors': 7, 'weights': 'distance'}  "
      ]
     },
     "execution_count": 85,
     "metadata": {},
     "output_type": "execute_result"
    }
   ],
   "source": [
    "final_accuracy_PCA_GRID.head(10)"
   ]
  },
  {
   "cell_type": "code",
   "execution_count": 86,
   "id": "483453df",
   "metadata": {},
   "outputs": [
    {
     "data": {
      "text/html": [
       "<div>\n",
       "<style scoped>\n",
       "    .dataframe tbody tr th:only-of-type {\n",
       "        vertical-align: middle;\n",
       "    }\n",
       "\n",
       "    .dataframe tbody tr th {\n",
       "        vertical-align: top;\n",
       "    }\n",
       "\n",
       "    .dataframe thead th {\n",
       "        text-align: right;\n",
       "    }\n",
       "</style>\n",
       "<table border=\"1\" class=\"dataframe\">\n",
       "  <thead>\n",
       "    <tr style=\"text-align: right;\">\n",
       "      <th></th>\n",
       "      <th>Model</th>\n",
       "      <th>Accuracy(R2)</th>\n",
       "      <th>Mean Squared Error</th>\n",
       "      <th>Mean Absolute Error</th>\n",
       "      <th>Best estimator</th>\n",
       "      <th>Best parametrs</th>\n",
       "    </tr>\n",
       "  </thead>\n",
       "  <tbody>\n",
       "    <tr>\n",
       "      <th>0</th>\n",
       "      <td>Linear Regression</td>\n",
       "      <td>0.164840</td>\n",
       "      <td>1.706682e+10</td>\n",
       "      <td>101427.373443</td>\n",
       "      <td>LinearRegression()</td>\n",
       "      <td>{}</td>\n",
       "    </tr>\n",
       "    <tr>\n",
       "      <th>1</th>\n",
       "      <td>Ridge Regression</td>\n",
       "      <td>0.164896</td>\n",
       "      <td>1.707098e+10</td>\n",
       "      <td>101440.019034</td>\n",
       "      <td>Ridge(alpha=1)</td>\n",
       "      <td>{'alpha': 1}</td>\n",
       "    </tr>\n",
       "    <tr>\n",
       "      <th>2</th>\n",
       "      <td>Lasso Regression</td>\n",
       "      <td>0.164890</td>\n",
       "      <td>1.706790e+10</td>\n",
       "      <td>101429.883796</td>\n",
       "      <td>Lasso(alpha=10)</td>\n",
       "      <td>{'alpha': 10}</td>\n",
       "    </tr>\n",
       "    <tr>\n",
       "      <th>3</th>\n",
       "      <td>Elasticnet Regression</td>\n",
       "      <td>0.163969</td>\n",
       "      <td>1.717312e+10</td>\n",
       "      <td>101853.467572</td>\n",
       "      <td>ElasticNet(alpha=0.1, l1_ratio=0.9)</td>\n",
       "      <td>{'alpha': 0.1, 'l1_ratio': 0.9}</td>\n",
       "    </tr>\n",
       "    <tr>\n",
       "      <th>4</th>\n",
       "      <td>Decision tree Regression</td>\n",
       "      <td>0.097422</td>\n",
       "      <td>1.753796e+10</td>\n",
       "      <td>102031.607492</td>\n",
       "      <td>DecisionTreeRegressor(max_depth=3)</td>\n",
       "      <td>{'max_depth': 3, 'min_samples_split': 2}</td>\n",
       "    </tr>\n",
       "    <tr>\n",
       "      <th>5</th>\n",
       "      <td>Random Forest Regression</td>\n",
       "      <td>0.184424</td>\n",
       "      <td>1.648870e+10</td>\n",
       "      <td>99235.575632</td>\n",
       "      <td>(DecisionTreeRegressor(max_depth=7, max_featur...</td>\n",
       "      <td>{'max_depth': 7, 'n_estimators': 200}</td>\n",
       "    </tr>\n",
       "    <tr>\n",
       "      <th>6</th>\n",
       "      <td>Gradient Boosting Regression</td>\n",
       "      <td>0.153750</td>\n",
       "      <td>1.714854e+10</td>\n",
       "      <td>101817.958356</td>\n",
       "      <td>([DecisionTreeRegressor(criterion='friedman_ms...</td>\n",
       "      <td>{'learning_rate': 0.1, 'max_depth': 5, 'n_esti...</td>\n",
       "    </tr>\n",
       "    <tr>\n",
       "      <th>7</th>\n",
       "      <td>SVR</td>\n",
       "      <td>-0.683891</td>\n",
       "      <td>5.818365e+10</td>\n",
       "      <td>142584.558870</td>\n",
       "      <td>SVR(C=0.1, epsilon=0.01, kernel='linear')</td>\n",
       "      <td>{'C': 0.1, 'epsilon': 0.01}</td>\n",
       "    </tr>\n",
       "    <tr>\n",
       "      <th>8</th>\n",
       "      <td>KNN</td>\n",
       "      <td>-0.116213</td>\n",
       "      <td>2.312502e+10</td>\n",
       "      <td>119175.495168</td>\n",
       "      <td>KNeighborsRegressor(n_neighbors=7)</td>\n",
       "      <td>{'n_neighbors': 7, 'weights': 'uniform'}</td>\n",
       "    </tr>\n",
       "  </tbody>\n",
       "</table>\n",
       "</div>"
      ],
      "text/plain": [
       "                          Model  Accuracy(R2)  Mean Squared Error  \\\n",
       "0             Linear Regression      0.164840        1.706682e+10   \n",
       "1              Ridge Regression      0.164896        1.707098e+10   \n",
       "2              Lasso Regression      0.164890        1.706790e+10   \n",
       "3         Elasticnet Regression      0.163969        1.717312e+10   \n",
       "4      Decision tree Regression      0.097422        1.753796e+10   \n",
       "5      Random Forest Regression      0.184424        1.648870e+10   \n",
       "6  Gradient Boosting Regression      0.153750        1.714854e+10   \n",
       "7                           SVR     -0.683891        5.818365e+10   \n",
       "8                           KNN     -0.116213        2.312502e+10   \n",
       "\n",
       "   Mean Absolute Error                                     Best estimator  \\\n",
       "0        101427.373443                                 LinearRegression()   \n",
       "1        101440.019034                                     Ridge(alpha=1)   \n",
       "2        101429.883796                                    Lasso(alpha=10)   \n",
       "3        101853.467572                ElasticNet(alpha=0.1, l1_ratio=0.9)   \n",
       "4        102031.607492                 DecisionTreeRegressor(max_depth=3)   \n",
       "5         99235.575632  (DecisionTreeRegressor(max_depth=7, max_featur...   \n",
       "6        101817.958356  ([DecisionTreeRegressor(criterion='friedman_ms...   \n",
       "7        142584.558870          SVR(C=0.1, epsilon=0.01, kernel='linear')   \n",
       "8        119175.495168                 KNeighborsRegressor(n_neighbors=7)   \n",
       "\n",
       "                                      Best parametrs  \n",
       "0                                                 {}  \n",
       "1                                       {'alpha': 1}  \n",
       "2                                      {'alpha': 10}  \n",
       "3                    {'alpha': 0.1, 'l1_ratio': 0.9}  \n",
       "4           {'max_depth': 3, 'min_samples_split': 2}  \n",
       "5              {'max_depth': 7, 'n_estimators': 200}  \n",
       "6  {'learning_rate': 0.1, 'max_depth': 5, 'n_esti...  \n",
       "7                        {'C': 0.1, 'epsilon': 0.01}  \n",
       "8           {'n_neighbors': 7, 'weights': 'uniform'}  "
      ]
     },
     "execution_count": 86,
     "metadata": {},
     "output_type": "execute_result"
    }
   ],
   "source": [
    "final_accuracy_GRID.head(10)"
   ]
  },
  {
   "cell_type": "code",
   "execution_count": 83,
   "id": "0278e616",
   "metadata": {},
   "outputs": [
    {
     "data": {
      "image/png": "[encoded data removed]",
      "text/plain": [
       "<Figure size 1000x600 with 1 Axes>"
      ]
     },
     "metadata": {},
     "output_type": "display_data"
    }
   ],
   "source": [
    "plt.figure(figsize=(10, 6))\n",
    "plt.plot(final_accuracy_PCA_GRID['Model'], final_accuracy_PCA_GRID['Accuracy(R2)'], marker='o', linestyle='-', color='blue', label='PCA + GridSearch')\n",
    "plt.plot(final_accuracy_GRID['Model'], final_accuracy_GRID['Accuracy(R2)'], marker='o', linestyle='-', color='green', label='GridSearch Only')\n",
    "plt.xlabel('Model', fontsize=12) \n",
    "plt.ylabel('Accuracy', fontsize=12)\n",
    "plt.title('Comparison of Accuracy: (PCA + GridSearch) and (GridSearch Only)', fontsize=18)\n",
    "plt.xticks(rotation=45, fontsize=10) \n",
    "plt.yticks(fontsize=10) \n",
    "plt.legend(fontsize=10) \n",
    "plt.grid(True)\n",
    "plt.tight_layout()\n",
    "plt.show()"
   ]
  },
  {
   "cell_type": "markdown",
   "id": "87f09ee0",
   "metadata": {},
   "source": [
    "<a id=\"section99\"></a>\n",
    "# References \n",
    "\n",
    "1. Nowlan, B., (2015). Housing Supply in Ireland: Perennial Problems and Sustainable Solutions. Sunday Business Property Conference Paper 25.09.15\n",
    "2. Scuffil, C., (2022). Dublin’s Housing Crisis in Troubled Times. Dublin City Council Libraries Blog. Accessed on 03.09.22 at https://www.dublincity.ie/library/blog/dublins-housing-crisis-troubled-times\n",
    "3. Phan, T. D. (2019) ‘Housing price prediction using machine learning algorithms: The case of Melbourne city, Australia’, Proceedings - International Conference on Machine Learning and Data Engineering, iCMLDE 2018. IEEE, pp. 8–13. DOI: 10.1109/iCMLDE.2018.00017.\n",
    "4. Norris, M. & Byrne, M. (2017) A tale of two busts (and a boom): Irish social housing before and after the global financial crisis, Critical Housing Analysis, 4, pp. 19–28.\n",
    "5. Nowicki, M., Brickell, K. & Harris, E. (2019) The hotelisation of the housing crisis: Experiences of family homelessness in Dublin hotels, The Geographical Journal, 185, pp. 313–324.\n",
    "6. Byrne, M. (2020) Generation rent and the financialization of housing: A comparative exploration of the growth of the private rental sector in Ireland, the UK and Spain, Housing Studies, 35, pp. 743–765.\n",
    "7. Bourassa, S. C., Cantoni, E. and Hoesli, M. (2011) ‘Predicting House Prices with Spatial Dependence:Impacts of Alternative Submarket Definitions’, SSRN Electronic Journal. DOI: 10.2139/ssrn.1090147.\n",
    "8. Aswin S. R (2017), ‘Real Estate Price Prediction Using Machine Learning’ https://norma.ncirl.ie/3096/1/aswinsivamravikumar.pdf\n",
    "9. Hujia Yu and Jiafu Wu., (2016), ' Real Estate Price Prediction with Regression and Classification' https://cs229.stanford.edu/proj2016/report/WuYu_HousingPrice_report.pdf\n",
    "10. Ng, A. (2015). Machine Learning for a London Housing Price Prediction Mobile Application. Imperial College London. http://www.doc.ic.ac.uk/~mpd37/theses/2015_beng_aaron-ng.pdf\n"
   ]
  },
  {
   "cell_type": "markdown",
   "id": "30827f76",
   "metadata": {},
   "source": [
    "***"
   ]
  },
  {
   "cell_type": "markdown",
   "id": "d589cd27",
   "metadata": {},
   "source": [
    "<a id=\"git\"></a>"
   ]
  },
  {
   "cell_type": "markdown",
   "id": "6126d1f6",
   "metadata": {},
   "source": [
    "### Author: Ilia Grishkin\n",
    "#### https://github.com/Ilia-Grishkin/Machine_learning\n",
    "### <center>Change log</center>"
   ]
  },
  {
   "cell_type": "markdown",
   "id": "31e3a127",
   "metadata": {},
   "source": [
    "|  Date | Change Description | Changed By  |  Status |\n",
    "|---|---|---|---|\n",
    "| 19.03.2024  | Created title, structure | Ilia  |   |\n",
    "| 20.03.2024   | Created intoduction | Ilia |  Pushed |\n",
    "| 21.03.2024   | Created literate review, content| Ilia |  Pushed |\n",
    "| 22.03.2024   | Add data sourse | Ilia |  Pushed |\n",
    "| 24.03.2024   | Methods selection | Ilia |  Pushed |\n",
    "| 24.03.2024   | Liniar regressions | Ilia |  Pushed |\n",
    "| 24.03.2024   | SVM | Ilia |  Planned |\n",
    "| 24.03.2024   | Random forest | Ilia |  Pushed |\n",
    "| 31.03.2024   | GridSearchCV | Ilia |  Pushed |\n",
    "| 01.04.2024   | KNN | Ilia |  Pushed |"
   ]
  },
  {
   "cell_type": "code",
   "execution_count": null,
   "id": "d7ab44bf",
   "metadata": {},
   "outputs": [],
   "source": []
  }
 ],
 "metadata": {
  "kernelspec": {
   "display_name": "Python 3 (ipykernel)",
   "language": "python",
   "name": "python3"
  },
  "language_info": {
   "codemirror_mode": {
    "name": "ipython",
    "version": 3
   },
   "file_extension": ".py",
   "mimetype": "text/x-python",
   "name": "python",
   "nbconvert_exporter": "python",
   "pygments_lexer": "ipython3",
   "version": "3.9.13"
  }
 },
 "nbformat": 4,
 "nbformat_minor": 5
}
